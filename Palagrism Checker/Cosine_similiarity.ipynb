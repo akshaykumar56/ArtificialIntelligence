{
 "cells": [
  {
   "cell_type": "code",
   "execution_count": 4,
   "id": "c0e4d59f",
   "metadata": {},
   "outputs": [],
   "source": [
    "from sklearn.metrics.pairwise import cosine_similarity\n",
    "import numpy as np"
   ]
  },
  {
   "cell_type": "markdown",
   "id": "edfe794c",
   "metadata": {},
   "source": [
    "###  In order to demonstrate the cosine similarity function, we need vectors. Here vectors are NumPy array. Let’s create NumPy array."
   ]
  },
  {
   "cell_type": "code",
   "execution_count": 24,
   "id": "e0fa24d2",
   "metadata": {},
   "outputs": [],
   "source": [
    "array_vec_1 = np.array([[12,41,60,11,21]])\n",
    "array_vec_3 = np.array([[12,41,60,11,21]])\n",
    "array_vec_2 = np.array([[40,11,4,11,14]]) \n",
    "array_vec_4 = np.array([[5,5,5,5,5]])"
   ]
  },
  {
   "cell_type": "markdown",
   "id": "8771ae3e",
   "metadata": {},
   "source": [
    "### Finally, Once we have vectors, We can call cosine_similarity() by passing both vectors. It will calculate the cosine similarity between these two. It will be a value between [0,1]. If it is 0 then both vectors are completely different. But in the place of that, if it is 1, It will be completely similar."
   ]
  },
  {
   "cell_type": "code",
   "execution_count": 25,
   "id": "e19c9444",
   "metadata": {},
   "outputs": [
    {
     "data": {
      "text/plain": [
       "array([[0.45227058]])"
      ]
     },
     "execution_count": 25,
     "metadata": {},
     "output_type": "execute_result"
    }
   ],
   "source": [
    "cosine_similarity(array_vec_1 , array_vec_2)"
   ]
  },
  {
   "cell_type": "code",
   "execution_count": 26,
   "id": "5295d0ae",
   "metadata": {},
   "outputs": [
    {
     "data": {
      "text/plain": [
       "array([[1.]])"
      ]
     },
     "execution_count": 26,
     "metadata": {},
     "output_type": "execute_result"
    }
   ],
   "source": [
    "cosine_similarity(array_vec_1 , array_vec_3)"
   ]
  },
  {
   "cell_type": "code",
   "execution_count": 27,
   "id": "a4da9324",
   "metadata": {},
   "outputs": [
    {
     "data": {
      "text/plain": [
       "array([[0.78941389]])"
      ]
     },
     "execution_count": 27,
     "metadata": {},
     "output_type": "execute_result"
    }
   ],
   "source": [
    "cosine_similarity(array_vec_2 , array_vec_4)"
   ]
  },
  {
   "cell_type": "code",
   "execution_count": null,
   "id": "f178a09a",
   "metadata": {},
   "outputs": [],
   "source": []
  }
 ],
 "metadata": {
  "kernelspec": {
   "display_name": "Python 3 (ipykernel)",
   "language": "python",
   "name": "python3"
  },
  "language_info": {
   "codemirror_mode": {
    "name": "ipython",
    "version": 3
   },
   "file_extension": ".py",
   "mimetype": "text/x-python",
   "name": "python",
   "nbconvert_exporter": "python",
   "pygments_lexer": "ipython3",
   "version": "3.9.12"
  }
 },
 "nbformat": 4,
 "nbformat_minor": 5
}
