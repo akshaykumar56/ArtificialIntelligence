{
 "cells": [
  {
   "cell_type": "code",
   "execution_count": 2,
   "id": "39a94f0c",
   "metadata": {},
   "outputs": [],
   "source": [
    "import pandas as pd\n",
    "from sklearn.feature_extraction.text import TfidfVectorizer"
   ]
  },
  {
   "cell_type": "code",
   "execution_count": 3,
   "id": "d6c0036a",
   "metadata": {},
   "outputs": [],
   "source": [
    "data1 = \"I'm designing a document and don't want to get bogged down in what the text actually says\"\n",
    "data2 = \"I'm creating a template with various paragraph styles and need to see what they will look like.\"\n",
    "data3 = \"I'm trying to learn more about some feature of Microsoft Word and don't want to practice on a real document.\""
   ]
  },
  {
   "cell_type": "code",
   "execution_count": 4,
   "id": "b9594187",
   "metadata": {},
   "outputs": [],
   "source": [
    "df1 = pd.DataFrame({'First_Para': [data1], 'Second_Para': [data2], 'Third_Para': [data2]})"
   ]
  },
  {
   "cell_type": "code",
   "execution_count": 5,
   "id": "8db6dfb3",
   "metadata": {},
   "outputs": [
    {
     "data": {
      "text/html": [
       "<div>\n",
       "<style scoped>\n",
       "    .dataframe tbody tr th:only-of-type {\n",
       "        vertical-align: middle;\n",
       "    }\n",
       "\n",
       "    .dataframe tbody tr th {\n",
       "        vertical-align: top;\n",
       "    }\n",
       "\n",
       "    .dataframe thead th {\n",
       "        text-align: right;\n",
       "    }\n",
       "</style>\n",
       "<table border=\"1\" class=\"dataframe\">\n",
       "  <thead>\n",
       "    <tr style=\"text-align: right;\">\n",
       "      <th></th>\n",
       "      <th>First_Para</th>\n",
       "      <th>Second_Para</th>\n",
       "      <th>Third_Para</th>\n",
       "    </tr>\n",
       "  </thead>\n",
       "  <tbody>\n",
       "    <tr>\n",
       "      <th>0</th>\n",
       "      <td>I'm designing a document and don't want to get...</td>\n",
       "      <td>I'm creating a template with various paragraph...</td>\n",
       "      <td>I'm creating a template with various paragraph...</td>\n",
       "    </tr>\n",
       "  </tbody>\n",
       "</table>\n",
       "</div>"
      ],
      "text/plain": [
       "                                          First_Para  \\\n",
       "0  I'm designing a document and don't want to get...   \n",
       "\n",
       "                                         Second_Para  \\\n",
       "0  I'm creating a template with various paragraph...   \n",
       "\n",
       "                                          Third_Para  \n",
       "0  I'm creating a template with various paragraph...  "
      ]
     },
     "execution_count": 5,
     "metadata": {},
     "output_type": "execute_result"
    }
   ],
   "source": [
    "df1"
   ]
  },
  {
   "cell_type": "code",
   "execution_count": 15,
   "id": "2b172a04",
   "metadata": {},
   "outputs": [],
   "source": [
    "tfidf_vectorizer = TfidfVectorizer()"
   ]
  },
  {
   "cell_type": "code",
   "execution_count": 19,
   "id": "e490b5af",
   "metadata": {},
   "outputs": [
    {
     "data": {
      "text/plain": [
       "<3x27 sparse matrix of type '<class 'numpy.float64'>'\n",
       "\twith 45 stored elements in Compressed Sparse Row format>"
      ]
     },
     "execution_count": 19,
     "metadata": {},
     "output_type": "execute_result"
    }
   ],
   "source": [
    "# 0 is used because only one row is there in DataFrame\n",
    "doc_vec = tfidf_vectorizer.fit_transform(df1.iloc[0])\n",
    "doc_vec"
   ]
  },
  {
   "cell_type": "code",
   "execution_count": 20,
   "id": "487c3e79",
   "metadata": {},
   "outputs": [
    {
     "name": "stderr",
     "output_type": "stream",
     "text": [
      "C:\\Users\\kshyk\\anaconda3\\lib\\site-packages\\sklearn\\utils\\deprecation.py:87: FutureWarning: Function get_feature_names is deprecated; get_feature_names is deprecated in 1.0 and will be removed in 1.2. Please use get_feature_names_out instead.\n",
      "  warnings.warn(msg, category=FutureWarning)\n"
     ]
    }
   ],
   "source": [
    "df2 = pd.DataFrame(doc_vec.toarray().transpose(),\n",
    "                   index=tfidf_vectorizer.get_feature_names())"
   ]
  },
  {
   "cell_type": "code",
   "execution_count": 21,
   "id": "bca9f3ff",
   "metadata": {},
   "outputs": [
    {
     "name": "stdout",
     "output_type": "stream",
     "text": [
      "           First_Para  Second_Para  Third_Para\n",
      "actually     0.276856     0.000000    0.000000\n",
      "and          0.163515     0.208981    0.208981\n",
      "bogged       0.276856     0.000000    0.000000\n",
      "creating     0.000000     0.269101    0.269101\n",
      "designing    0.276856     0.000000    0.000000\n",
      "document     0.276856     0.000000    0.000000\n",
      "don          0.276856     0.000000    0.000000\n",
      "down         0.276856     0.000000    0.000000\n",
      "get          0.276856     0.000000    0.000000\n",
      "in           0.276856     0.000000    0.000000\n",
      "like         0.000000     0.269101    0.269101\n",
      "look         0.000000     0.269101    0.269101\n",
      "need         0.000000     0.269101    0.269101\n",
      "paragraph    0.000000     0.269101    0.269101\n",
      "says         0.276856     0.000000    0.000000\n",
      "see          0.000000     0.269101    0.269101\n",
      "styles       0.000000     0.269101    0.269101\n",
      "template     0.000000     0.269101    0.269101\n",
      "text         0.276856     0.000000    0.000000\n",
      "the          0.276856     0.000000    0.000000\n",
      "they         0.000000     0.269101    0.269101\n",
      "to           0.163515     0.208981    0.208981\n",
      "various      0.000000     0.269101    0.269101\n",
      "want         0.276856     0.000000    0.000000\n",
      "what         0.163515     0.208981    0.208981\n",
      "will         0.000000     0.269101    0.269101\n",
      "with         0.000000     0.269101    0.269101\n"
     ]
    }
   ],
   "source": [
    "df2.columns = df1.columns\n",
    "print(df2)"
   ]
  },
  {
   "cell_type": "code",
   "execution_count": 5,
   "id": "91401d7d",
   "metadata": {},
   "outputs": [],
   "source": [
    "# from sklearn.feature_extraction.text import CountVectorizer\n",
    "# vectorizer = CountVectorizer()\n",
    "# corpus = ['This is the first document.',\n",
    "#           'This document is the second document.',\n",
    "#           'And this is the third one.',\n",
    "#           'Is this the first document?',]\n",
    "# print(type(corpus))\n",
    "# X = vectorizer.fit_transform(corpus)\n",
    "# vectorizer.get_feature_names()"
   ]
  },
  {
   "cell_type": "code",
   "execution_count": null,
   "id": "cd7517fe",
   "metadata": {},
   "outputs": [],
   "source": []
  }
 ],
 "metadata": {
  "kernelspec": {
   "display_name": "Python 3 (ipykernel)",
   "language": "python",
   "name": "python3"
  },
  "language_info": {
   "codemirror_mode": {
    "name": "ipython",
    "version": 3
   },
   "file_extension": ".py",
   "mimetype": "text/x-python",
   "name": "python",
   "nbconvert_exporter": "python",
   "pygments_lexer": "ipython3",
   "version": "3.9.12"
  }
 },
 "nbformat": 4,
 "nbformat_minor": 5
}
