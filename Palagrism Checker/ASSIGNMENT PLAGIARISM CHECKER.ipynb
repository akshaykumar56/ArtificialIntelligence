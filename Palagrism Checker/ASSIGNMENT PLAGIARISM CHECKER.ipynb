{
 "cells": [
  {
   "cell_type": "markdown",
   "id": "348777e2",
   "metadata": {},
   "source": [
    "#                         Assignment Plagiarism Checker"
   ]
  },
  {
   "cell_type": "markdown",
   "id": "3a7255ea",
   "metadata": {},
   "source": [
    "### The OS module in Python provides functions for creating and removing a directory (folder), fetching its contents, changing and identifying the current directory."
   ]
  },
  {
   "cell_type": "code",
   "execution_count": 1,
   "id": "de6cb78d",
   "metadata": {},
   "outputs": [],
   "source": [
    "import os"
   ]
  },
  {
   "cell_type": "markdown",
   "id": "8f6daff6",
   "metadata": {},
   "source": [
    "### Pandas is a Python library used for working with data sets. It has functions for analyzing, cleaning, exploring, and manipulating data."
   ]
  },
  {
   "cell_type": "code",
   "execution_count": 2,
   "id": "efaf166d",
   "metadata": {},
   "outputs": [],
   "source": [
    "import pandas as pd"
   ]
  },
  {
   "cell_type": "markdown",
   "id": "94938832",
   "metadata": {},
   "source": [
    "# TF-IDF\n",
    "### 1. TF-IDF stands for term frequency and inverse document frequency.\n",
    "### 2. It is used to tokenize the documents, learn the vocabulary and inverse the document frequency weightings, and allow to encode new documents\n",
    "### 3. For Example: A vocabulary of 8 words is learned from the given documents and each word is assigned a unique integer index in the output vector.\n",
    "### 4. TF-IDF will transform the text into meaningful representation of integers or numbers which is used to fit machine learning algorithm for predictions.\n",
    "### 5. TF-IDF Vectorizer is a measure of originality of a word by comparing \"the number of times a word appears in document\" with \"the number of documents the word appears in\"\n",
    "### 6. TF-IDF = TF(t, d) x IDF(t), where, TF(t, d) = Number of times term \"t\" appears in a document \"d\". IDF(t) = Inverse document frequency of the term t."
   ]
  },
  {
   "cell_type": "code",
   "execution_count": 3,
   "id": "ca080ca2",
   "metadata": {},
   "outputs": [],
   "source": [
    "from sklearn.feature_extraction.text import TfidfVectorizer"
   ]
  },
  {
   "cell_type": "markdown",
   "id": "a20b469a",
   "metadata": {},
   "source": [
    "#  sklearn cosine similariity\n",
    "\n",
    "### Suppose you have two documents of different sizes. Now how you will compare both the documents or find similarities between them? Cosine Similarity is a metric that allows you to measure the similarity of the documents."
   ]
  },
  {
   "cell_type": "code",
   "execution_count": 4,
   "id": "1410e864",
   "metadata": {},
   "outputs": [],
   "source": [
    "from sklearn.metrics.pairwise import cosine_similarity"
   ]
  },
  {
   "cell_type": "code",
   "execution_count": 5,
   "id": "0a56cb96",
   "metadata": {},
   "outputs": [],
   "source": [
    "student_files=[doc for doc in os.listdir() if doc.endswith('.txt')]"
   ]
  },
  {
   "cell_type": "code",
   "execution_count": 6,
   "id": "8c770f74",
   "metadata": {},
   "outputs": [
    {
     "data": {
      "text/plain": [
       "['Akshay.txt', 'Anjali.txt', 'untitled.txt']"
      ]
     },
     "execution_count": 6,
     "metadata": {},
     "output_type": "execute_result"
    }
   ],
   "source": [
    "student_files"
   ]
  },
  {
   "cell_type": "code",
   "execution_count": 7,
   "id": "f9f3dd3a",
   "metadata": {},
   "outputs": [],
   "source": [
    "student_notes=[open(_file,encoding='utf-8').read() for _file in student_files]"
   ]
  },
  {
   "cell_type": "code",
   "execution_count": 8,
   "id": "96cace26",
   "metadata": {},
   "outputs": [
    {
     "data": {
      "text/plain": [
       "['Life is defined as any system capable of performing \\nfunctions such as eating, metabolizing, excreting, \\nbreathing, moving, growing, reproducing, and responding to external stimuli.\\nA file with .TXT extension represents a text document that contains plain text in the form of lines. \\nParagraphs in a text document are recognized by carriage returns and are used for better arrangement of file contents. \\nA standard text document can be opened in any text editor or word processing application on different operating systems. \\nAll the text contained in such a file is in human-readable format and represented by sequence of characters.\\nText files can store large amount of data as there is no limitation on the size of contents. \\nHowever, text editors opening such large files need to be smart for loading and displaying these. \\nAlmost all operating systems come with text editors that allow you to create and edit text files. \\nFor example, Windows OS comes with Notepad and Wordpad for this purpose. \\nSimilarly, MacOS comes with TextEdit for creating and editing Text Documents. \\nThere are, however, other free text editors available as well over the internet that provide you the capability to work with Text Documents like Notepad++ which is far more advanced in terms of functionality.\\nThe text file format doesn’t have any special file format specifications. \\nText files have “text/plain” MIME type and have little or no formatting at all. \\nThis enables text editors to open such files without any other requirements. \\nThe default character set of text files is ASCII that is used for creating and display of text file contents. \\nCharacters are encoded using ASCII character set, but this imposes limitation of usage on characters such as Pound Sign, Dollar and Euro sign that can’t be represented using the ASCII character set. \\nThus, text files can also be saved in Unicode format, with UTF-8 being the mostly used.\\nText files on Windows OS consists of several lines where each line is made up of a sequence of characters. \\nEach user implied line is defined by combination of two characters i.e. carriage return (CR) and Line Feed (LF). \\nWindows text files can be in ANSI, OEM, Unicode or UTF-8 encoding. The UTF-16 encoding helps save information in a text file that requires two bytes for representation. \\nSuch files usually begin with Byte Order Mark (BOM) which communicates the endianness of the file content. \\nIt should be noted that other applications on Windows OS can store information in text file format but with different file extensions to represent application specific text.\\nFor example, programming languages usually save code in text file but with their own extensions.\\nLife is a quality that distinguishes matter that has biological processes, such as signaling and self-sustaining processes, from that which does not, and is defined by the capacity for growth, reaction to stimuli, metabolism, energy transformation, and reproduction.\\nVarious forms of life exist, such as plants, animals, fungi, protists, archaea, and bacteria. Biology is the science that studies life.',\n",
       " \"Life is a quality that distinguishes matter that has biological \\nprocesses, such as signaling and self-sustaining processes\\nBiology is the scientific study of life.\\nIt is a natural science with a broad scope but has several unifying themes that tie it together as a single, coherent field.\\nFor instance, all organisms are made up of cells that process hereditary information encoded in genes, which can be transmitted to future generations. \\nAnother major theme is evolution, which explains the unity and diversity of life.\\nEnergy processing is also important to life as it allows organisms to move, grow, and reproduce.\\nFinally, all organisms are able to regulate their own internal environments.\\nBiologists are able to study life at multiple levels of organization, from the molecular biology of a cell to the anatomy and physiology of plants and animals, and evolution of populations.\\nBiologists have sought to study and classify the various forms of life, from prokaryotic organisms such as archaea and bacteria to eukaryotic organisms such as protists, fungi, plants, and animals. \\nThese various organisms contribute to the biodiversity of an ecosystem, where they play specialized roles in the cycling of nutrients and energy through their biophysical environment.\\nThe earliest of roots of science, which included medicine, can be traced to ancient Egypt and Mesopotamia in around 3000 to 1200 BCE.\\nTheir contributions later entered and shaped Greek natural philosophy of classical antiquity.\\nAncient Greek philosophers such as Aristotle (384–322 BCE) contributed extensively to the development of biological knowledge.\\nHis works such as History of Animals were especially important because they revealed his naturalist leanings, and later more empirical works that focused on biological causation and the diversity of life. \\nAristotle's successor at the Lyceum, Theophrastus, wrote a series of books on botany that survived as the most important contribution of antiquity to the plant sciences, even into the Middle Ages.\\nScholars of the medieval Islamic world who wrote on biology included al-Jahiz (781–869), Al-Dīnawarī (828–896), who wrote on botany, and Rhazes (865–925) who wrote on anatomy and physiology. \\nMedicine was especially well studied by Islamic scholars working in Greek philosopher traditions, while natural history drew heavily on Aristotelian thought, especially in upholding a fixed hierarchy of life.\\nBiology began to quickly develop and grow with Anton van Leeuwenhoek's dramatic improvement of the microscope.  \\nInvestigations by Jan Swammerdam led to new interest in entomology and helped to develop the basic techniques of microscopic dissection and staining.\",\n",
       " 'Another major theme is evolution, which explains the unity and diversity of life.\\nEnergy processing is also important to life as it allows organisms to move, grow, and reproduce.\\nFinally, all organisms are able to regulate their own internal environments.\\nBiologists are able to study life at multiple levels of organization, from the molecular biology of a cell to the anatomy and physiology of plants and animals, and evolution of populations.\\nBiologists have sought to study and classify the various forms of life, from prokaryotic organisms such as archaea and bacteria to eukaryotic organisms such as protists, fungi, plants, and animals. \\nThese various organisms contribute to the biodiversity of an ecosystem, where they play specialized roles in the cycling of nutrients and energy through their biophysical environment.']"
      ]
     },
     "execution_count": 8,
     "metadata": {},
     "output_type": "execute_result"
    }
   ],
   "source": [
    "student_notes"
   ]
  },
  {
   "cell_type": "code",
   "execution_count": 9,
   "id": "730a0578",
   "metadata": {},
   "outputs": [
    {
     "data": {
      "text/plain": [
       "str"
      ]
     },
     "execution_count": 9,
     "metadata": {},
     "output_type": "execute_result"
    }
   ],
   "source": [
    "type(student_notes[0])"
   ]
  },
  {
   "cell_type": "code",
   "execution_count": 10,
   "id": "9fc2803b",
   "metadata": {},
   "outputs": [],
   "source": [
    " def vectorize(text):\n",
    "        return TfidfVectorizer().fit_transform(text).toarray()"
   ]
  },
  {
   "cell_type": "code",
   "execution_count": 11,
   "id": "d0447258",
   "metadata": {},
   "outputs": [],
   "source": [
    "def similarity(doc1,doc2):\n",
    "    return cosine_similarity([doc1,doc2])"
   ]
  },
  {
   "cell_type": "code",
   "execution_count": 12,
   "id": "bd69094a",
   "metadata": {},
   "outputs": [],
   "source": [
    "import warnings\n",
    "warnings.filterwarnings('ignore')"
   ]
  },
  {
   "cell_type": "code",
   "execution_count": 13,
   "id": "27aa38e5",
   "metadata": {},
   "outputs": [
    {
     "data": {
      "text/plain": [
       "<3x403 sparse matrix of type '<class 'numpy.float64'>'\n",
       "\twith 537 stored elements in Compressed Sparse Row format>"
      ]
     },
     "execution_count": 13,
     "metadata": {},
     "output_type": "execute_result"
    }
   ],
   "source": [
    "doc_vec = TfidfVectorizer().fit_transform(student_notes)\n",
    "doc_vec"
   ]
  },
  {
   "cell_type": "code",
   "execution_count": 14,
   "id": "010d955b",
   "metadata": {},
   "outputs": [],
   "source": [
    "from sklearn.feature_extraction.text import CountVectorizer\n",
    "vectorizer = CountVectorizer()\n",
    "X = vectorizer.fit_transform(student_notes)\n",
    "vectorizer.get_feature_names()\n",
    "df2 = pd.DataFrame(doc_vec.toarray().transpose(), index=vectorizer.get_feature_names())"
   ]
  },
  {
   "cell_type": "code",
   "execution_count": 15,
   "id": "401d6222",
   "metadata": {},
   "outputs": [
    {
     "name": "stdout",
     "output_type": "stream",
     "text": [
      "         Akshay.txt  Anjali.txt  untitled.txt\n",
      "1200       0.000000    0.032425           0.0\n",
      "16         0.022295    0.000000           0.0\n",
      "3000       0.000000    0.032425           0.0\n",
      "322        0.000000    0.032425           0.0\n",
      "384        0.000000    0.032425           0.0\n",
      "...             ...         ...           ...\n",
      "working    0.000000    0.032425           0.0\n",
      "works      0.000000    0.064850           0.0\n",
      "world      0.000000    0.032425           0.0\n",
      "wrote      0.000000    0.129700           0.0\n",
      "you        0.044590    0.000000           0.0\n",
      "\n",
      "[403 rows x 3 columns]\n"
     ]
    }
   ],
   "source": [
    "# down we can see that there are 716 different words in all the 4 text files\n",
    "df2.columns=student_files\n",
    "print(df2)"
   ]
  },
  {
   "cell_type": "code",
   "execution_count": 16,
   "id": "48c95b9b",
   "metadata": {
    "scrolled": true
   },
   "outputs": [],
   "source": [
    "vectors=vectorize(student_notes)"
   ]
  },
  {
   "cell_type": "code",
   "execution_count": 17,
   "id": "41080792",
   "metadata": {},
   "outputs": [
    {
     "data": {
      "text/plain": [
       "array([[0.        , 0.02229475, 0.        , ..., 0.        , 0.        ,\n",
       "        0.0445895 ],\n",
       "       [0.0324249 , 0.        , 0.0324249 , ..., 0.0324249 , 0.12969961,\n",
       "        0.        ],\n",
       "       [0.        , 0.        , 0.        , ..., 0.        , 0.        ,\n",
       "        0.        ]])"
      ]
     },
     "execution_count": 17,
     "metadata": {},
     "output_type": "execute_result"
    }
   ],
   "source": [
    "vectors"
   ]
  },
  {
   "cell_type": "code",
   "execution_count": 18,
   "id": "5b5fd2c1",
   "metadata": {},
   "outputs": [],
   "source": [
    "s_vectors=list(zip(student_files,vectors))"
   ]
  },
  {
   "cell_type": "code",
   "execution_count": 19,
   "id": "2875b8b2",
   "metadata": {},
   "outputs": [
    {
     "name": "stdout",
     "output_type": "stream",
     "text": [
      "3\n"
     ]
    }
   ],
   "source": [
    "print(len(s_vectors))                                                                                                                                                                                             "
   ]
  },
  {
   "cell_type": "code",
   "execution_count": 20,
   "id": "148c010b",
   "metadata": {},
   "outputs": [
    {
     "data": {
      "text/plain": [
       "[('Akshay.txt',\n",
       "  array([0.        , 0.02229475, 0.        , 0.        , 0.        ,\n",
       "         0.        , 0.        , 0.        , 0.        , 0.        ,\n",
       "         0.        , 0.        , 0.02229475, 0.        , 0.        ,\n",
       "         0.03950292, 0.02229475, 0.        , 0.02229475, 0.01316764,\n",
       "         0.02229475, 0.        , 0.        , 0.        , 0.19751459,\n",
       "         0.01316764, 0.        , 0.02229475, 0.        , 0.        ,\n",
       "         0.08917901, 0.0445895 , 0.02229475, 0.01316764, 0.05267056,\n",
       "         0.        , 0.        , 0.        , 0.02229475, 0.09217348,\n",
       "         0.06688426, 0.01316764, 0.02229475, 0.01316764, 0.        ,\n",
       "         0.        , 0.1017344 , 0.        , 0.        , 0.02229475,\n",
       "         0.02229475, 0.02229475, 0.        , 0.01695573, 0.        ,\n",
       "         0.01316764, 0.        , 0.02229475, 0.        , 0.        ,\n",
       "         0.02229475, 0.        , 0.0508672 , 0.06782293, 0.02229475,\n",
       "         0.02229475, 0.1017344 , 0.02229475, 0.02229475, 0.02229475,\n",
       "         0.0445895 , 0.        , 0.        , 0.        , 0.06688426,\n",
       "         0.11147376, 0.        , 0.        , 0.02229475, 0.        ,\n",
       "         0.02229475, 0.02229475, 0.0445895 , 0.02229475, 0.02229475,\n",
       "         0.02229475, 0.02229475, 0.02229475, 0.06688426, 0.        ,\n",
       "         0.        , 0.        , 0.        , 0.02229475, 0.02229475,\n",
       "         0.0445895 , 0.        , 0.02229475, 0.02229475, 0.06688426,\n",
       "         0.        , 0.        , 0.0445895 , 0.02229475, 0.02229475,\n",
       "         0.        , 0.01695573, 0.        , 0.06688426, 0.0445895 ,\n",
       "         0.02229475, 0.02229475, 0.02229475, 0.        , 0.        ,\n",
       "         0.        , 0.0445895 , 0.        , 0.02229475, 0.        ,\n",
       "         0.02229475, 0.02229475, 0.02229475, 0.08917901, 0.        ,\n",
       "         0.        , 0.02229475, 0.01695573, 0.0445895 , 0.02229475,\n",
       "         0.01316764, 0.        , 0.        , 0.        , 0.        ,\n",
       "         0.        , 0.        , 0.02229475, 0.        , 0.        ,\n",
       "         0.0445895 , 0.02229475, 0.02229475, 0.        , 0.02229475,\n",
       "         0.0445895 , 0.        , 0.02229475, 0.02229475, 0.02229475,\n",
       "         0.        , 0.24524227, 0.22294752, 0.        , 0.        ,\n",
       "         0.        , 0.1526016 , 0.02229475, 0.11147376, 0.02229475,\n",
       "         0.01316764, 0.02229475, 0.01316764, 0.02229475, 0.02229475,\n",
       "         0.01316764, 0.        , 0.        , 0.        , 0.        ,\n",
       "         0.        , 0.02229475, 0.02229475, 0.01695573, 0.03950292,\n",
       "         0.        , 0.        , 0.02229475, 0.        , 0.        ,\n",
       "         0.        , 0.        , 0.0445895 , 0.02229475, 0.02229475,\n",
       "         0.        , 0.02229475, 0.        , 0.14484404, 0.        ,\n",
       "         0.03391147, 0.        , 0.        , 0.        , 0.02229475,\n",
       "         0.        , 0.        , 0.14484404, 0.        , 0.01316764,\n",
       "         0.        , 0.        , 0.        , 0.02229475, 0.0445895 ,\n",
       "         0.        , 0.        , 0.        , 0.        , 0.        ,\n",
       "         0.02229475, 0.05267056, 0.02229475, 0.0445895 , 0.06688426,\n",
       "         0.0445895 , 0.02229475, 0.02229475, 0.        , 0.02229475,\n",
       "         0.01695573, 0.        , 0.02229475, 0.01695573, 0.        ,\n",
       "         0.        , 0.        , 0.02229475, 0.02229475, 0.        ,\n",
       "         0.        , 0.        , 0.02229475, 0.        , 0.01695573,\n",
       "         0.        , 0.02229475, 0.        , 0.02229475, 0.        ,\n",
       "         0.        , 0.        , 0.02229475, 0.        , 0.0445895 ,\n",
       "         0.02229475, 0.02229475, 0.0445895 , 0.        , 0.02229475,\n",
       "         0.21068223, 0.08477867, 0.02229475, 0.02229475, 0.02229475,\n",
       "         0.0445895 , 0.06688426, 0.02229475, 0.        , 0.        ,\n",
       "         0.06688426, 0.06688426, 0.02229475, 0.01316764, 0.02229475,\n",
       "         0.02229475, 0.        , 0.        , 0.        , 0.        ,\n",
       "         0.0445895 , 0.        , 0.01316764, 0.        , 0.        ,\n",
       "         0.02229475, 0.        , 0.03391147, 0.01316764, 0.02229475,\n",
       "         0.        , 0.01316764, 0.02229475, 0.02229475, 0.01695573,\n",
       "         0.        , 0.02229475, 0.02229475, 0.02229475, 0.        ,\n",
       "         0.02229475, 0.02229475, 0.0445895 , 0.02229475, 0.        ,\n",
       "         0.02229475, 0.02229475, 0.02229475, 0.02229475, 0.02229475,\n",
       "         0.02229475, 0.02229475, 0.        , 0.        , 0.        ,\n",
       "         0.        , 0.0445895 , 0.02229475, 0.        , 0.01695573,\n",
       "         0.        , 0.        , 0.        , 0.01695573, 0.0445895 ,\n",
       "         0.        , 0.06688426, 0.01695573, 0.        , 0.02229475,\n",
       "         0.0445895 , 0.01695573, 0.02229475, 0.        , 0.02229475,\n",
       "         0.02229475, 0.        , 0.02229475, 0.        , 0.02229475,\n",
       "         0.02229475, 0.        , 0.02229475, 0.0445895 , 0.0445895 ,\n",
       "         0.        , 0.02229475, 0.        , 0.        , 0.10534112,\n",
       "         0.        , 0.01695573, 0.        , 0.02229475, 0.0445895 ,\n",
       "         0.        , 0.02229475, 0.57966355, 0.02229475, 0.18651307,\n",
       "         0.18434695, 0.01316764, 0.        , 0.        , 0.        ,\n",
       "         0.0445895 , 0.01316764, 0.        , 0.06688426, 0.        ,\n",
       "         0.        , 0.02229475, 0.        , 0.09217348, 0.        ,\n",
       "         0.        , 0.        , 0.02229475, 0.        , 0.0445895 ,\n",
       "         0.02229475, 0.02229475, 0.0445895 , 0.        , 0.        ,\n",
       "         0.01695573, 0.        , 0.02229475, 0.06688426, 0.02229475,\n",
       "         0.0445895 , 0.0445895 , 0.06688426, 0.        , 0.01316764,\n",
       "         0.        , 0.01695573, 0.        , 0.01316764, 0.03950292,\n",
       "         0.        , 0.        , 0.08917901, 0.1526016 , 0.02229475,\n",
       "         0.02229475, 0.02229475, 0.02229475, 0.        , 0.        ,\n",
       "         0.        , 0.        , 0.0445895 ])),\n",
       " ('Anjali.txt',\n",
       "  array([0.0324249 , 0.        , 0.0324249 , 0.0324249 , 0.0324249 ,\n",
       "         0.0324249 , 0.0324249 , 0.0324249 , 0.0324249 , 0.0324249 ,\n",
       "         0.0324249 , 0.04931995, 0.        , 0.0324249 , 0.06484981,\n",
       "         0.03830134, 0.        , 0.02465997, 0.        , 0.01915067,\n",
       "         0.        , 0.02465997, 0.04931995, 0.06484981, 0.36386273,\n",
       "         0.05745201, 0.02465997, 0.        , 0.06484981, 0.0324249 ,\n",
       "         0.        , 0.        , 0.        , 0.01915067, 0.05745201,\n",
       "         0.0324249 , 0.06484981, 0.0324249 , 0.        , 0.15320536,\n",
       "         0.        , 0.03830134, 0.        , 0.01915067, 0.0324249 ,\n",
       "         0.06484981, 0.04931995, 0.0324249 , 0.0324249 , 0.        ,\n",
       "         0.        , 0.        , 0.02465997, 0.07397992, 0.04931995,\n",
       "         0.07660268, 0.02465997, 0.        , 0.0324249 , 0.06484981,\n",
       "         0.        , 0.0324249 , 0.02465997, 0.04931995, 0.        ,\n",
       "         0.        , 0.04931995, 0.        , 0.        , 0.        ,\n",
       "         0.        , 0.0324249 , 0.02465997, 0.0324249 , 0.        ,\n",
       "         0.        , 0.0324249 , 0.02465997, 0.        , 0.0324249 ,\n",
       "         0.        , 0.        , 0.        , 0.        , 0.        ,\n",
       "         0.        , 0.        , 0.        , 0.        , 0.02465997,\n",
       "         0.0324249 , 0.0324249 , 0.0324249 , 0.        , 0.        ,\n",
       "         0.        , 0.02465997, 0.        , 0.        , 0.        ,\n",
       "         0.06484981, 0.0324249 , 0.        , 0.        , 0.        ,\n",
       "         0.0324249 , 0.02465997, 0.04931995, 0.        , 0.        ,\n",
       "         0.        , 0.        , 0.        , 0.0324249 , 0.0324249 ,\n",
       "         0.0324249 , 0.        , 0.0324249 , 0.        , 0.02465997,\n",
       "         0.        , 0.        , 0.        , 0.        , 0.0324249 ,\n",
       "         0.0324249 , 0.        , 0.02465997, 0.        , 0.        ,\n",
       "         0.03830134, 0.0324249 , 0.0324249 , 0.02465997, 0.02465997,\n",
       "         0.09727471, 0.02465997, 0.        , 0.0324249 , 0.04931995,\n",
       "         0.        , 0.        , 0.        , 0.02465997, 0.        ,\n",
       "         0.        , 0.0324249 , 0.        , 0.        , 0.        ,\n",
       "         0.0324249 , 0.        , 0.        , 0.02465997, 0.0324249 ,\n",
       "         0.0324249 , 0.02465997, 0.        , 0.        , 0.        ,\n",
       "         0.01915067, 0.        , 0.03830134, 0.        , 0.        ,\n",
       "         0.01915067, 0.0324249 , 0.0324249 , 0.0324249 , 0.09727471,\n",
       "         0.04931995, 0.        , 0.        , 0.04931995, 0.01915067,\n",
       "         0.0324249 , 0.0324249 , 0.        , 0.0324249 , 0.0324249 ,\n",
       "         0.06484981, 0.06484981, 0.        , 0.        , 0.        ,\n",
       "         0.07397992, 0.        , 0.0324249 , 0.11490402, 0.06484981,\n",
       "         0.02465997, 0.0324249 , 0.0324249 , 0.02465997, 0.        ,\n",
       "         0.0324249 , 0.0324249 , 0.09575335, 0.06484981, 0.05745201,\n",
       "         0.0324249 , 0.0324249 , 0.0324249 , 0.        , 0.        ,\n",
       "         0.06484981, 0.0324249 , 0.0324249 , 0.0324249 , 0.02465997,\n",
       "         0.        , 0.15320536, 0.        , 0.        , 0.        ,\n",
       "         0.        , 0.        , 0.        , 0.0324249 , 0.        ,\n",
       "         0.02465997, 0.02465997, 0.        , 0.02465997, 0.06484981,\n",
       "         0.0324249 , 0.0324249 , 0.        , 0.        , 0.0324249 ,\n",
       "         0.0324249 , 0.0324249 , 0.        , 0.02465997, 0.02465997,\n",
       "         0.0324249 , 0.        , 0.02465997, 0.        , 0.02465997,\n",
       "         0.09727471, 0.0324249 , 0.        , 0.0324249 , 0.        ,\n",
       "         0.        , 0.        , 0.        , 0.02465997, 0.        ,\n",
       "         0.42131474, 0.14795985, 0.        , 0.        , 0.        ,\n",
       "         0.        , 0.        , 0.        , 0.14795985, 0.02465997,\n",
       "         0.        , 0.        , 0.        , 0.01915067, 0.        ,\n",
       "         0.        , 0.0324249 , 0.0324249 , 0.0324249 , 0.04931995,\n",
       "         0.        , 0.0324249 , 0.03830134, 0.02465997, 0.02465997,\n",
       "         0.        , 0.0324249 , 0.04931995, 0.01915067, 0.        ,\n",
       "         0.02465997, 0.01915067, 0.        , 0.        , 0.02465997,\n",
       "         0.0324249 , 0.        , 0.        , 0.        , 0.02465997,\n",
       "         0.        , 0.        , 0.        , 0.        , 0.02465997,\n",
       "         0.        , 0.        , 0.        , 0.        , 0.        ,\n",
       "         0.        , 0.        , 0.0324249 , 0.0324249 , 0.02465997,\n",
       "         0.0324249 , 0.        , 0.        , 0.06484981, 0.04931995,\n",
       "         0.0324249 , 0.0324249 , 0.0324249 , 0.02465997, 0.        ,\n",
       "         0.0324249 , 0.        , 0.02465997, 0.0324249 , 0.        ,\n",
       "         0.        , 0.02465997, 0.        , 0.0324249 , 0.        ,\n",
       "         0.        , 0.02465997, 0.        , 0.02465997, 0.        ,\n",
       "         0.        , 0.0324249 , 0.        , 0.        , 0.        ,\n",
       "         0.0324249 , 0.        , 0.07397992, 0.0324249 , 0.09575335,\n",
       "         0.0324249 , 0.02465997, 0.0324249 , 0.        , 0.        ,\n",
       "         0.0324249 , 0.        , 0.        , 0.        , 0.14795985,\n",
       "         0.32556139, 0.05745201, 0.02465997, 0.0324249 , 0.0324249 ,\n",
       "         0.        , 0.01915067, 0.04931995, 0.        , 0.0324249 ,\n",
       "         0.02465997, 0.        , 0.0324249 , 0.30641072, 0.0324249 ,\n",
       "         0.0324249 , 0.0324249 , 0.        , 0.0324249 , 0.        ,\n",
       "         0.        , 0.        , 0.        , 0.0324249 , 0.02465997,\n",
       "         0.02465997, 0.0324249 , 0.        , 0.        , 0.        ,\n",
       "         0.        , 0.        , 0.        , 0.0324249 , 0.03830134,\n",
       "         0.0324249 , 0.02465997, 0.0324249 , 0.01915067, 0.05745201,\n",
       "         0.0324249 , 0.09727471, 0.        , 0.04931995, 0.        ,\n",
       "         0.        , 0.        , 0.        , 0.0324249 , 0.06484981,\n",
       "         0.0324249 , 0.12969961, 0.        ])),\n",
       " ('untitled.txt',\n",
       "  array([0.        , 0.        , 0.        , 0.        , 0.        ,\n",
       "         0.        , 0.        , 0.        , 0.        , 0.        ,\n",
       "         0.        , 0.12042986, 0.        , 0.        , 0.        ,\n",
       "         0.04676226, 0.        , 0.06021493, 0.        , 0.04676226,\n",
       "         0.        , 0.06021493, 0.06021493, 0.        , 0.42086038,\n",
       "         0.09352453, 0.06021493, 0.        , 0.        , 0.        ,\n",
       "         0.        , 0.        , 0.        , 0.04676226, 0.09352453,\n",
       "         0.        , 0.        , 0.        , 0.        , 0.14028679,\n",
       "         0.        , 0.04676226, 0.        , 0.04676226, 0.        ,\n",
       "         0.        , 0.        , 0.        , 0.        , 0.        ,\n",
       "         0.        , 0.        , 0.06021493, 0.        , 0.12042986,\n",
       "         0.04676226, 0.06021493, 0.        , 0.        , 0.        ,\n",
       "         0.        , 0.        , 0.        , 0.        , 0.        ,\n",
       "         0.        , 0.        , 0.        , 0.        , 0.        ,\n",
       "         0.        , 0.        , 0.06021493, 0.        , 0.        ,\n",
       "         0.        , 0.        , 0.06021493, 0.        , 0.        ,\n",
       "         0.        , 0.        , 0.        , 0.        , 0.        ,\n",
       "         0.        , 0.        , 0.        , 0.        , 0.06021493,\n",
       "         0.        , 0.        , 0.        , 0.        , 0.        ,\n",
       "         0.        , 0.06021493, 0.        , 0.        , 0.        ,\n",
       "         0.        , 0.        , 0.        , 0.        , 0.        ,\n",
       "         0.        , 0.        , 0.06021493, 0.        , 0.        ,\n",
       "         0.        , 0.        , 0.        , 0.        , 0.        ,\n",
       "         0.        , 0.        , 0.        , 0.        , 0.06021493,\n",
       "         0.        , 0.        , 0.        , 0.        , 0.        ,\n",
       "         0.        , 0.        , 0.        , 0.        , 0.        ,\n",
       "         0.09352453, 0.        , 0.        , 0.06021493, 0.06021493,\n",
       "         0.        , 0.06021493, 0.        , 0.        , 0.12042986,\n",
       "         0.        , 0.        , 0.        , 0.06021493, 0.        ,\n",
       "         0.        , 0.        , 0.        , 0.        , 0.        ,\n",
       "         0.        , 0.        , 0.        , 0.06021493, 0.        ,\n",
       "         0.        , 0.        , 0.        , 0.        , 0.        ,\n",
       "         0.04676226, 0.        , 0.09352453, 0.        , 0.        ,\n",
       "         0.04676226, 0.        , 0.        , 0.        , 0.        ,\n",
       "         0.06021493, 0.        , 0.        , 0.        , 0.04676226,\n",
       "         0.        , 0.        , 0.        , 0.        , 0.        ,\n",
       "         0.        , 0.        , 0.        , 0.        , 0.        ,\n",
       "         0.06021493, 0.        , 0.        , 0.04676226, 0.        ,\n",
       "         0.        , 0.        , 0.        , 0.06021493, 0.        ,\n",
       "         0.        , 0.        , 0.09352453, 0.        , 0.04676226,\n",
       "         0.        , 0.        , 0.        , 0.        , 0.        ,\n",
       "         0.        , 0.        , 0.        , 0.        , 0.06021493,\n",
       "         0.        , 0.18704906, 0.        , 0.        , 0.        ,\n",
       "         0.        , 0.        , 0.        , 0.        , 0.        ,\n",
       "         0.        , 0.06021493, 0.        , 0.        , 0.        ,\n",
       "         0.        , 0.        , 0.        , 0.        , 0.        ,\n",
       "         0.        , 0.        , 0.        , 0.06021493, 0.        ,\n",
       "         0.        , 0.        , 0.06021493, 0.        , 0.06021493,\n",
       "         0.        , 0.        , 0.        , 0.        , 0.        ,\n",
       "         0.        , 0.        , 0.        , 0.06021493, 0.        ,\n",
       "         0.37409812, 0.        , 0.        , 0.        , 0.        ,\n",
       "         0.        , 0.        , 0.        , 0.30107465, 0.06021493,\n",
       "         0.        , 0.        , 0.        , 0.04676226, 0.        ,\n",
       "         0.        , 0.        , 0.        , 0.        , 0.06021493,\n",
       "         0.        , 0.        , 0.09352453, 0.06021493, 0.06021493,\n",
       "         0.        , 0.        , 0.        , 0.04676226, 0.        ,\n",
       "         0.06021493, 0.04676226, 0.        , 0.        , 0.        ,\n",
       "         0.        , 0.        , 0.        , 0.        , 0.06021493,\n",
       "         0.        , 0.        , 0.        , 0.        , 0.06021493,\n",
       "         0.        , 0.        , 0.        , 0.        , 0.        ,\n",
       "         0.        , 0.        , 0.        , 0.        , 0.06021493,\n",
       "         0.        , 0.        , 0.        , 0.        , 0.        ,\n",
       "         0.        , 0.        , 0.        , 0.        , 0.        ,\n",
       "         0.        , 0.        , 0.        , 0.        , 0.        ,\n",
       "         0.        , 0.        , 0.        , 0.        , 0.        ,\n",
       "         0.        , 0.06021493, 0.        , 0.06021493, 0.        ,\n",
       "         0.        , 0.        , 0.        , 0.        , 0.        ,\n",
       "         0.        , 0.        , 0.12042986, 0.        , 0.09352453,\n",
       "         0.        , 0.        , 0.        , 0.        , 0.        ,\n",
       "         0.        , 0.        , 0.        , 0.        , 0.        ,\n",
       "         0.28057359, 0.09352453, 0.06021493, 0.        , 0.        ,\n",
       "         0.        , 0.04676226, 0.06021493, 0.        , 0.        ,\n",
       "         0.06021493, 0.        , 0.        , 0.37409812, 0.        ,\n",
       "         0.        , 0.        , 0.        , 0.        , 0.        ,\n",
       "         0.        , 0.        , 0.        , 0.        , 0.06021493,\n",
       "         0.        , 0.        , 0.        , 0.        , 0.        ,\n",
       "         0.        , 0.        , 0.        , 0.        , 0.09352453,\n",
       "         0.        , 0.        , 0.        , 0.04676226, 0.04676226,\n",
       "         0.        , 0.        , 0.        , 0.        , 0.        ,\n",
       "         0.        , 0.        , 0.        , 0.        , 0.        ,\n",
       "         0.        , 0.        , 0.        ]))]"
      ]
     },
     "execution_count": 20,
     "metadata": {},
     "output_type": "execute_result"
    }
   ],
   "source": [
    "s_vectors"
   ]
  },
  {
   "cell_type": "code",
   "execution_count": 21,
   "id": "37b1b046",
   "metadata": {},
   "outputs": [],
   "source": [
    "plagiarism_results=set()"
   ]
  },
  {
   "cell_type": "code",
   "execution_count": 22,
   "id": "78e81bed",
   "metadata": {},
   "outputs": [
    {
     "name": "stdout",
     "output_type": "stream",
     "text": [
      "set()\n"
     ]
    }
   ],
   "source": [
    "print(plagiarism_results)"
   ]
  },
  {
   "cell_type": "code",
   "execution_count": 23,
   "id": "3d4c6ce4",
   "metadata": {},
   "outputs": [],
   "source": [
    "# def check_plagiarism():\n",
    "#     global s_vectors\n",
    "#     for student_a,text_vector_a in s_vectors:\n",
    "#         new_vectors=s_vectors.copy()\n",
    "#         current_index = new_vectors.index((student_a,text_vector_a))\n",
    "# #         print(current_index)\n",
    "#         del new_vectors[current_index]\n",
    "#         for student_b,text_vector_b in new_vectors:\n",
    "#             sim_score=similarity(text_vector_a,text_vector_b)[0][1]\n",
    "#             print(similarity(text_vector_a,text_vector_b)[0][1])\n",
    "#             student_pair=sorted((student_a,student_b))\n",
    "#             print(similarity(text_vector_a,text_vector_b))\n",
    "# #             print(student_pair)\n",
    "#             score=(student_pair[0],student_pair[1],sim_score)\n",
    "#             plagiarism_results.add(score)\n",
    "# #             plagiarism_results.add(score)\n",
    "#     return plagiarism_results"
   ]
  },
  {
   "cell_type": "code",
   "execution_count": 24,
   "id": "7906cbc4",
   "metadata": {},
   "outputs": [],
   "source": [
    "# for data in check_plagiarism():\n",
    "#     print(data)"
   ]
  },
  {
   "cell_type": "code",
   "execution_count": 25,
   "id": "1acbef30",
   "metadata": {},
   "outputs": [],
   "source": [
    "# print(check_plagiarism())"
   ]
  },
  {
   "cell_type": "code",
   "execution_count": 26,
   "id": "733a068e",
   "metadata": {},
   "outputs": [],
   "source": [
    "\n",
    "# print('████░░░░░ 45%')\n",
    "# print('████░░░░░ 45%')"
   ]
  },
  {
   "cell_type": "code",
   "execution_count": null,
   "id": "080cab6f",
   "metadata": {},
   "outputs": [],
   "source": []
  },
  {
   "cell_type": "code",
   "execution_count": 27,
   "id": "25bc1aad",
   "metadata": {},
   "outputs": [
    {
     "name": "stdout",
     "output_type": "stream",
     "text": [
      "3\n",
      "3\n",
      "3\n"
     ]
    }
   ],
   "source": [
    "###### plagiarism_results=set()\n",
    "\n",
    "\n",
    "import math\n",
    "def getProgressAsStringProgressBar(progress):#(1.0)\n",
    "    progressBar=str()\n",
    "    for i in range(10):\n",
    "        if(i<int(progress * 10)+1):    \n",
    "            progressBar += '█'\n",
    "        else:\n",
    "            progressBar += '░'\n",
    "    progressBar +='\\t' + str(math.trunc(progress * 100)) + '%'\n",
    "    \n",
    "    return progressBar\n",
    "\n",
    "\n",
    "\n",
    "\n",
    "import tkinter as tk\n",
    "from tkinter import *\n",
    "from tkinter import colorchooser\n",
    "window = Tk()\n",
    "window.title('Plagiarism Checker')\n",
    "window.configure(background='light pink')\n",
    "import tkinter.font as tkFont\n",
    "window.state('zoomed')\n",
    "\n",
    "\n",
    "def check_plagiarism():\n",
    "    print(len(s_vectors))\n",
    "    for student_a,text_vector_a in s_vectors:\n",
    "        for student_b,text_vector_b in s_vectors:\n",
    "            if(student_a==student_b):\n",
    "                pass\n",
    "            else:\n",
    "                progress = getProgressAsStringProgressBar(similarity(text_vector_a,text_vector_b)[0][1])\n",
    "                #plagiarism_results.add((student_a,student_b,similarity(text_vector_a,text_vector_b)[0][1]))\n",
    "                plagiarism_results.add((student_a,student_b,progress))\n",
    "                \n",
    "    r,c=1,1\n",
    "    for i in plagiarism_results:\n",
    "        c=1\n",
    "        for j in range(3):\n",
    "            w = tk.Label(window, text=i[j],fg='purple2',bg='light pink',width=20,pady=8,padx=70,font=helv36,anchor='w',justify=LEFT, wraplength=300)\n",
    "            w.grid(row=3+r,column=c)\n",
    "            c+=1\n",
    "        r+=1\n",
    "      \n",
    "    \n",
    "\n",
    "tool_bar = Frame(window, width=180, height=170, bg='light pink')\n",
    "tool_bar.grid()\n",
    "\n",
    "helv36 = tkFont.Font(family=\"Helvetica\",size=13,weight=\"bold\")\n",
    "\n",
    "myButton = Button(window,text='Check Plagiarism',command=check_plagiarism,font=helv36 ,fg='blue',bg='coral', pady=20,padx=60,anchor='n')\n",
    "myButton.place(x=650,y=70,anchor='c')\n",
    "\n",
    "\n",
    "# tool_bar = Frame(window, width=180, height=75)\n",
    "# tool_bar.grid()\n",
    "\n",
    "\n",
    "window.mainloop()"
   ]
  },
  {
   "cell_type": "code",
   "execution_count": 28,
   "id": "4495dac6",
   "metadata": {},
   "outputs": [],
   "source": [
    "#     r,c=1,1\n",
    "#     for i in plagiarism_results:\n",
    "#         c=1\n",
    "#         for j in range(3):\n",
    "#             w = tk.Label(window, text=i[j],fg='yellow',bg='blue',width=20,pady=8,padx=70,font=helv36,anchor='w',justify=LEFT, wraplength=300)\n",
    "#             w.grid(row=3+r,column=c)\n",
    "#             c+=1\n",
    "#         r+=1\n",
    "     \n",
    "    \n",
    "# helv36 = tkFont.Font(family=\"Helvetica\",size=15,weight=\"bold\")"
   ]
  },
  {
   "cell_type": "code",
   "execution_count": 29,
   "id": "ee9bc5cc",
   "metadata": {},
   "outputs": [],
   "source": [
    "def upload_file():\n",
    "    file = filedialog.askopenfilename()\n",
    "    if file: # user selected one file \n",
    "        fob=open(file,'r')\n",
    "        print(fob.read())\n",
    "        #file = filedialog.askopenfile()\n",
    "        #print(file.read())\n",
    "    else: # user cancel the file browser window\n",
    "        print(\"No file chosen\")"
   ]
  },
  {
   "cell_type": "code",
   "execution_count": 34,
   "id": "61e72abb",
   "metadata": {},
   "outputs": [],
   "source": [
    "import tkinter as tk\n",
    "from tkinter import *\n",
    "from tkinter import filedialog\n",
    "\n",
    "import pandas as pd\n",
    "\n",
    "\n",
    "import math\n",
    "\n",
    "from tkinter.filedialog import askopenfile\n",
    "from sklearn.feature_extraction.text import TfidfVectorizer\n",
    "from sklearn.metrics.pairwise import cosine_similarity\n",
    "\n",
    "window = tk.Tk()  \n",
    "window.state('zoomed')\n",
    "window.title('Plagiarism Checker')\n",
    "font1=('times', 18, 'bold')\n",
    "\n",
    "l1 = tk.Label(window,text='Upload File & read',width=30,font=font1)  \n",
    "l1.place(x=650,y=70,anchor='n')\n",
    "\n",
    "\n",
    "def getProgressAsStringProgressBar(progress):\n",
    "    progressBar=str()\n",
    "    for i in range(10):\n",
    "        if(i<int(progress * 10)+1):    \n",
    "            progressBar += '█'\n",
    "        else:\n",
    "            progressBar += '░'\n",
    "    progressBar +='\\t' + str(math.trunc(progress * 100)) + '%'\n",
    "    \n",
    "    return progressBar\n",
    "\n",
    "def upload_file1():\n",
    "    file = filedialog.askopenfilename(filetypes = [('All Files', '*.*'), \n",
    "             ('PDF Files', '*.pdf'),\n",
    "             ('Text Document', '*.txt'),\n",
    "              ('CSV files',\"*.csv\")])\n",
    "    \n",
    "    fob=open(file,'r',encoding='utf-8')\n",
    "    File1=fob.read()\n",
    "#     print(File1)\n",
    "    return File1\n",
    "\n",
    "# button to upload first file\n",
    "b1 = tk.Button(window, text='Upload First File',width=20,height=3,command = upload_file1,font=font1,bg='snow3').place(x=400,y=140,anchor='n') \n",
    "\n",
    "def upload_file2():\n",
    "    file = filedialog.askopenfilename(filetypes = [('All Files', '*.*'), \n",
    "             ('PDF Files', '*.pdf'),\n",
    "             ('Text Document', '*.txt'),\n",
    "              ('CSV files',\"*.csv\")])\n",
    "    fob=open(file,'r',encoding='utf-8')\n",
    "    File2=fob.read()\n",
    "#     print(File2)\n",
    "    return File2\n",
    "\n",
    "\n",
    "# button to upload second file\n",
    "b2 = tk.Button(window, text='Upload Second File',width=20,height=3,command = upload_file2,font=font1,bg='snow3').place(x=850,y=140,anchor='n')\n",
    "\n",
    "def vectorize(text):\n",
    "    return TfidfVectorizer().fit_transform(text).toarray()\n",
    "\n",
    "def similarity(doc1,doc2):\n",
    "    return cosine_similarity([doc1,doc2])\n",
    "\n",
    "def akshay():\n",
    "    df1 = pd.DataFrame({'First_File': [upload_file1()], 'Second_File': [upload_file2()]})\n",
    "    print(df1)\n",
    "    tfidf_vectorizer = TfidfVectorizer()\n",
    "\n",
    "    doc_vec = tfidf_vectorizer.fit_transform(df1.iloc[0])\n",
    "    doc_vec\n",
    "\n",
    "\n",
    "    df2 = pd.DataFrame(doc_vec.toarray().transpose(),index=tfidf_vectorizer.get_feature_names())\n",
    "\n",
    "    print(df2)\n",
    "\n",
    "    df2.columns = df1.columns\n",
    "    # # print(df2)\n",
    "\n",
    "    z=['First File','Second File']\n",
    "    vectors=vectorize(df1.iloc[0])\n",
    "    # print(vectors)\n",
    "\n",
    "    s_vectors=list(zip(z,vectors))\n",
    "    return s_vectors\n",
    "\n",
    "\n",
    "plagiarism_results=set()\n",
    "\n",
    "def check_plagiarism():\n",
    "    for student_a,text_vector_a in s_vectors:\n",
    "        for student_b,text_vector_b in s_vectors:\n",
    "            if(student_a==student_b):\n",
    "                pass\n",
    "            else:\n",
    "                progress = getProgressAsStringProgressBar(similarity(text_vector_a,text_vector_b)[0][1])\n",
    "                #plagiarism_results.add((student_a,student_b,similarity(text_vector_a,text_vector_b)[0][1]))\n",
    "                plagiarism_results.add((student_a,student_b,progress))\n",
    "    r,c=1,1\n",
    "    for i in plagiarism_results:\n",
    "        c=1\n",
    "        for j in range(3):\n",
    "            w = tk.Label(window, text=i[j],fg='purple2',width=18,pady=8,padx=40,anchor='w',justify=LEFT, wraplength=300,font=('times', 20, 'bold'))\n",
    "            w.grid(row=3+r,column=c)\n",
    "            w.place(x=655,y=600,anchor='c')\n",
    "            c+=1\n",
    "        r+=1  \n",
    "        \n",
    "myButton = Button(window,text='Check Plagiarism',command=check_plagiarism ,fg='blue',bg='red', pady=20,padx=60,anchor='n',font=font1)\n",
    "myButton.place(x=650,y=350,anchor='c')\n",
    "                \n",
    "\n",
    "window.mainloop()  # Keep the window open"
   ]
  },
  {
   "cell_type": "code",
   "execution_count": 36,
   "id": "b6da26a6",
   "metadata": {},
   "outputs": [],
   "source": [
    "fp = open(r'C:\\Users\\kshyk\\Downloads\\Akshay.txt', 'r',encoding='utf-8')\n",
    "d=fp.read()"
   ]
  },
  {
   "cell_type": "code",
   "execution_count": 35,
   "id": "24af6868",
   "metadata": {},
   "outputs": [
    {
     "ename": "FileNotFoundError",
     "evalue": "[Errno 2] No such file or directory: 'E:\\\\plagiarism-checker-master\\\\DataBase File.txt'",
     "output_type": "error",
     "traceback": [
      "\u001b[1;31m---------------------------------------------------------------------------\u001b[0m",
      "\u001b[1;31mFileNotFoundError\u001b[0m                         Traceback (most recent call last)",
      "Input \u001b[1;32mIn [35]\u001b[0m, in \u001b[0;36m<cell line: 35>\u001b[1;34m()\u001b[0m\n\u001b[0;32m     30\u001b[0m     progressBar \u001b[38;5;241m+\u001b[39m\u001b[38;5;241m=\u001b[39m\u001b[38;5;124m'\u001b[39m\u001b[38;5;130;01m\\t\u001b[39;00m\u001b[38;5;124m'\u001b[39m \u001b[38;5;241m+\u001b[39m \u001b[38;5;28mstr\u001b[39m(math\u001b[38;5;241m.\u001b[39mtrunc(progress \u001b[38;5;241m*\u001b[39m \u001b[38;5;241m100\u001b[39m)) \u001b[38;5;241m+\u001b[39m \u001b[38;5;124m'\u001b[39m\u001b[38;5;124m%\u001b[39m\u001b[38;5;124m'\u001b[39m\n\u001b[0;32m     32\u001b[0m     \u001b[38;5;28;01mreturn\u001b[39;00m progressBar\n\u001b[1;32m---> 35\u001b[0m fp \u001b[38;5;241m=\u001b[39m \u001b[38;5;28;43mopen\u001b[39;49m\u001b[43m(\u001b[49m\u001b[38;5;124;43mr\u001b[39;49m\u001b[38;5;124;43m'\u001b[39;49m\u001b[38;5;124;43mE:\u001b[39;49m\u001b[38;5;124;43m\\\u001b[39;49m\u001b[38;5;124;43mplagiarism-checker-master\u001b[39;49m\u001b[38;5;124;43m\\\u001b[39;49m\u001b[38;5;124;43mDataBase File.txt\u001b[39;49m\u001b[38;5;124;43m'\u001b[39;49m\u001b[43m,\u001b[49m\u001b[43m \u001b[49m\u001b[38;5;124;43m'\u001b[39;49m\u001b[38;5;124;43mr\u001b[39;49m\u001b[38;5;124;43m'\u001b[39;49m\u001b[43m,\u001b[49m\u001b[43mencoding\u001b[49m\u001b[38;5;241;43m=\u001b[39;49m\u001b[38;5;124;43m'\u001b[39;49m\u001b[38;5;124;43mutf-8\u001b[39;49m\u001b[38;5;124;43m'\u001b[39;49m\u001b[43m)\u001b[49m\n\u001b[0;32m     36\u001b[0m d\u001b[38;5;241m=\u001b[39mfp\u001b[38;5;241m.\u001b[39mread()\n\u001b[0;32m     37\u001b[0m \u001b[38;5;28mprint\u001b[39m(d)\n",
      "\u001b[1;31mFileNotFoundError\u001b[0m: [Errno 2] No such file or directory: 'E:\\\\plagiarism-checker-master\\\\DataBase File.txt'"
     ]
    }
   ],
   "source": [
    "import tkinter as tk\n",
    "from tkinter import *\n",
    "from tkinter import filedialog\n",
    "\n",
    "import pandas as pd\n",
    "\n",
    "\n",
    "import math\n",
    "\n",
    "from tkinter.filedialog import askopenfile\n",
    "from sklearn.feature_extraction.text import TfidfVectorizer\n",
    "from sklearn.metrics.pairwise import cosine_similarity\n",
    "\n",
    "window = tk.Tk()  \n",
    "window.state('zoomed')\n",
    "window.title('Plagiarism Checker')\n",
    "font1=('times', 18, 'bold')\n",
    "\n",
    "l1 = tk.Label(window,text='Upload File & read',width=30,font=font1)  \n",
    "l1.place(x=650,y=70,anchor='n')\n",
    "\n",
    "\n",
    "def getProgressAsStringProgressBar(progress):\n",
    "    progressBar=str()\n",
    "    for i in range(10):\n",
    "        if(i<int(progress * 10)+1):    \n",
    "            progressBar += '█'\n",
    "        else:\n",
    "            progressBar += '░'\n",
    "    progressBar +='\\t' + str(math.trunc(progress * 100)) + '%'\n",
    "    \n",
    "    return progressBar\n",
    "\n",
    "\n",
    "fp = open(r'E:\\plagiarism-checker-master\\DataBase File.txt', 'r',encoding='utf-8')\n",
    "d=fp.read()\n",
    "print(d)\n",
    "\n",
    "def upload_file2():\n",
    "    file = filedialog.askopenfilename(filetypes = [('All Files', '*.*'), \n",
    "             ('PDF Files', '*.pdf'),\n",
    "             ('Text Document', '*.txt'),\n",
    "              ('CSV files',\"*.csv\")])\n",
    "    fob=open(file,'r',encoding='utf-8')\n",
    "    File2=fob.read()\n",
    "    return File2\n",
    "\n",
    "\n",
    "def vectorize(text):\n",
    "    return TfidfVectorizer().fit_transform(text).toarray()\n",
    "\n",
    "def similarity(doc1,doc2):\n",
    "    return cosine_similarity([doc1,doc2])\n",
    "\n",
    "\n",
    "df1 = pd.DataFrame({'First_File': [d], 'Second_File': [upload_file2()]})\n",
    "print(df1)\n",
    "tfidf_vectorizer = TfidfVectorizer()\n",
    "\n",
    "doc_vec = tfidf_vectorizer.fit_transform(df1.iloc[0])\n",
    "doc_vec\n",
    "\n",
    "\n",
    "df2 = pd.DataFrame(doc_vec.toarray().transpose(),index=tfidf_vectorizer.get_feature_names())\n",
    "\n",
    "print(df2)\n",
    "\n",
    "df2.columns = df1.columns\n",
    "# # print(df2)\n",
    "\n",
    "z=['First File','Second File']\n",
    "vectors=vectorize(df1.iloc[0])\n",
    "# print(vectors)\n",
    "\n",
    "s_vectors=list(zip(z,vectors))\n",
    "\n",
    "\n",
    "plagiarism_results=set()\n",
    "\n",
    "def check_plagiarism():\n",
    "    for student_a,text_vector_a in s_vectors:\n",
    "        for student_b,text_vector_b in s_vectors:\n",
    "            if(student_a==student_b):\n",
    "                pass\n",
    "            else:\n",
    "                progress = getProgressAsStringProgressBar(similarity(text_vector_a,text_vector_b)[0][1])\n",
    "                #plagiarism_results.add((student_a,student_b,similarity(text_vector_a,text_vector_b)[0][1]))\n",
    "                plagiarism_results.add((student_a,student_b,progress))\n",
    "    r,c=1,1\n",
    "    for i in plagiarism_results:\n",
    "        c=1\n",
    "        for j in range(3):\n",
    "            w = tk.Label(window, text=i[j],fg='purple2',width=18,pady=8,padx=40,anchor='w',justify=LEFT, wraplength=300,font=('times', 20, 'bold'))\n",
    "            w.grid(row=3+r,column=c)\n",
    "            w.place(x=655,y=600,anchor='c')\n",
    "            c+=1\n",
    "        r+=1  \n",
    "        \n",
    "myButton = Button(window,text='Check Plagiarism',command=check_plagiarism ,fg='blue',bg='red', pady=20,padx=60,anchor='n',font=font1)\n",
    "myButton.place(x=650,y=350,anchor='c')\n",
    "                \n",
    "\n",
    "window.mainloop()  # Keep the window open"
   ]
  },
  {
   "cell_type": "code",
   "execution_count": 38,
   "id": "efe383cc",
   "metadata": {},
   "outputs": [],
   "source": [
    "fp = open(r'C:\\Users\\kshyk\\Downloads\\Akshay.txt', 'r',encoding='utf-8')\n",
    "d=fp.read()"
   ]
  },
  {
   "cell_type": "code",
   "execution_count": 51,
   "id": "fda4a1bf",
   "metadata": {},
   "outputs": [
    {
     "name": "stdout",
     "output_type": "stream",
     "text": [
      "Life is defined as any system capable of performing \n",
      "functions such as eating, metabolizing, excreting, \n",
      "breathing, moving, growing, reproducing, and responding to external stimuli.\n",
      "A file with .TXT extension represents a text document that contains plain text in the form of lines. \n",
      "Paragraphs in a text document are recognized by carriage returns and are used for better arrangement of file contents. \n",
      "A standard text document can be opened in any text editor or word processing application on different operating systems. \n",
      "All the text contained in such a file is in human-readable format and represented by sequence of characters.\n",
      "Text files can store large amount of data as there is no limitation on the size of contents. \n",
      "However, text editors opening such large files need to be smart for loading and displaying these. \n",
      "Almost all operating systems come with text editors that allow you to create and edit text files. \n",
      "For example, Windows OS comes with Notepad and Wordpad for this purpose. \n",
      "Similarly, MacOS comes with TextEdit for creating and editing Text Documents. \n",
      "There are, however, other free text editors available as well over the internet that provide you the capability to work with Text Documents like Notepad++ which is far more advanced in terms of functionality.\n",
      "The text file format doesn’t have any special file format specifications. \n",
      "Text files have “text/plain” MIME type and have little or no formatting at all.  \n",
      "Text files on Windows OS consists of several lines where each line is made up of a sequence of characters. \n",
      "Each user implied line is defined by combination of two characters i.e. carriage return (CR) and Line Feed (LF). \n",
      "Windows text files can be in ANSI, OEM, Unicode or UTF-8 encoding. The UTF-16 encoding helps save information in a text file that requires two bytes for representation. \n",
      "Such files usually begin with Byte Order Mark (BOM) which communicates the endianness of the file content. \n",
      "It should be noted that other applications on Windows OS can store information in text file format but with different file extensions to represent application specific text.\n",
      "For example, programming languages usually save code in text file but with their own extensions.\n",
      "Life is a quality that distinguishes matter that has biological processes, such as signaling and self-sustaining processes, from that which does not, and is defined by the capacity for growth, reaction to stimuli, metabolism, energy transformation, and reproduction.\n",
      "Various forms of life exist, such as plants, animals, fungi, protists, archaea, and bacteria. Biology is the science that studies life.\n",
      "                                          First_File  \\\n",
      "0  Life is defined as any system capable of perfo...   \n",
      "\n",
      "                                         Second_File  \n",
      "0  Life is defined as any system capable of perfo...  \n",
      "                 0         1\n",
      "16        0.021921  0.018264\n",
      "advanced  0.021921  0.018264\n",
      "all       0.065764  0.054793\n",
      "allow     0.021921  0.018264\n",
      "almost    0.021921  0.018264\n",
      "...            ...       ...\n",
      "without   0.000000  0.025670\n",
      "word      0.021921  0.018264\n",
      "wordpad   0.021921  0.018264\n",
      "work      0.021921  0.018264\n",
      "you       0.043842  0.036529\n",
      "\n",
      "[233 rows x 2 columns]\n"
     ]
    }
   ],
   "source": []
  },
  {
   "cell_type": "code",
   "execution_count": null,
   "id": "5fb75429",
   "metadata": {},
   "outputs": [],
   "source": []
  },
  {
   "cell_type": "code",
   "execution_count": null,
   "id": "82859ce8",
   "metadata": {},
   "outputs": [],
   "source": []
  },
  {
   "cell_type": "code",
   "execution_count": null,
   "id": "a3309bb7",
   "metadata": {},
   "outputs": [],
   "source": []
  }
 ],
 "metadata": {
  "kernelspec": {
   "display_name": "Python 3 (ipykernel)",
   "language": "python",
   "name": "python3"
  },
  "language_info": {
   "codemirror_mode": {
    "name": "ipython",
    "version": 3
   },
   "file_extension": ".py",
   "mimetype": "text/x-python",
   "name": "python",
   "nbconvert_exporter": "python",
   "pygments_lexer": "ipython3",
   "version": "3.9.12"
  }
 },
 "nbformat": 4,
 "nbformat_minor": 5
}
