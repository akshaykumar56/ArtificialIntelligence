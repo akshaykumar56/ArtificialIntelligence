{
 "cells": [
  {
   "cell_type": "code",
   "execution_count": 1,
   "id": "d094e4b1",
   "metadata": {},
   "outputs": [],
   "source": [
    "import cv2 \n",
    "import os"
   ]
  },
  {
   "cell_type": "code",
   "execution_count": 2,
   "id": "c5d5a8f9",
   "metadata": {},
   "outputs": [
    {
     "name": "stdout",
     "output_type": "stream",
     "text": [
      "<class 'numpy.ndarray'>\n"
     ]
    }
   ],
   "source": [
    "#cascade classifier\n",
    "cascPath=os.path.dirname(cv2.__file__)+\"/data/haarcascade_frontalface_default.xml\"\n",
    "face=cv2.CascadeClassifier(cascPath)\n",
    "img=cv2.imread(\"H.jpg\")\n",
    "gray=cv2.cvtColor(img,cv2.COLOR_BGR2GRAY)\n",
    "faces=face.detectMultiScale(gray)\n",
    "print(type(faces))"
   ]
  },
  {
   "cell_type": "code",
   "execution_count": null,
   "id": "0979ad98",
   "metadata": {},
   "outputs": [
    {
     "name": "stdout",
     "output_type": "stream",
     "text": [
      "[[334  48  80  80]\n",
      " [101 153  58  58]\n",
      " [163  48  62  62]\n",
      " [186 175  76  76]\n",
      " [240 233  62  62]\n",
      " [289 220  69  69]\n",
      " [365 202  72  72]\n",
      " [266 107  64  64]]\n",
      "(8, 4)\n",
      "no. of faces detected:8\n"
     ]
    }
   ],
   "source": [
    "if len(faces)==0:\n",
    "    print(\"no faces found!\")\n",
    "else:\n",
    "    print(faces)\n",
    "    print(faces.shape)\n",
    "    print(\"no. of faces detected:\"+str(faces.shape[0]))\n",
    "    for (x,y,w,h) in faces:\n",
    "        cv2.rectangle(img,(x,y),(x+w,y+h),(0,255,0),1)\n",
    "cv2.putText(img,\"no. of faces detected:\"+str(faces.shape[0]),(0,img.shape[0]-10),cv2.FONT_HERSHEY_TRIPLEX,1,(255,0,0))\n",
    "cv2.imshow('image',img)\n",
    "cv2.waitKey(0)\n",
    "cv2.destroyAllWindows()"
   ]
  }
 ],
 "metadata": {
  "kernelspec": {
   "display_name": "Python 3 (ipykernel)",
   "language": "python",
   "name": "python3"
  },
  "language_info": {
   "codemirror_mode": {
    "name": "ipython",
    "version": 3
   },
   "file_extension": ".py",
   "mimetype": "text/x-python",
   "name": "python",
   "nbconvert_exporter": "python",
   "pygments_lexer": "ipython3",
   "version": "3.9.12"
  }
 },
 "nbformat": 4,
 "nbformat_minor": 5
}
