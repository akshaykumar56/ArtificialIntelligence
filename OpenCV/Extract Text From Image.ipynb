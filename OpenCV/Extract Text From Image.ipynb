{
 "cells": [
  {
   "cell_type": "code",
   "execution_count": 21,
   "id": "fd27af97",
   "metadata": {},
   "outputs": [],
   "source": [
    "from PIL import Image\n",
    "from pytesseract import pytesseract"
   ]
  },
  {
   "cell_type": "code",
   "execution_count": 22,
   "id": "fee3d6ba",
   "metadata": {},
   "outputs": [],
   "source": [
    "path_to_tesseract = r'C:\\Program Files\\Tesseract-OCR\\tesseract.exe'"
   ]
  },
  {
   "cell_type": "code",
   "execution_count": 23,
   "id": "5d8f5eb7",
   "metadata": {},
   "outputs": [],
   "source": [
    "path_to_image='text3.png'\n",
    "pytesseract.tesseract_cmd=path_to_tesseract"
   ]
  },
  {
   "cell_type": "code",
   "execution_count": 24,
   "id": "ac100482",
   "metadata": {},
   "outputs": [],
   "source": [
    "img=Image.open(path_to_image)"
   ]
  },
  {
   "cell_type": "code",
   "execution_count": 25,
   "id": "7ef8359a",
   "metadata": {},
   "outputs": [],
   "source": [
    "img=Image.open(path_to_image)"
   ]
  },
  {
   "cell_type": "code",
   "execution_count": 26,
   "id": "cfac635e",
   "metadata": {},
   "outputs": [
    {
     "name": "stdout",
     "output_type": "stream",
     "text": [
      "Ensure High Contrast\n",
      "for Text Over Images\n",
      "\n",
      "Yet te ect oat\n",
      "epee area\n",
      "\n",
      "fore\n",
      "\n",
      "af\n",
      "\n"
     ]
    }
   ],
   "source": [
    "text = pytesseract.image_to_string(img)\n",
    "print(text)"
   ]
  },
  {
   "cell_type": "code",
   "execution_count": null,
   "id": "4ed73bf8",
   "metadata": {},
   "outputs": [],
   "source": []
  }
 ],
 "metadata": {
  "kernelspec": {
   "display_name": "Python 3 (ipykernel)",
   "language": "python",
   "name": "python3"
  },
  "language_info": {
   "codemirror_mode": {
    "name": "ipython",
    "version": 3
   },
   "file_extension": ".py",
   "mimetype": "text/x-python",
   "name": "python",
   "nbconvert_exporter": "python",
   "pygments_lexer": "ipython3",
   "version": "3.9.12"
  }
 },
 "nbformat": 4,
 "nbformat_minor": 5
}
