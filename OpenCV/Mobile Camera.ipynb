{
 "cells": [
  {
   "cell_type": "code",
   "execution_count": null,
   "id": "290b60ae",
   "metadata": {},
   "outputs": [],
   "source": [
    "# http://192.168.43.23:8080"
   ]
  },
  {
   "cell_type": "code",
   "execution_count": 2,
   "id": "a8429ec2",
   "metadata": {},
   "outputs": [],
   "source": [
    "# import cv2,time"
   ]
  },
  {
   "cell_type": "code",
   "execution_count": 3,
   "id": "1b50f416",
   "metadata": {},
   "outputs": [],
   "source": [
    "# faceCascade = cv2.CascadeClassifier(cv2.data.haarcascades + 'haarcascade_frontalface_default.xml')"
   ]
  },
  {
   "cell_type": "code",
   "execution_count": 6,
   "id": "6da924c5",
   "metadata": {},
   "outputs": [],
   "source": [
    "import cv2\n",
    "\n",
    "# change your IP\n",
    "cap = cv2.VideoCapture('http://192.168.43.23:8080//video')\n",
    "\n",
    "\n",
    "while(cap.isOpened()):\n",
    "\n",
    "    ret, frame = cap.read()\n",
    "\n",
    "    try:\n",
    "        cv2.imshow('temp', cv2.resize(frame, (1000,1000)))\n",
    "\n",
    "        key = cv2.waitKey(1)\n",
    "        if key == ord('q'):\n",
    "            break\n",
    "    except cv2.error:\n",
    "        print(\"Stream ended...\")\n",
    "        break\n",
    "\n",
    "        \n",
    "cap.release()\n",
    "cv2.destroyAllWindows()"
   ]
  },
  {
   "cell_type": "code",
   "execution_count": null,
   "id": "01b5bcdc",
   "metadata": {},
   "outputs": [],
   "source": []
  }
 ],
 "metadata": {
  "kernelspec": {
   "display_name": "Python 3 (ipykernel)",
   "language": "python",
   "name": "python3"
  },
  "language_info": {
   "codemirror_mode": {
    "name": "ipython",
    "version": 3
   },
   "file_extension": ".py",
   "mimetype": "text/x-python",
   "name": "python",
   "nbconvert_exporter": "python",
   "pygments_lexer": "ipython3",
   "version": "3.9.12"
  }
 },
 "nbformat": 4,
 "nbformat_minor": 5
}
