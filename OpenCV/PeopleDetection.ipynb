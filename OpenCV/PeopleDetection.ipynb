{
 "cells": [
  {
   "cell_type": "code",
   "execution_count": 1,
   "id": "facbe858",
   "metadata": {},
   "outputs": [],
   "source": [
    "import cv2\n",
    "import imutils"
   ]
  },
  {
   "cell_type": "code",
   "execution_count": 2,
   "id": "223d3a72",
   "metadata": {},
   "outputs": [],
   "source": [
    "hog=cv2.HOGDescriptor()"
   ]
  },
  {
   "cell_type": "code",
   "execution_count": 3,
   "id": "610dc86a",
   "metadata": {},
   "outputs": [],
   "source": [
    "hog.setSVMDetector(cv2.HOGDescriptor_getDefaultPeopleDetector())"
   ]
  },
  {
   "cell_type": "code",
   "execution_count": 4,
   "id": "6f4d6234",
   "metadata": {},
   "outputs": [],
   "source": [
    "image=cv2.imread('A.jfif')"
   ]
  },
  {
   "cell_type": "code",
   "execution_count": 5,
   "id": "3bc03b66",
   "metadata": {},
   "outputs": [],
   "source": [
    "image=imutils.resize(image,width=min(400,image.shape[1]))"
   ]
  },
  {
   "cell_type": "code",
   "execution_count": 6,
   "id": "e9c8f4ec",
   "metadata": {},
   "outputs": [],
   "source": [
    "(regions, _)=hog.detectMultiScale(image,winStride=(4,4),padding=(4,4),scale=1.05)"
   ]
  },
  {
   "cell_type": "code",
   "execution_count": 7,
   "id": "718edd64",
   "metadata": {},
   "outputs": [],
   "source": [
    "for(x,y,w,h) in regions:\n",
    "    cv2.rectangle(image,(x,y),(x+w,y+h),(255,0,0),2)"
   ]
  },
  {
   "cell_type": "code",
   "execution_count": 9,
   "id": "6c1249fb",
   "metadata": {},
   "outputs": [],
   "source": [
    "cv2.imshow(\"image\",image)\n",
    "cv2.waitKey(0)\n",
    "cv2.destroyAllWindows()"
   ]
  },
  {
   "cell_type": "code",
   "execution_count": null,
   "id": "182bb5b9",
   "metadata": {},
   "outputs": [],
   "source": []
  },
  {
   "cell_type": "code",
   "execution_count": null,
   "id": "136fa213",
   "metadata": {},
   "outputs": [],
   "source": []
  }
 ],
 "metadata": {
  "kernelspec": {
   "display_name": "Python 3 (ipykernel)",
   "language": "python",
   "name": "python3"
  },
  "language_info": {
   "codemirror_mode": {
    "name": "ipython",
    "version": 3
   },
   "file_extension": ".py",
   "mimetype": "text/x-python",
   "name": "python",
   "nbconvert_exporter": "python",
   "pygments_lexer": "ipython3",
   "version": "3.9.12"
  }
 },
 "nbformat": 4,
 "nbformat_minor": 5
}
