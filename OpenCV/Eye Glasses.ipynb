{
 "cells": [
  {
   "cell_type": "markdown",
   "id": "f7c890a4",
   "metadata": {},
   "source": [
    "# C:\\Users\\kshyk\\anaconda3\\Lib\\site-packages\\cv2\\data"
   ]
  },
  {
   "cell_type": "code",
   "execution_count": 1,
   "id": "9280a685",
   "metadata": {},
   "outputs": [],
   "source": [
    "import cv2 "
   ]
  },
  {
   "cell_type": "code",
   "execution_count": 2,
   "id": "6e3a6c50",
   "metadata": {},
   "outputs": [],
   "source": [
    "import os"
   ]
  },
  {
   "cell_type": "code",
   "execution_count": 3,
   "id": "900a03e5",
   "metadata": {},
   "outputs": [],
   "source": [
    "cascPath=os.path.dirname(cv2.__file__)+\"/data/haarcascade_eye_tree_eyeglasses.xml\""
   ]
  },
  {
   "cell_type": "code",
   "execution_count": 4,
   "id": "a9efa17c",
   "metadata": {},
   "outputs": [],
   "source": [
    "faceCascade = cv2.CascadeClassifier(cascPath)"
   ]
  },
  {
   "cell_type": "code",
   "execution_count": 5,
   "id": "ffc7735c",
   "metadata": {},
   "outputs": [],
   "source": [
    "from tkinter import *           \n",
    "window = Tk()\n",
    "\n",
    "\n",
    "def video():\n",
    "    video_capture = cv2.VideoCapture(0)\n",
    "    while True:\n",
    "        ret, frames = video_capture.read()\n",
    "        gray = cv2.cvtColor(frames, cv2.COLOR_BGR2GRAY)\n",
    "        faces = faceCascade.detectMultiScale(gray,scaleFactor=1.1,minNeighbors=5,minSize=(30,30),flags=cv2.CASCADE_SCALE_IMAGE)\n",
    "        for(x,y,w,h) in faces:\n",
    "            cv2.rectangle(frames, (x,y),(x+w,y+h),(0,255,0),2)\n",
    "        cv2.imshow('Video', frames)\n",
    "        if cv2.waitKey(1) & 0xFF == ord('q'):\n",
    "            break\n",
    "myButton = Button(window,text='Click me!',padx=30,pady=40,command=video)\n",
    "myButton.pack()\n",
    "window.mainloop()"
   ]
  }
 ],
 "metadata": {
  "kernelspec": {
   "display_name": "Python 3 (ipykernel)",
   "language": "python",
   "name": "python3"
  },
  "language_info": {
   "codemirror_mode": {
    "name": "ipython",
    "version": 3
   },
   "file_extension": ".py",
   "mimetype": "text/x-python",
   "name": "python",
   "nbconvert_exporter": "python",
   "pygments_lexer": "ipython3",
   "version": "3.9.12"
  }
 },
 "nbformat": 4,
 "nbformat_minor": 5
}
