{
 "cells": [
  {
   "cell_type": "code",
   "execution_count": 1,
   "id": "2c024007",
   "metadata": {},
   "outputs": [],
   "source": [
    "from tkinter import *\n",
    "from tkinter import filedialog\n",
    "#setting up parent window\n",
    "root = Tk()\n",
    "\n",
    "#function definition for opening file dialog\n",
    "def openf():\n",
    "    file = filedialog.askopenfilename(initialdir='/', title=\"select file\")\n",
    "\n",
    "file_open = Button(root, text=\"Open file\", command= openf)\n",
    "file_open.pack(pady=20)\n",
    "\n",
    "root.geometry(\"350x200\")\n",
    "root.title(\"PythonLobby.com\")\n",
    "root.mainloop()"
   ]
  },
  {
   "cell_type": "code",
   "execution_count": null,
   "id": "012ffc4b",
   "metadata": {},
   "outputs": [],
   "source": [
    "from tkinter import *\n",
    "from tkinter import filedialog\n",
    "#setting up parent window\n",
    "root = Tk()\n",
    "\n",
    "#function definition for opening file dialog\n",
    "def openf():\n",
    "    file = filedialog.askopenfilename(initialdir='/', title=\"select file\",\n",
    "                                      filetypes=((\"Txt Files\",\".txt\"), (\"All Files\",\"*.*\")))\n",
    "    #inserting data to text editor\n",
    "    content =open(file)\n",
    "    data = content.read()\n",
    "    teditor.insert(END, data)\n",
    "\n",
    "#creating text editor\n",
    "teditor = Text(root, width=40, height=8)\n",
    "teditor.pack(pady=10)\n",
    "file_open = Button(root, text=\"Open file\", command= openf)\n",
    "file_open.pack()\n",
    "\n",
    "root.geometry(\"350x200\")\n",
    "root.title(\"PythonLobby.com\")\n",
    "root.mainloop()"
   ]
  },
  {
   "cell_type": "code",
   "execution_count": null,
   "id": "c7c44e0e",
   "metadata": {},
   "outputs": [],
   "source": [
    "import fnmatch\n",
    "import os\n",
    "\n",
    "for file in os.listdir(\"/Users/x/y\"):\n",
    "    if fnmatch.fnmatch(file, '*.txt'):\n",
    "        print(file)"
   ]
  },
  {
   "cell_type": "code",
   "execution_count": null,
   "id": "06ad588e",
   "metadata": {},
   "outputs": [],
   "source": [
    "import tkinter as tk\n",
    "from tkinter import ttk\n",
    "from tkinter import filedialog as fd\n",
    "from tkinter.messagebox import showinfo\n",
    "\n",
    "# create the root window\n",
    "root = tk.Tk()\n",
    "root.title('Tkinter Open File Dialog')\n",
    "root.resizable(False, False)\n",
    "root.geometry('300x150')\n",
    "\n",
    "\n",
    "def select_file():\n",
    "    filetypes = (\n",
    "        ('text files', '*.txt'),\n",
    "        ('All files', '*.*')\n",
    "    )\n",
    "\n",
    "    filename = fd.askopenfilename(\n",
    "        title='Open a file',\n",
    "        initialdir='/',\n",
    "        filetypes=filetypes)\n",
    "\n",
    "    showinfo(\n",
    "        title='Selected File',\n",
    "        message=filename\n",
    "    )\n",
    "\n",
    "\n",
    "# open button\n",
    "open_button = ttk.Button(\n",
    "    root,\n",
    "    text='Open a File',\n",
    "    command=select_file\n",
    ")\n",
    "\n",
    "open_button.pack(expand=True)\n",
    "\n",
    "\n",
    "# run the application\n",
    "root.mainloop()"
   ]
  },
  {
   "cell_type": "code",
   "execution_count": null,
   "id": "56524b93",
   "metadata": {},
   "outputs": [],
   "source": [
    "f = fd.askopenfile()"
   ]
  },
  {
   "cell_type": "code",
   "execution_count": null,
   "id": "d4b8a71f",
   "metadata": {},
   "outputs": [],
   "source": [
    "from tkinter import *\n",
    "from tkinter import filedialog\n",
    "\n",
    "def get_file_path():\n",
    "    global file_path\n",
    "    # Open and return file path\n",
    "    file_path= filedialog.askopenfilename(title = \"Select A File\", filetypes = (\n",
    "        ('text files', '*.txt'),\n",
    "        ('All files', '*.*')\n",
    "    ))\n",
    "    l1 = Label(window, text = \"File path: \" + file_path).pack()\n",
    "    dataFile=file_path\n",
    "window = Tk()\n",
    "# Creating a button to search the file\n",
    "b1 = Button(window, text = \"Open File\", command = get_file_path).pack()\n",
    "b2 = Button(window, text = \"Open File\", command = get_file_path).pack()\n",
    "window.mainloop()\n",
    "print(file_path)"
   ]
  },
  {
   "cell_type": "code",
   "execution_count": null,
   "id": "b91657b1",
   "metadata": {},
   "outputs": [],
   "source": []
  },
  {
   "cell_type": "code",
   "execution_count": null,
   "id": "6155af5e",
   "metadata": {},
   "outputs": [],
   "source": []
  }
 ],
 "metadata": {
  "kernelspec": {
   "display_name": "Python 3 (ipykernel)",
   "language": "python",
   "name": "python3"
  },
  "language_info": {
   "codemirror_mode": {
    "name": "ipython",
    "version": 3
   },
   "file_extension": ".py",
   "mimetype": "text/x-python",
   "name": "python",
   "nbconvert_exporter": "python",
   "pygments_lexer": "ipython3",
   "version": "3.9.12"
  }
 },
 "nbformat": 4,
 "nbformat_minor": 5
}
