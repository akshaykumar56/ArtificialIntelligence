{
 "cells": [
  {
   "cell_type": "code",
   "execution_count": 1,
   "id": "a36c2655",
   "metadata": {},
   "outputs": [],
   "source": [
    "# A set is a collection which is both unordered and unindexed\n",
    "# Once a set is created, you cannot change its items,but you can add new items\n",
    "# Sets cannot have duplicate values\n",
    "#8.There is no index attached to any element in a python set.So they do not support any indexing or slicing operation"
   ]
  },
  {
   "cell_type": "code",
   "execution_count": 2,
   "id": "d4ab9f04",
   "metadata": {},
   "outputs": [
    {
     "name": "stdout",
     "output_type": "stream",
     "text": [
      "{1, 2, 4, 5, 'banana', 56, 45}\n",
      "<class 'set'>\n"
     ]
    }
   ],
   "source": [
    "a={1,2,45,2,4,\"banana\",5,4,True,56}\n",
    "print(a)\n",
    "print(type(a))"
   ]
  },
  {
   "cell_type": "code",
   "execution_count": 3,
   "id": "98204e71",
   "metadata": {},
   "outputs": [
    {
     "name": "stdout",
     "output_type": "stream",
     "text": [
      "<class 'dict'>\n"
     ]
    }
   ],
   "source": [
    "#-> empty set\n",
    "b={} #-->worng way,print dictionary\n",
    "print(type(b))"
   ]
  },
  {
   "cell_type": "code",
   "execution_count": 4,
   "id": "bd60e634",
   "metadata": {},
   "outputs": [
    {
     "name": "stdout",
     "output_type": "stream",
     "text": [
      "<class 'set'>\n",
      "{(3, 2, 8, 4), 4, 5}\n"
     ]
    }
   ],
   "source": [
    "c=set() #set()->set constructor \n",
    "print(type(c))\n",
    "c.add(4)\n",
    "c.add(5)\n",
    "# c.add([3,5,4]) -->you can,t add list to the set because it is unhashable\n",
    "c.add((3,2,8,4)) #-->you can add tuple\n",
    "# c.add({4:5}) you also cant add dict to set because it is also unhashable\n",
    "print(c)"
   ]
  },
  {
   "cell_type": "code",
   "execution_count": 6,
   "id": "c7b1b60e",
   "metadata": {},
   "outputs": [
    {
     "name": "stdout",
     "output_type": "stream",
     "text": [
      "{1, 2, 4, 7, 45, 'banana'}\n",
      "{1, 2, 7, 45, 'banana'}\n"
     ]
    }
   ],
   "source": [
    "#. creating set using set constructor\n",
    "\n",
    "d=set((1,4,7,2,'banana',45))  # note the double round-brackets\n",
    "print(d)\n",
    "\n",
    "\n",
    "\n",
    "#.remove functiom\n",
    "# d.remove(4,7) #.doesn,t work with two or more arguments\n",
    "d.remove(4)\n",
    "print(d)"
   ]
  },
  {
   "cell_type": "code",
   "execution_count": 7,
   "id": "deb0fa88",
   "metadata": {},
   "outputs": [
    {
     "name": "stdout",
     "output_type": "stream",
     "text": [
      "5\n"
     ]
    }
   ],
   "source": [
    "#. len function\n",
    "print(len(d))"
   ]
  },
  {
   "cell_type": "code",
   "execution_count": 8,
   "id": "f6054a54",
   "metadata": {},
   "outputs": [
    {
     "name": "stdout",
     "output_type": "stream",
     "text": [
      "<class 'set'>\n",
      "['e', 'c', 'f', 'a', 'b', 'd']\n",
      "c\n"
     ]
    }
   ],
   "source": [
    "x = {\"f\", \"e\", \"d\", \"c\", \"b\", \"a\"}\n",
    "print(type(x))\n",
    "y=list(x)\n",
    "print(y)\n",
    "print(y[1])"
   ]
  },
  {
   "cell_type": "code",
   "execution_count": 9,
   "id": "5b56db29",
   "metadata": {},
   "outputs": [
    {
     "name": "stdout",
     "output_type": "stream",
     "text": [
      "{'orange', 'apple', 'cherry', 'banana'}\n"
     ]
    }
   ],
   "source": [
    "#1.add-->Adds an element to the set\n",
    "fruits = {\"apple\", \"banana\", \"cherry\"}\n",
    "fruits.add(\"orange\")\n",
    "print(fruits)"
   ]
  },
  {
   "cell_type": "code",
   "execution_count": 10,
   "id": "3a798c6b",
   "metadata": {},
   "outputs": [
    {
     "name": "stdout",
     "output_type": "stream",
     "text": [
      "set()\n"
     ]
    }
   ],
   "source": [
    "#2.clear-->Removes all the elements from the set\n",
    "fruits = {\"apple\", \"banana\", \"cherry\"}\n",
    "fruits.clear()\n",
    "print(fruits)"
   ]
  },
  {
   "cell_type": "code",
   "execution_count": 11,
   "id": "5d9cb0c2",
   "metadata": {},
   "outputs": [
    {
     "name": "stdout",
     "output_type": "stream",
     "text": [
      "{'apple', 'cherry', 'banana'}\n"
     ]
    }
   ],
   "source": [
    "#3.copy  -->Returns a copy of the set\n",
    "fruits = {\"apple\", \"banana\", \"cherry\"}\n",
    "x = fruits.copy()\n",
    "print(x)"
   ]
  },
  {
   "cell_type": "code",
   "execution_count": 12,
   "id": "67d4cfec",
   "metadata": {},
   "outputs": [
    {
     "name": "stdout",
     "output_type": "stream",
     "text": [
      "{'cherry', 'banana'}\n"
     ]
    }
   ],
   "source": [
    "#4.difference  -->return a new set. Returns a set containing the difference between two or more sets.\n",
    "x = {\"apple\", \"banana\", \"cherry\"}\n",
    "y = {\"google\", \"microsoft\", \"apple\"}\n",
    "z = x.difference(y) #-->print those elements of x that are not in y\n",
    "print(z)"
   ]
  },
  {
   "cell_type": "code",
   "execution_count": 13,
   "id": "223b8853",
   "metadata": {},
   "outputs": [
    {
     "name": "stdout",
     "output_type": "stream",
     "text": [
      "{'cherry', 'banana'}\n"
     ]
    }
   ],
   "source": [
    "#5.difference update -->return an updated set. Removes the items in this set that are also included in another,specified set\n",
    "x = {\"apple\", \"banana\", \"cherry\"}\n",
    "y = {\"google\", \"microsoft\", \"apple\"}\n",
    "x.difference_update(y)\n",
    "print(x)"
   ]
  },
  {
   "cell_type": "code",
   "execution_count": 28,
   "id": "7b95b36a",
   "metadata": {},
   "outputs": [
    {
     "name": "stdout",
     "output_type": "stream",
     "text": [
      "{'apple', 'cherry'}\n"
     ]
    }
   ],
   "source": [
    "#6.discard -->Remove the specified item\n",
    "fruits = {\"apple\", \"banana\", \"cherry\"}\n",
    "fruits.discard(\"banana\")\n",
    "print(fruits)"
   ]
  },
  {
   "cell_type": "code",
   "execution_count": 15,
   "id": "bc1b97d7",
   "metadata": {},
   "outputs": [
    {
     "name": "stdout",
     "output_type": "stream",
     "text": [
      "{'apple'}\n"
     ]
    }
   ],
   "source": [
    "#7.intersection  --> returns a new set,without the unwanted valueReturns a set, that is the intersection of two or more sets\n",
    "x = {\"apple\", \"banana\", \"cherry\"}\n",
    "y = {\"google\", \"microsoft\", \"apple\"}\n",
    "z = x.intersection(y)\n",
    "print(z)"
   ]
  },
  {
   "cell_type": "code",
   "execution_count": 16,
   "id": "73d4ccb2",
   "metadata": {},
   "outputs": [
    {
     "name": "stdout",
     "output_type": "stream",
     "text": [
      "{'apple'}\n"
     ]
    }
   ],
   "source": [
    "#8.intersection update -->removes unwanted value from original set\n",
    "#Removes the items in this set that are not present in other, specified set(s)\n",
    "x = {\"apple\", \"banana\", \"cherry\"}\n",
    "y = {\"google\", \"microsoft\", \"apple\"}\n",
    "x.intersection_update(y)\n",
    "print(x)"
   ]
  },
  {
   "cell_type": "code",
   "execution_count": 19,
   "id": "d793e64e",
   "metadata": {},
   "outputs": [
    {
     "name": "stdout",
     "output_type": "stream",
     "text": [
      "False\n"
     ]
    }
   ],
   "source": [
    "#9.isdisjoint -->Returns whether two sets have a intersection or not\n",
    "x = {\"apple\", \"banana\", \"cherry\"}\n",
    "# y = {\"google\", \"microsoft\", \"facebook\"}\n",
    "y = {\"google\", \"banana\", \"facebook\"}\n",
    "z = x.isdisjoint(y)\n",
    "print(z)"
   ]
  },
  {
   "cell_type": "code",
   "execution_count": 22,
   "id": "4ab49112",
   "metadata": {},
   "outputs": [
    {
     "name": "stdout",
     "output_type": "stream",
     "text": [
      "False\n"
     ]
    }
   ],
   "source": [
    "#10.issubset  -->Returns whether another set contains this set or not\n",
    "x = {\"a\", \"b\", \"i\"}\n",
    "# x = {\"a\", \"b\", \"c\"}\n",
    "y = {\"f\", \"e\", \"d\", \"c\", \"b\", \"a\"}\n",
    "z = x.issubset(y)\n",
    "print(z)"
   ]
  },
  {
   "cell_type": "code",
   "execution_count": 23,
   "id": "e806f986",
   "metadata": {},
   "outputs": [
    {
     "name": "stdout",
     "output_type": "stream",
     "text": [
      "True\n"
     ]
    }
   ],
   "source": [
    "#11.issuperset -->Returns whether this set contains another set or not\n",
    "x = {\"f\", \"e\", \"d\", \"c\", \"b\", \"a\"}\n",
    "y = {\"a\", \"b\", \"c\"}\n",
    "z = x.issuperset(y)\n",
    "print(z)"
   ]
  },
  {
   "cell_type": "code",
   "execution_count": 24,
   "id": "b6533d8f",
   "metadata": {},
   "outputs": [
    {
     "name": "stdout",
     "output_type": "stream",
     "text": [
      "{'cherry', 'banana'}\n"
     ]
    }
   ],
   "source": [
    "#12.pop -->Removes an random element from the set\n",
    "fruits = {\"apple\", \"banana\", \"cherry\"}\n",
    "fruits.pop()\n",
    "print(fruits)"
   ]
  },
  {
   "cell_type": "code",
   "execution_count": 29,
   "id": "f5573fb2",
   "metadata": {},
   "outputs": [
    {
     "name": "stdout",
     "output_type": "stream",
     "text": [
      "{'apple', 'cherry'}\n"
     ]
    }
   ],
   "source": [
    "# This method is different from the remove() method, because the remove() method will raise an error if the specified \n",
    "# item does not exist, and the discard() method will no\n",
    "#13.remove -->Removes the specified element\n",
    "fruits = {\"apple\", \"banana\", \"cherry\"}\n",
    "fruits.remove(\"banana\")\n",
    "print(fruits)"
   ]
  },
  {
   "cell_type": "code",
   "execution_count": 30,
   "id": "825aa02f",
   "metadata": {},
   "outputs": [
    {
     "name": "stdout",
     "output_type": "stream",
     "text": [
      "{'cherry', 'banana', 'microsoft', 'google'}\n"
     ]
    }
   ],
   "source": [
    "#14.symmetric difference -->\n",
    "# Returns a set with the symmetric differences of two sets\n",
    "x = {\"apple\", \"banana\", \"cherry\"}\n",
    "y = {\"google\", \"microsoft\", \"apple\"}\n",
    "z = x.symmetric_difference(y)\n",
    "print(z)"
   ]
  },
  {
   "cell_type": "code",
   "execution_count": 31,
   "id": "bba65f15",
   "metadata": {},
   "outputs": [
    {
     "name": "stdout",
     "output_type": "stream",
     "text": [
      "{'cherry', 'banana', 'microsoft', 'google'}\n"
     ]
    }
   ],
   "source": [
    "#14.symmetriv difference update-->\n",
    "# inserts the symmetric differences from this set and another\n",
    "x = {\"apple\", \"banana\", \"cherry\"}\n",
    "y = {\"google\", \"microsoft\", \"apple\"}\n",
    "x.symmetric_difference_update(y)\n",
    "print(x)"
   ]
  },
  {
   "cell_type": "code",
   "execution_count": 32,
   "id": "ca517fe9",
   "metadata": {},
   "outputs": [
    {
     "name": "stdout",
     "output_type": "stream",
     "text": [
      "{'e', 'd', 'f', 'a', 'b', 'c'}\n"
     ]
    }
   ],
   "source": [
    "#15.union-->Return a set containing the union of sets\n",
    "# x = {\"apple\", \"banana\", \"cherry\"}\n",
    "# y = {\"google\", \"microsoft\", \"apple\"}\n",
    "# z = x.union(y)\n",
    "# print(z)\n",
    "\n",
    "x = {\"a\", \"b\", \"c\"}\n",
    "y = {\"f\", \"d\", \"a\"}\n",
    "z = {\"c\", \"d\", \"e\"}\n",
    "result = x.union(y, z)\n",
    "print(result)"
   ]
  },
  {
   "cell_type": "code",
   "execution_count": 33,
   "id": "5fb01d32",
   "metadata": {},
   "outputs": [
    {
     "name": "stdout",
     "output_type": "stream",
     "text": [
      "{'cherry', 'banana', 'microsoft', 'apple', 'google'}\n"
     ]
    }
   ],
   "source": [
    "#16.update -->Update the set with another set, or any other iterable\n",
    "x = {\"apple\", \"banana\", \"cherry\"}\n",
    "y = {\"google\", \"microsoft\", \"apple\"}\n",
    "x.update(y)\n",
    "print(x)"
   ]
  },
  {
   "cell_type": "code",
   "execution_count": 34,
   "id": "a4fadda4",
   "metadata": {},
   "outputs": [
    {
     "name": "stdout",
     "output_type": "stream",
     "text": [
      "frozenset Object is :  frozenset({1, 2, 3, 4, 5, 6, 7, 8, 9})\n",
      "['OS', 'Networking', 'Algo']\n",
      "The frozen set is: frozenset({'address', 'sex', 'name', 'age', 'college'})\n"
     ]
    }
   ],
   "source": [
    "#1.The frozenset() is an inbuilt function in Python which takes an iterable object as input and makes them immutable. \n",
    "#.Simply it freezes the iterable objects and makes them unchangeable\n",
    "\n",
    "#2.frozenset is the same as set except the forzensets are immutable\n",
    "#  which means that elements from the frozenset cannot be \n",
    "# added or removed once created.\n",
    "\n",
    "#3.Syntax : frozenset(iterable_object_name)\n",
    "#Parameter : This function accepts iterable object as input parameter.\n",
    "#Return Type: This function return an equivalent frozenset object\n",
    "\n",
    "# Python program to understand frozenset() function\n",
    " \n",
    "# tuple of numbers\n",
    "t = (1, 2, 3, 4, 5, 6, 7, 8, 9)\n",
    " \n",
    "# converting tuple to frozenset\n",
    "fnum = frozenset(t)\n",
    " \n",
    "# printing details\n",
    "print(\"frozenset Object is : \", fnum)\n",
    "\n",
    "\n",
    "\n",
    "# Python program to understand\n",
    "# use of frozenset function\n",
    " \n",
    "# creating a list\n",
    "favsub= [\"OS\", \"DBMS\", \"Algo\"]\n",
    " \n",
    "# making it frozenset type\n",
    "fsub = frozenset(favsub)\n",
    " \n",
    "# below line will generate error\n",
    " \n",
    "favsub[1] = \"Networking\"\n",
    "print(favsub)\n",
    "\n",
    "# fsub[1]=\"networking\" #-->frozen set does not allow element assignment\n",
    "\n",
    "\n",
    "\n",
    "\n",
    "# Python program to understand use\n",
    "# of frozenset function\n",
    " \n",
    "# creating a dictionary\n",
    "Student = {\"name\": \"Ankit\", \"age\": 21, \"sex\": \"Male\",\n",
    "           \"college\": \"MNNIT Allahabad\", \"address\": \"Allahabad\"}\n",
    " \n",
    "# making keys of dictionary as frozenset\n",
    "f= frozenset(Student)\n",
    " \n",
    "# printing keys details\n",
    "print('The frozen set is:', f)"
   ]
  },
  {
   "cell_type": "code",
   "execution_count": 37,
   "id": "13269a34",
   "metadata": {},
   "outputs": [
    {
     "name": "stdout",
     "output_type": "stream",
     "text": [
      "56\n"
     ]
    }
   ],
   "source": [
    "a={1,2,45,2,4,\"banana\",5,4,True,56}\n",
    "print(a[9])"
   ]
  },
  {
   "cell_type": "code",
   "execution_count": null,
   "id": "d628c4bd",
   "metadata": {},
   "outputs": [],
   "source": []
  }
 ],
 "metadata": {
  "kernelspec": {
   "display_name": "Python 3 (ipykernel)",
   "language": "python",
   "name": "python3"
  },
  "language_info": {
   "codemirror_mode": {
    "name": "ipython",
    "version": 3
   },
   "file_extension": ".py",
   "mimetype": "text/x-python",
   "name": "python",
   "nbconvert_exporter": "python",
   "pygments_lexer": "ipython3",
   "version": "3.9.12"
  }
 },
 "nbformat": 4,
 "nbformat_minor": 5
}
