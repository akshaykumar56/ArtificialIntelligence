{
 "cells": [
  {
   "cell_type": "markdown",
   "id": "6477ffe7",
   "metadata": {},
   "source": [
    "General Python Programming"
   ]
  },
  {
   "cell_type": "code",
   "execution_count": 1,
   "id": "26d3de39",
   "metadata": {},
   "outputs": [
    {
     "name": "stdout",
     "output_type": "stream",
     "text": [
      "akshay and ravi are best friends\n"
     ]
    }
   ],
   "source": [
    "a='akshay'\n",
    "b='ravi'\n",
    "print(\"{} and {} are best friends\".format(a,b))"
   ]
  },
  {
   "cell_type": "code",
   "execution_count": 2,
   "id": "2ea56207",
   "metadata": {},
   "outputs": [
    {
     "name": "stdout",
     "output_type": "stream",
     "text": [
      "akshay\n",
      "aakash\n"
     ]
    }
   ],
   "source": [
    "a=[\"akshay\",'aakash','raju',\"rajesh\"]\n",
    "\n",
    "def fun(a):\n",
    "    for i in a:\n",
    "        if i[0]==\"a\":\n",
    "            return True\n",
    "        else:\n",
    "            return False\n",
    "    \n",
    "b=filter(fun,a)\n",
    "\n",
    "for i in b:\n",
    "    print(i)"
   ]
  },
  {
   "cell_type": "code",
   "execution_count": 3,
   "id": "7d68fdd7",
   "metadata": {},
   "outputs": [
    {
     "data": {
      "text/plain": [
       "6775431"
      ]
     },
     "execution_count": 3,
     "metadata": {},
     "output_type": "execute_result"
    }
   ],
   "source": [
    "a=1345776\n",
    "num=a\n",
    "fum=0\n",
    "while(num>0):\n",
    "    c=num%10\n",
    "    fum=fum*10+c\n",
    "    num=int(num/10)\n",
    "    \n",
    "fum"
   ]
  },
  {
   "cell_type": "code",
   "execution_count": 4,
   "id": "a6d5b526",
   "metadata": {},
   "outputs": [],
   "source": [
    "a=[3,4,5,6,7,8,9]\n",
    "d=len(a)\n",
    "e=set()\n",
    "for i in range(d):\n",
    "    for j in range(d):\n",
    "        if(a[i]+a[j]==9):\n",
    "            e.add(i)\n",
    "            e.add(j)"
   ]
  },
  {
   "cell_type": "code",
   "execution_count": 5,
   "id": "8118f004",
   "metadata": {},
   "outputs": [
    {
     "data": {
      "text/plain": [
       "{0, 1, 2, 3}"
      ]
     },
     "execution_count": 5,
     "metadata": {},
     "output_type": "execute_result"
    }
   ],
   "source": [
    "e"
   ]
  },
  {
   "cell_type": "code",
   "execution_count": 6,
   "id": "b2068ab3",
   "metadata": {},
   "outputs": [
    {
     "name": "stdout",
     "output_type": "stream",
     "text": [
      "6\n"
     ]
    }
   ],
   "source": [
    "import numpy as np\n",
    "b=np.random.randint(1,9)\n",
    "print(b)"
   ]
  },
  {
   "cell_type": "code",
   "execution_count": 7,
   "id": "0b719848",
   "metadata": {},
   "outputs": [
    {
     "data": {
      "text/plain": [
       "106"
      ]
     },
     "execution_count": 7,
     "metadata": {},
     "output_type": "execute_result"
    }
   ],
   "source": [
    "ord(\"j\")"
   ]
  },
  {
   "cell_type": "code",
   "execution_count": 8,
   "id": "60fabb08",
   "metadata": {},
   "outputs": [
    {
     "data": {
      "text/plain": [
       "'a'"
      ]
     },
     "execution_count": 8,
     "metadata": {},
     "output_type": "execute_result"
    }
   ],
   "source": [
    "chr(97)"
   ]
  },
  {
   "cell_type": "code",
   "execution_count": 9,
   "id": "c76c122a",
   "metadata": {},
   "outputs": [
    {
     "name": "stdout",
     "output_type": "stream",
     "text": [
      "HELLO\n",
      "HELLO\n"
     ]
    }
   ],
   "source": [
    "def shout(text):\n",
    "    return text.upper()\n",
    " \n",
    "print(shout('Hello'))\n",
    " \n",
    "yell = shout\n",
    " \n",
    "print(yell('Hello'))"
   ]
  },
  {
   "cell_type": "code",
   "execution_count": 10,
   "id": "8a9fe2c2",
   "metadata": {},
   "outputs": [
    {
     "name": "stdout",
     "output_type": "stream",
     "text": [
      "hello akshay\n",
      "hello aditi\n",
      "IF After\n"
     ]
    }
   ],
   "source": [
    "#decorator in python-->is a function used to modify an existing function\n",
    "\n",
    "def decor(fun):\n",
    "    def inner():\n",
    "#         print(\"IF Before\")\n",
    "        fun()\n",
    "        print('IF After')\n",
    "    return inner\n",
    "\n",
    "def num():\n",
    "    print(\"hello akshay\")\n",
    "    print(\"hello aditi\")\n",
    "    \n",
    "d=decor(num)\n",
    "d()"
   ]
  },
  {
   "cell_type": "code",
   "execution_count": 11,
   "id": "6d76cf75",
   "metadata": {},
   "outputs": [
    {
     "name": "stdout",
     "output_type": "stream",
     "text": [
      "Enter any number: 9999\n",
      "0.001000100010001\n",
      "Index Out of Bound.\n"
     ]
    }
   ],
   "source": [
    "try:\n",
    "    a=10\n",
    "    b=int(input(\"Enter any number: \"))\n",
    "    c=a/b\n",
    "    print(c)\n",
    "    \n",
    "    r=[1,2,3,4,5]\n",
    "    print(r[8])\n",
    "\n",
    "except ZeroDivisionError:\n",
    "    print(\"Denominator cannot be 0.\")\n",
    "    \n",
    "except IndexError:\n",
    "    print(\"Index Out of Bound.\")\n",
    "\n"
   ]
  },
  {
   "cell_type": "markdown",
   "id": "95149a99",
   "metadata": {},
   "source": [
    "### Why is assert function used for?\n",
    "### Use the assert() function to identify program logic errors"
   ]
  },
  {
   "cell_type": "code",
   "execution_count": 13,
   "id": "e99f5ca6",
   "metadata": {},
   "outputs": [
    {
     "name": "stdout",
     "output_type": "stream",
     "text": [
      "Enter any number: 7\n",
      "not a even number\n"
     ]
    }
   ],
   "source": [
    "try:\n",
    "    b=int(input(\"Enter any number: \"))\n",
    "    assert b%2==0\n",
    "except:\n",
    "    print(\"not a even number\")\n",
    "else:\n",
    "    d=10/b\n",
    "    print(d)"
   ]
  },
  {
   "cell_type": "code",
   "execution_count": 14,
   "id": "f2e32139",
   "metadata": {},
   "outputs": [
    {
     "name": "stdout",
     "output_type": "stream",
     "text": [
      "Enter any number: \n",
      "not a even number\n",
      "This is finally block.\n"
     ]
    }
   ],
   "source": [
    "# In Python, the finally block is always executed no matter whether there is an exception or not.\n",
    "try:\n",
    "    b=int(input(\"Enter any number: \"))\n",
    "    assert b%2==0\n",
    "except:\n",
    "    print(\"not a even number\")\n",
    "finally:\n",
    "    print(\"This is finally block.\")"
   ]
  },
  {
   "cell_type": "code",
   "execution_count": 64,
   "id": "1b37856a",
   "metadata": {},
   "outputs": [
    {
     "name": "stdout",
     "output_type": "stream",
     "text": [
      "An exception\n"
     ]
    },
    {
     "ename": "NameError",
     "evalue": "Hi there",
     "output_type": "error",
     "traceback": [
      "\u001b[1;31m---------------------------------------------------------------------------\u001b[0m",
      "\u001b[1;31mNameError\u001b[0m                                 Traceback (most recent call last)",
      "Input \u001b[1;32mIn [64]\u001b[0m, in \u001b[0;36m<cell line: 2>\u001b[1;34m()\u001b[0m\n\u001b[0;32m      1\u001b[0m \u001b[38;5;66;03m# The raise statement allows the programmer to force a specific exception to occur. \u001b[39;00m\n\u001b[0;32m      2\u001b[0m \u001b[38;5;28;01mtry\u001b[39;00m: \n\u001b[1;32m----> 3\u001b[0m     \u001b[38;5;28;01mraise\u001b[39;00m \u001b[38;5;167;01mNameError\u001b[39;00m(\u001b[38;5;124m\"\u001b[39m\u001b[38;5;124mHi there\u001b[39m\u001b[38;5;124m\"\u001b[39m)  \u001b[38;5;66;03m# Raise Error\u001b[39;00m\n\u001b[0;32m      4\u001b[0m \u001b[38;5;28;01mexcept\u001b[39;00m \u001b[38;5;167;01mNameError\u001b[39;00m:\n\u001b[0;32m      5\u001b[0m     \u001b[38;5;28mprint\u001b[39m (\u001b[38;5;124m\"\u001b[39m\u001b[38;5;124mAn exception\u001b[39m\u001b[38;5;124m\"\u001b[39m)\n",
      "\u001b[1;31mNameError\u001b[0m: Hi there"
     ]
    }
   ],
   "source": [
    "# The raise statement allows the programmer to force a specific exception to occur. \n",
    "try: \n",
    "    raise NameError(\"Hi there\")  # Raise Error\n",
    "except NameError:\n",
    "    print (\"An exception\")\n",
    "    raise\n",
    "    # To determine whether the exception was raised or not"
   ]
  },
  {
   "cell_type": "code",
   "execution_count": 16,
   "id": "352f421e",
   "metadata": {},
   "outputs": [
    {
     "name": "stdout",
     "output_type": "stream",
     "text": [
      "Total Employee 2\n"
     ]
    }
   ],
   "source": [
    "#Instance is an object that belongs to a class\n",
    "class Employee:\n",
    "   'Common base class for all employees'\n",
    "   empCount = 0\n",
    "\n",
    "   def __init__(self, name, salary):\n",
    "      self.name = name\n",
    "      self.salary = salary\n",
    "      Employee.empCount += 1\n",
    "   \n",
    "   def displayCount(self):\n",
    "     print (\"Total Employee %d\" % Employee.empCount)\n",
    "\n",
    "   def displayEmployee(self):\n",
    "      print (\"Name : \", self.name,  \", Salary: \", self.salary)\n",
    "        \n",
    "d=Employee(\"ravi\",89.00)\n",
    "d=Employee(\"raju\",89.00)\n",
    "d.displayCount()"
   ]
  },
  {
   "cell_type": "code",
   "execution_count": 17,
   "id": "1480cee4",
   "metadata": {},
   "outputs": [
    {
     "name": "stdout",
     "output_type": "stream",
     "text": [
      "\n",
      "* \n",
      "* * \n",
      "* * * \n",
      "* * * * \n",
      "* * * * * \n",
      "* * * * * * \n"
     ]
    }
   ],
   "source": [
    "a=6\n",
    "for i in range(a+1):\n",
    "    for j in range(i):\n",
    "        print(\"*\",end=\" \")\n",
    "#         a-=a\n",
    "    print()"
   ]
  },
  {
   "cell_type": "code",
   "execution_count": 18,
   "id": "21825134",
   "metadata": {},
   "outputs": [
    {
     "name": "stdout",
     "output_type": "stream",
     "text": [
      "* * * * * * \n",
      "* * * * * \n",
      "* * * * \n",
      "* * * \n",
      "* * \n",
      "* \n"
     ]
    }
   ],
   "source": [
    "a=6\n",
    "for i in range(a):\n",
    "    for j in range(a-i):\n",
    "        print(\"*\",end=\" \")\n",
    "    print()"
   ]
  },
  {
   "cell_type": "code",
   "execution_count": 19,
   "id": "a75085d5",
   "metadata": {},
   "outputs": [
    {
     "name": "stdout",
     "output_type": "stream",
     "text": [
      "* * * * * \n",
      "*       * \n",
      "*       * \n",
      "*       * \n",
      "* * * * * \n"
     ]
    }
   ],
   "source": [
    "a=5\n",
    "b=5\n",
    "for i in range(a):\n",
    "    for j in range(b):\n",
    "       if (i==0 or i==a-1 or j==0 or j==b-1):\n",
    "           print(\"*\",end=\" \")\n",
    "       else:\n",
    "            print(\" \",end=\" \")\n",
    "    print()"
   ]
  },
  {
   "cell_type": "code",
   "execution_count": 20,
   "id": "efc80665",
   "metadata": {},
   "outputs": [
    {
     "name": "stdout",
     "output_type": "stream",
     "text": [
      "* * * * * \n",
      "* *     * \n",
      "*   *   * \n",
      "*     * * \n",
      "* * * * * \n"
     ]
    }
   ],
   "source": [
    "a=5\n",
    "b=5\n",
    "for i in range(a):\n",
    "    for j in range(b):\n",
    "       if (i==0 or i==a-1 or j==0 or j==b-1 or i==j):\n",
    "           print(\"*\",end=\" \")\n",
    "       else:\n",
    "            print(\" \",end=\" \")\n",
    "    print()"
   ]
  },
  {
   "cell_type": "code",
   "execution_count": 21,
   "id": "a7b53fe7",
   "metadata": {},
   "outputs": [
    {
     "name": "stdout",
     "output_type": "stream",
     "text": [
      "*         \n",
      "* *       \n",
      "*   *     \n",
      "*     *   \n",
      "* * * * * \n"
     ]
    }
   ],
   "source": [
    "a=5\n",
    "b=5\n",
    "for i in range(a):\n",
    "    for j in range(b):\n",
    "       if (i==a-1 or j==0  or i==j):\n",
    "           print(\"*\",end=\" \")\n",
    "       else:\n",
    "            print(\" \",end=\" \")\n",
    "    print()"
   ]
  },
  {
   "cell_type": "code",
   "execution_count": 22,
   "id": "fc65d40f",
   "metadata": {},
   "outputs": [
    {
     "name": "stdout",
     "output_type": "stream",
     "text": [
      "* * * * * \n",
      "  *     * \n",
      "    *   * \n",
      "      * * \n",
      "        * \n"
     ]
    }
   ],
   "source": [
    "a=5\n",
    "b=5\n",
    "for i in range(a):\n",
    "    for j in range(b):\n",
    "       if (i==0  or j==b-1 or i==j):\n",
    "           print(\"*\",end=\" \")\n",
    "       else:\n",
    "            print(\" \",end=\" \")\n",
    "    print()"
   ]
  },
  {
   "cell_type": "code",
   "execution_count": 23,
   "id": "cc18ba07",
   "metadata": {},
   "outputs": [
    {
     "name": "stdout",
     "output_type": "stream",
     "text": [
      "                * \n",
      "              * * \n",
      "            * * * \n",
      "          * * * * \n",
      "        * * * * * \n",
      "      * * * * * * \n",
      "    * * * * * * * \n",
      "  * * * * * * * * \n",
      "* * * * * * * * * \n"
     ]
    }
   ],
   "source": [
    "a=9\n",
    "for i in range(a):\n",
    "    for j in range(0,a-i-1):\n",
    "        print(\" \",end=\" \")\n",
    "    for j in range(a-i-1,a):\n",
    "        print(\"*\",end=\" \")\n",
    "    print()"
   ]
  },
  {
   "cell_type": "code",
   "execution_count": 24,
   "id": "4e60ff4b",
   "metadata": {},
   "outputs": [
    {
     "name": "stdout",
     "output_type": "stream",
     "text": [
      "* * * * * * * * * \n",
      "  * * * * * * * * \n",
      "    * * * * * * * \n",
      "      * * * * * * \n",
      "        * * * * * \n",
      "          * * * * \n",
      "            * * * \n",
      "              * * \n",
      "                * \n"
     ]
    }
   ],
   "source": [
    "a=9\n",
    "for i in range(a):\n",
    "    for j in range(0,i):\n",
    "        print(\" \",end=\" \")\n",
    "    for j in range(i,a):\n",
    "        print(\"*\",end=\" \")\n",
    "    print()"
   ]
  },
  {
   "cell_type": "code",
   "execution_count": 29,
   "id": "4bce5f27",
   "metadata": {},
   "outputs": [
    {
     "name": "stdout",
     "output_type": "stream",
     "text": [
      "          * \n",
      "         * * \n",
      "        * * * \n",
      "       * * * * \n",
      "      * * * * * \n",
      "     * * * * * * \n",
      "    * * * * * * * \n",
      "   * * * * * * * * \n",
      "  * * * * * * * * * \n",
      " * * * * * * * * * * \n"
     ]
    }
   ],
   "source": [
    "n=10\n",
    "for i in range(0, n):\n",
    "    for j in range(0, n-i):\n",
    "        print(end=\" \")\n",
    "    for j in range(0, i+1):\n",
    "        print(\"* \", end=\"\")\n",
    "    print()"
   ]
  },
  {
   "cell_type": "code",
   "execution_count": 34,
   "id": "58a0d234",
   "metadata": {},
   "outputs": [
    {
     "name": "stdout",
     "output_type": "stream",
     "text": [
      "9 8 7 6 \n",
      "  5 4 3 \n",
      "    2 1 \n",
      "      0 \n"
     ]
    }
   ],
   "source": [
    "d=9\n",
    "for i in range(4):\n",
    "    for j in range(0,i):\n",
    "        print(\" \",end=\" \")\n",
    "    for j in range(i,4):\n",
    "        print(d ,end=\" \")\n",
    "        d=d-1\n",
    "    print()"
   ]
  },
  {
   "cell_type": "code",
   "execution_count": 59,
   "id": "b2c79935",
   "metadata": {},
   "outputs": [
    {
     "name": "stdout",
     "output_type": "stream",
     "text": [
      "1 \n",
      "1 2 \n",
      "1 2 3 \n",
      "1 2 3 4 \n",
      "1 2 3 4 5 \n",
      "1 2 3 4 5 6 \n",
      "1 2 3 4 5 6 7 \n"
     ]
    }
   ],
   "source": [
    "# 1 \n",
    "# 1 2 \n",
    "# 1 2 3 \n",
    "# 1 2 3 4 \n",
    "# 1 2 3 4 5 \n",
    "for i in range(0,7):\n",
    "    a=1\n",
    "    for j in range(0,i+1):\n",
    "        print(a,end=\" \")\n",
    "        a=a+1 \n",
    "    print()"
   ]
  },
  {
   "cell_type": "code",
   "execution_count": 61,
   "id": "3592ee28",
   "metadata": {},
   "outputs": [
    {
     "name": "stdout",
     "output_type": "stream",
     "text": [
      "0 \n",
      "1 2 \n",
      "3 4 5 \n",
      "6 7 8 9 \n",
      "10 11 12 13 14 \n",
      "15 16 17 18 19 20 \n",
      "21 22 23 24 25 26 27 \n"
     ]
    }
   ],
   "source": [
    "a=0\n",
    "for i in range(7):\n",
    "    for j in range(i+1):\n",
    "        print(a,end=\" \")\n",
    "        a+=1 \n",
    "    print()"
   ]
  },
  {
   "cell_type": "code",
   "execution_count": 62,
   "id": "d03223b8",
   "metadata": {},
   "outputs": [
    {
     "name": "stdout",
     "output_type": "stream",
     "text": [
      "A \n",
      "A B \n",
      "A B C \n",
      "A B C D \n",
      "A B C D E \n",
      "A B C D E F \n",
      "A B C D E F G \n"
     ]
    }
   ],
   "source": [
    "for i in range(0,7):\n",
    "    a=65\n",
    "    for j in range(0,i+1):\n",
    "        print(chr(a),end=\" \")\n",
    "        a=a+1 \n",
    "    print()"
   ]
  },
  {
   "cell_type": "code",
   "execution_count": 64,
   "id": "ecae73bf",
   "metadata": {},
   "outputs": [
    {
     "name": "stdout",
     "output_type": "stream",
     "text": [
      "A \n",
      "B C \n",
      "D E F \n",
      "G H I J \n",
      "K L M N O \n",
      "P Q R S T U \n"
     ]
    }
   ],
   "source": [
    "a=65\n",
    "for i in range(6):\n",
    "    for j in range(i+1):\n",
    "        print(chr(a),end=\" \")\n",
    "        a+=1 \n",
    "    print()"
   ]
  },
  {
   "cell_type": "code",
   "execution_count": 1,
   "id": "55802c10",
   "metadata": {},
   "outputs": [
    {
     "name": "stdout",
     "output_type": "stream",
     "text": [
      "55\n"
     ]
    }
   ],
   "source": [
    "a=\"5\"\n",
    "b=\"5\"\n",
    "print(a+b)"
   ]
  },
  {
   "cell_type": "code",
   "execution_count": 10,
   "id": "0760f1d2",
   "metadata": {},
   "outputs": [
    {
     "data": {
      "text/plain": [
       "24"
      ]
     },
     "execution_count": 10,
     "metadata": {},
     "output_type": "execute_result"
    }
   ],
   "source": [
    "#  factorial of a number \n",
    "def fun(num):\n",
    "    if num==0 or num==1:\n",
    "        return 1\n",
    "    else:\n",
    "        return num*fun(num-1)\n",
    "    \n",
    "fun(4)"
   ]
  },
  {
   "cell_type": "code",
   "execution_count": 40,
   "id": "1b361c25",
   "metadata": {},
   "outputs": [
    {
     "name": "stdout",
     "output_type": "stream",
     "text": [
      "Enter a number to check if it is a armstrong number or not: 371\n",
      "371\n",
      "Yes it is a armstrong number\n"
     ]
    }
   ],
   "source": [
    "a=int(input(\"Enter a number to check if it is a armstrong number or not: \"))\n",
    "num=a\n",
    "cube=0\n",
    "while(num>0):\n",
    "      rem=num%10\n",
    "#       print(num)\n",
    "      num=int(num/10)\n",
    "      cube=cube+(rem*rem*rem)\n",
    "        \n",
    "print(cube)\n",
    "if(a==cube):\n",
    "    print(\"Yes it is a armstrong number\")\n",
    "else:\n",
    "    print(\"No\")\n",
    "\n",
    "\n",
    "    "
   ]
  },
  {
   "cell_type": "code",
   "execution_count": 63,
   "id": "9b0dfb14",
   "metadata": {},
   "outputs": [
    {
     "name": "stdout",
     "output_type": "stream",
     "text": [
      " reverse to used be can that string a am I"
     ]
    }
   ],
   "source": [
    "# // reverse a string word by word\n",
    "a=\" I am a string that can be used to reverse\"\n",
    "b=len(a)\n",
    "j=b\n",
    "k=b-1\n",
    "for i in range(b-1,-1,-1):\n",
    "    if (a[i]==\" \"):\n",
    "        k=i\n",
    "        print(a[k:j],end=\"\")\n",
    "        j=k"
   ]
  },
  {
   "cell_type": "code",
   "execution_count": 20,
   "id": "b88d7c64",
   "metadata": {},
   "outputs": [
    {
     "name": "stdout",
     "output_type": "stream",
     "text": [
      "* \n",
      "* * \n",
      "* * * \n",
      "* * * * \n",
      "* * * * * \n",
      "* * * * * * \n",
      "* * * * * * * \n",
      "* * * * * * * * \n",
      "* * * * * * * * * \n",
      "* * * * * * * * * * \n",
      "* * * * * * * * * * * \n",
      "* * * * * * * * * * * * \n",
      "* * * * * * * * * * * * * \n",
      "* * * * * * * * * * * * * * \n",
      "* * * * * * * * * * * * * * * \n",
      "* * * * * * * * * * * * * * * * \n",
      "* * * * * * * * * * * * * * * * * \n",
      "* * * * * * * * * * * * * * * * * * \n",
      "* * * * * * * * * * * * * * * * * * * \n",
      "* * * * * * * * * * * * * * * * * * * * \n",
      "* * * * * * * * * * * * * * * * * * * * * \n",
      "* * * * * * * * * * * * * * * * * * * * * * \n",
      "* * * * * * * * * * * * * * * * * * * * * * * \n",
      "* * * * * * * * * * * * * * * * * * * * * * * * \n",
      "* * * * * * * * * * * * * * * * * * * * * * * * * \n",
      "* * * * * * * * * * * * * * * * * * * * * * * * \n",
      "* * * * * * * * * * * * * * * * * * * * * * * \n",
      "* * * * * * * * * * * * * * * * * * * * * * \n",
      "* * * * * * * * * * * * * * * * * * * * * \n",
      "* * * * * * * * * * * * * * * * * * * * \n",
      "* * * * * * * * * * * * * * * * * * * \n",
      "* * * * * * * * * * * * * * * * * * \n",
      "* * * * * * * * * * * * * * * * * \n",
      "* * * * * * * * * * * * * * * * \n",
      "* * * * * * * * * * * * * * * \n",
      "* * * * * * * * * * * * * * \n",
      "* * * * * * * * * * * * * \n",
      "* * * * * * * * * * * * \n",
      "* * * * * * * * * * * \n",
      "* * * * * * * * * * \n",
      "* * * * * * * * * \n",
      "* * * * * * * * \n",
      "* * * * * * * \n",
      "* * * * * * \n",
      "* * * * * \n",
      "* * * * \n",
      "* * * \n",
      "* * \n",
      "* \n",
      "\n"
     ]
    }
   ],
   "source": [
    "size=50\n",
    "for i in range(0,int(size/2)):\n",
    "    for j in range(0,i+1):\n",
    "        print(\"*\",end=\" \")\n",
    "    print()\n",
    "for i in range(int(size/2)+1,size+1):\n",
    "    for j in range(0,size-i):\n",
    "        print(\"*\",end=\" \")\n",
    "    print()"
   ]
  },
  {
   "cell_type": "code",
   "execution_count": 23,
   "id": "24e550c5",
   "metadata": {},
   "outputs": [
    {
     "name": "stdout",
     "output_type": "stream",
     "text": [
      "0 9\n"
     ]
    }
   ],
   "source": [
    "\n",
    "o=0\n",
    "l=9\n",
    "swap(o,l)\n",
    "print(o,l)\n",
    "l=[3,4,6,5,3,2,4,5,7,8,5]\n",
    "for i in range(0,len(l)):\n",
    "    for j in range(0,len(l)-1):\n",
    "        if(l[j]>l[i]):\n",
    "            swap(l[j],l[i])"
   ]
  },
  {
   "cell_type": "code",
   "execution_count": 22,
   "id": "a5752efa",
   "metadata": {},
   "outputs": [
    {
     "data": {
      "text/plain": [
       "[3, 4, 6, 5, 3, 2, 4, 5, 7, 8, 5]"
      ]
     },
     "execution_count": 22,
     "metadata": {},
     "output_type": "execute_result"
    }
   ],
   "source": [
    "l"
   ]
  },
  {
   "cell_type": "code",
   "execution_count": 10,
   "id": "afa737cf",
   "metadata": {},
   "outputs": [
    {
     "data": {
      "text/plain": [
       "[1, 2, 7, 3, 3, 5]"
      ]
     },
     "execution_count": 10,
     "metadata": {},
     "output_type": "execute_result"
    }
   ],
   "source": [
    "l=[1,4,2,56,7,7]\n",
    "d=[12,3,5,3,4,5]\n",
    "s=[]\n",
    "for i in range(0,len(l)):\n",
    "    if(i%2==0):\n",
    "        s.append(l[i])\n",
    "for j in range(0,len(d)):\n",
    "    if(j%2==1):\n",
    "        s.append(d[j])\n",
    "s      "
   ]
  },
  {
   "cell_type": "code",
   "execution_count": 17,
   "id": "c8461f13",
   "metadata": {},
   "outputs": [],
   "source": [
    "l=[1,4,2,56,7,7]\n",
    "d=[12,3,5,3,4,5]\n",
    "s=[]\n",
    "e=l[0::2]\n",
    "f=d[1::2]\n",
    "s.extend(e)\n",
    "s.extend(f)"
   ]
  },
  {
   "cell_type": "code",
   "execution_count": 18,
   "id": "f180b6aa",
   "metadata": {},
   "outputs": [
    {
     "data": {
      "text/plain": [
       "[1, 2, 7, 3, 3, 5]"
      ]
     },
     "execution_count": 18,
     "metadata": {},
     "output_type": "execute_result"
    }
   ],
   "source": [
    "s"
   ]
  },
  {
   "cell_type": "code",
   "execution_count": 10,
   "id": "61535f79",
   "metadata": {},
   "outputs": [],
   "source": [
    "l=[1,2,3,4,5,6,7,8,9,10,11,12]\n",
    "a=l[0:8:3]\n",
    "# a.reverse()\n",
    "# b=l[4:8]\n",
    "# b.reverse()\n",
    "# c=l[8:12]\n",
    "# c.reverse()\n",
    "# print(a)\n",
    "# print(b)\n",
    "# print(c)"
   ]
  },
  {
   "cell_type": "code",
   "execution_count": 11,
   "id": "b240d399",
   "metadata": {},
   "outputs": [
    {
     "name": "stdout",
     "output_type": "stream",
     "text": [
      "[1, 4, 7]\n"
     ]
    }
   ],
   "source": [
    "print(a)"
   ]
  },
  {
   "cell_type": "code",
   "execution_count": 39,
   "id": "b152b3c8",
   "metadata": {},
   "outputs": [
    {
     "name": "stdout",
     "output_type": "stream",
     "text": [
      "Enter the number whose occurence you want to check: 13\n",
      "0\n"
     ]
    }
   ],
   "source": [
    "l=[1,2,3,4,5,6,3,8,3,3,11,12]\n",
    "a=int(input(\"Enter the number whose occurence you want to check: \"))\n",
    "c=0\n",
    "\n",
    "for i in range(0,len(l)):\n",
    "    if(l[i]==a):\n",
    "        c=c+1\n",
    "\n",
    "print(c)\n",
    "    "
   ]
  },
  {
   "cell_type": "code",
   "execution_count": 1,
   "id": "5850bd79",
   "metadata": {},
   "outputs": [
    {
     "name": "stdout",
     "output_type": "stream",
     "text": [
      "{}\n",
      "1\n",
      "2\n",
      "3\n",
      "4\n",
      "5\n",
      "6\n",
      "3\n",
      "8\n",
      "3\n",
      "3\n",
      "11\n",
      "12\n"
     ]
    }
   ],
   "source": [
    "l=[1,2,3,4,5,6,3,8,3,3,11,12]\n",
    "count=dict()\n",
    "print(count)\n",
    "for item in l:\n",
    "    if item in count:\n",
    "        count[item] +=1\n",
    "    else:\n",
    "        count[item]=1     "
   ]
  },
  {
   "cell_type": "code",
   "execution_count": 42,
   "id": "b7523f64",
   "metadata": {},
   "outputs": [
    {
     "data": {
      "text/plain": [
       "{1: 1, 2: 1, 3: 4, 4: 1, 5: 1, 6: 1, 8: 1, 11: 1, 12: 1}"
      ]
     },
     "execution_count": 42,
     "metadata": {},
     "output_type": "execute_result"
    }
   ],
   "source": [
    "count"
   ]
  },
  {
   "cell_type": "code",
   "execution_count": 2,
   "id": "4660d294",
   "metadata": {},
   "outputs": [
    {
     "name": "stdout",
     "output_type": "stream",
     "text": [
      "[]\n",
      "[[1, 2, 3, 4], [5, 6, 7, 8], [9, 10, 11, 12]]\n",
      "[[1, 2, 3, 4], [5, 6, 7, 8], [9, 10, 11, 12]]\n"
     ]
    }
   ],
   "source": [
    "l=[1,2,3,4,5,6,7,8,9,10,11,12,13,14]\n",
    "b=int(len(l)/3)\n",
    "c=b-1\n",
    "lis = [[]] * c\n",
    "print(lis[0])\n",
    "start=0\n",
    "end=b\n",
    "for i in range(0,c):\n",
    "    while(end<=len(l)):\n",
    "        lis[i].append(l[start:end])\n",
    "        start=start+4\n",
    "        end=end+4\n",
    "print(lis[0])\n",
    "print(lis[1])\n",
    "\n"
   ]
  },
  {
   "cell_type": "code",
   "execution_count": 5,
   "id": "bc6641fc",
   "metadata": {},
   "outputs": [
    {
     "name": "stdout",
     "output_type": "stream",
     "text": [
      "5151\n"
     ]
    }
   ],
   "source": [
    "sum=0\n",
    "for i in range(1,102):\n",
    "    sum=sum+i\n",
    "print(sum)"
   ]
  },
  {
   "cell_type": "code",
   "execution_count": 20,
   "id": "730a8e2c",
   "metadata": {},
   "outputs": [
    {
     "name": "stdout",
     "output_type": "stream",
     "text": [
      "1\n"
     ]
    },
    {
     "name": "stderr",
     "output_type": "stream",
     "text": [
      "C:\\Users\\kshyk\\AppData\\Local\\Temp\\ipykernel_2388\\75146264.py:2: VisibleDeprecationWarning: Creating an ndarray from ragged nested sequences (which is a list-or-tuple of lists-or-tuples-or ndarrays with different lengths or shapes) is deprecated. If you meant to do this, you must specify 'dtype=object' when creating the ndarray.\n",
      "  arr=np.array([[42],[32,45]])\n"
     ]
    }
   ],
   "source": [
    "import numpy as np"
   ]
  },
  {
   "cell_type": "code",
   "execution_count": 7,
   "id": "35e2ee7a",
   "metadata": {},
   "outputs": [
    {
     "name": "stdout",
     "output_type": "stream",
     "text": [
      " reverse  to  used  be  can  that  string  a  am  i "
     ]
    }
   ],
   "source": [
    "a=\" i am a string that can be used to reverse\"\n",
    "b=len(a)\n",
    "k=b\n",
    "j=b\n",
    "for i in range(b-1,-1,-1):\n",
    "    if(a[i]==\" \"):\n",
    "        k=i\n",
    "        print(a[k:j],end=\" \")\n",
    "        j=k\n"
   ]
  },
  {
   "cell_type": "code",
   "execution_count": 19,
   "id": "b9189799",
   "metadata": {},
   "outputs": [
    {
     "name": "stdout",
     "output_type": "stream",
     "text": [
      "The value of x is 5\n"
     ]
    }
   ],
   "source": [
    "class MyClass:\n",
    "    def printVar(self,x):\n",
    "        print(\"The value of x is\",x)\n",
    "    \n",
    "p=MyClass()\n",
    "p.printVar(5)"
   ]
  },
  {
   "cell_type": "code",
   "execution_count": 21,
   "id": "60ad9696",
   "metadata": {},
   "outputs": [],
   "source": [
    "def __init__(self):\n",
    "    # body of the constructor\n",
    "    pass"
   ]
  },
  {
   "cell_type": "code",
   "execution_count": 23,
   "id": "3ee1ccf4",
   "metadata": {},
   "outputs": [
    {
     "name": "stdout",
     "output_type": "stream",
     "text": [
      "Akshay\n",
      "21\n"
     ]
    }
   ],
   "source": [
    "class Person:\n",
    "    def __init__(self,name,age): # constructor used to initialize variables\n",
    "        self.name = name\n",
    "        self.age = age\n",
    "        \n",
    "p1=Person(\"Akshay\",21)\n",
    "print(p1.name)\n",
    "print(p1.age)"
   ]
  },
  {
   "cell_type": "code",
   "execution_count": 33,
   "id": "7d7a9399",
   "metadata": {},
   "outputs": [
    {
     "name": "stdout",
     "output_type": "stream",
     "text": [
      "Akshay's age is 21\n"
     ]
    }
   ],
   "source": [
    "class Person:\n",
    "    def __init__(self,name,age): # constructor used to initialize variables\n",
    "        self.name = name\n",
    "        self.age = age\n",
    "    \n",
    "    def __str__(self):\n",
    "        return \"{}'s age is {}\".format(self.name,self.age)\n",
    "        \n",
    "p1=Person(\"Akshay\",21)\n",
    "\n",
    "print(p1)"
   ]
  },
  {
   "cell_type": "code",
   "execution_count": 3,
   "id": "a907be30",
   "metadata": {},
   "outputs": [
    {
     "name": "stdout",
     "output_type": "stream",
     "text": [
      "Enter the number to be searched: 32\n",
      "8\n",
      "12\n",
      "18\n"
     ]
    }
   ],
   "source": [
    "a=[9,2,3,34,5,6,75,34,32,12,67,43,32,45,68,90,12,11,32,33,89,70,67,68,83]\n",
    "b=int(input(\"Enter the number to be searched: \"))\n",
    "for i in range(0,len(a)):\n",
    "    if(b==a[i]):\n",
    "        print(i)\n",
    "    "
   ]
  },
  {
   "cell_type": "code",
   "execution_count": 6,
   "id": "4ca2385d",
   "metadata": {},
   "outputs": [
    {
     "name": "stdout",
     "output_type": "stream",
     "text": [
      "Enter value of a: 5\n",
      "Enter value of b: 6\n",
      "* * * * * * \n",
      "* * * * * * \n",
      "* * * * * * \n",
      "* * * * * * \n",
      "* * * * * * \n"
     ]
    }
   ],
   "source": [
    "a=int(input(\"Enter value of a: \"))\n",
    "b=int(input(\"Enter value of b: \"))\n",
    "for i in range(0,a):\n",
    "    for j in range(0,b):\n",
    "        print('*',end=' ')\n",
    "    print()"
   ]
  },
  {
   "cell_type": "code",
   "execution_count": 10,
   "id": "5d5bdccc",
   "metadata": {},
   "outputs": [
    {
     "name": "stdout",
     "output_type": "stream",
     "text": [
      "Enter the number to be checked for armstrong number153\n",
      "Entered Number is a Armstrong Number\n"
     ]
    }
   ],
   "source": [
    "a=int(input(\"Enter the number to be checked for armstrong number\"))\n",
    "cube=0\n",
    "num=a\n",
    "while(num>0):\n",
    "    rem=num%10\n",
    "    num=int(num/10)\n",
    "    cube=cube+rem*rem*rem\n",
    "    \n",
    "if(cube==a):\n",
    "    print(\"Entered Number is a Armstrong Number\")\n",
    "else:\n",
    "    print(\"Entered Number is not a Armstrong Number\")"
   ]
  },
  {
   "cell_type": "code",
   "execution_count": 35,
   "id": "c97de22f",
   "metadata": {},
   "outputs": [
    {
     "name": "stdout",
     "output_type": "stream",
     "text": [
      "Enter your string :aabbaabbaa\n",
      "5\n",
      "6\n",
      "The given string is a palindrom\n"
     ]
    }
   ],
   "source": [
    "a=input(\"Enter your string :\")\n",
    "b=len(a)\n",
    "c=int(b/2)\n",
    "print(c)\n",
    "k=b-1\n",
    "d=0\n",
    "for i in range(c+1):\n",
    "    if(a[i]==a[k]):\n",
    "        d+=1\n",
    "        k-=1\n",
    "print(d)\n",
    "if(d==c+1):\n",
    "    print(\"The given string is a palindrom\")\n",
    "else:\n",
    "    print(\"The given string is not a palindrom\")"
   ]
  },
  {
   "cell_type": "code",
   "execution_count": 7,
   "id": "777697b8",
   "metadata": {},
   "outputs": [
    {
     "name": "stdout",
     "output_type": "stream",
     "text": [
      "((12, 2), (13, 3), (14, 4), (15, 5), (16, 6))\n"
     ]
    }
   ],
   "source": [
    "a=[12,13,14,15,16]\n",
    "b=[2,3,4,5,6]\n",
    "d=tuple(zip(a,b))\n",
    "print(d)"
   ]
  },
  {
   "cell_type": "code",
   "execution_count": 58,
   "id": "84b677ea",
   "metadata": {},
   "outputs": [
    {
     "name": "stdout",
     "output_type": "stream",
     "text": [
      "<class 'list'>\n",
      "[1, 2, 4, 5, 6, 9]\n"
     ]
    }
   ],
   "source": [
    "a=[2,1,4,9,6,5]\n",
    "print(type(a))\n",
    "a.sort()\n",
    "print(a)"
   ]
  },
  {
   "cell_type": "code",
   "execution_count": 67,
   "id": "429cc218",
   "metadata": {},
   "outputs": [
    {
     "name": "stdout",
     "output_type": "stream",
     "text": [
      "[1, 2, 4, 5, 6, 9, 5, 5, 5, 5]\n"
     ]
    },
    {
     "data": {
      "text/plain": [
       "3"
      ]
     },
     "execution_count": 67,
     "metadata": {},
     "output_type": "execute_result"
    }
   ],
   "source": [
    "print(a)\n",
    "a.index(5)"
   ]
  },
  {
   "cell_type": "code",
   "execution_count": 68,
   "id": "275ca647",
   "metadata": {},
   "outputs": [
    {
     "data": {
      "text/plain": [
       "9"
      ]
     },
     "execution_count": 68,
     "metadata": {},
     "output_type": "execute_result"
    }
   ],
   "source": [
    "max(a)"
   ]
  },
  {
   "cell_type": "code",
   "execution_count": 69,
   "id": "33914428",
   "metadata": {},
   "outputs": [
    {
     "data": {
      "text/plain": [
       "1"
      ]
     },
     "execution_count": 69,
     "metadata": {},
     "output_type": "execute_result"
    }
   ],
   "source": [
    "min(a)"
   ]
  },
  {
   "cell_type": "code",
   "execution_count": 71,
   "id": "7c439749",
   "metadata": {},
   "outputs": [
    {
     "name": "stdout",
     "output_type": "stream",
     "text": [
      "[]\n"
     ]
    }
   ],
   "source": [
    "a.clear()\n",
    "print(a)"
   ]
  },
  {
   "cell_type": "code",
   "execution_count": 72,
   "id": "95f4425f",
   "metadata": {},
   "outputs": [],
   "source": [
    "a=[2,1,4,9,6,5]\n",
    "b=[1,4,2,6,5]\n",
    "a.extend(b)"
   ]
  },
  {
   "cell_type": "code",
   "execution_count": 73,
   "id": "e0143aa0",
   "metadata": {},
   "outputs": [
    {
     "data": {
      "text/plain": [
       "[2, 1, 4, 9, 6, 5, 1, 4, 2, 6, 5]"
      ]
     },
     "execution_count": 73,
     "metadata": {},
     "output_type": "execute_result"
    }
   ],
   "source": [
    "a"
   ]
  },
  {
   "cell_type": "code",
   "execution_count": 76,
   "id": "75ce1928",
   "metadata": {},
   "outputs": [],
   "source": [
    "a.insert(7,54)"
   ]
  },
  {
   "cell_type": "code",
   "execution_count": 77,
   "id": "567783b3",
   "metadata": {},
   "outputs": [
    {
     "data": {
      "text/plain": [
       "[2, 1, 4, 9, 6, 5, 1, 54, 4, 2, 6, 5, 7]"
      ]
     },
     "execution_count": 77,
     "metadata": {},
     "output_type": "execute_result"
    }
   ],
   "source": [
    "a"
   ]
  },
  {
   "cell_type": "code",
   "execution_count": 78,
   "id": "ee936752",
   "metadata": {},
   "outputs": [
    {
     "data": {
      "text/plain": [
       "4"
      ]
     },
     "execution_count": 78,
     "metadata": {},
     "output_type": "execute_result"
    }
   ],
   "source": [
    "a.pop(2) # pop takes index as argument"
   ]
  },
  {
   "cell_type": "code",
   "execution_count": 80,
   "id": "f323eb34",
   "metadata": {},
   "outputs": [],
   "source": [
    "a.remove(54) # remove take value as argument"
   ]
  },
  {
   "cell_type": "code",
   "execution_count": 81,
   "id": "1fee7678",
   "metadata": {},
   "outputs": [
    {
     "data": {
      "text/plain": [
       "[2, 1, 9, 6, 5, 1, 4, 2, 6, 5, 7]"
      ]
     },
     "execution_count": 81,
     "metadata": {},
     "output_type": "execute_result"
    }
   ],
   "source": [
    "a"
   ]
  },
  {
   "cell_type": "code",
   "execution_count": 20,
   "id": "cf8e15c6",
   "metadata": {},
   "outputs": [
    {
     "name": "stdout",
     "output_type": "stream",
     "text": [
      "[2, 3, 4]\n",
      "[4, 6, 8]\n",
      "[6, 9, 12]\n",
      "[8, 12, 16]\n"
     ]
    }
   ],
   "source": [
    "def addition(n):\n",
    "    yield n * 2\n",
    "    yield n * 3\n",
    "    yield n * 4\n",
    "  \n",
    "numbers = (1, 2, 3, 4)\n",
    "result = map(addition, numbers)\n",
    "for i in list(result):\n",
    "    print(list(i))"
   ]
  },
  {
   "cell_type": "code",
   "execution_count": 21,
   "id": "4d93c0d8",
   "metadata": {},
   "outputs": [
    {
     "data": {
      "text/plain": [
       "[18, 27, 36]"
      ]
     },
     "execution_count": 21,
     "metadata": {},
     "output_type": "execute_result"
    }
   ],
   "source": [
    "def addition(n):\n",
    "    yield n * 2\n",
    "    yield n * 3\n",
    "    yield n * 4\n",
    "\n",
    "# def addition(n):\n",
    "#     return n * 2\n",
    "#     return n * 3\n",
    "#     return n * 4\n",
    "\n",
    "list(addition(9))\n"
   ]
  },
  {
   "cell_type": "code",
   "execution_count": 15,
   "id": "edd6c417",
   "metadata": {},
   "outputs": [
    {
     "name": "stdout",
     "output_type": "stream",
     "text": [
      "[1, 2, 6, 24]\n"
     ]
    }
   ],
   "source": [
    "# map function kisi datastructure ke sare elements ko iterate karta hai or unpe function chalata hai\n",
    "def factorial(n):\n",
    "    if(n==0 or n==1):\n",
    "        return 1\n",
    "    else:\n",
    "        return n*factorial(n-1)    \n",
    "    \n",
    "num=[1,2,3,4]\n",
    "result=map(factorial,num)\n",
    "print(list(result))"
   ]
  },
  {
   "cell_type": "code",
   "execution_count": 5,
   "id": "a0395dc2",
   "metadata": {},
   "outputs": [],
   "source": [
    "# lambda function can take as many argument as it want but only one expression\n",
    "add = lambda x: x*x*x"
   ]
  },
  {
   "cell_type": "code",
   "execution_count": 7,
   "id": "a2e651dd",
   "metadata": {},
   "outputs": [],
   "source": [
    "d=[12,13,14,15,16]\n",
    "e=map(add,d)"
   ]
  },
  {
   "cell_type": "code",
   "execution_count": 10,
   "id": "f16669a1",
   "metadata": {},
   "outputs": [
    {
     "name": "stdout",
     "output_type": "stream",
     "text": [
      "[1728, 2197, 2744, 3375, 4096]\n"
     ]
    }
   ],
   "source": [
    "print(list(e))"
   ]
  },
  {
   "cell_type": "code",
   "execution_count": 13,
   "id": "0775bc4a",
   "metadata": {},
   "outputs": [
    {
     "data": {
      "text/plain": [
       "[16, 15, 14, 13, 12]"
      ]
     },
     "execution_count": 13,
     "metadata": {},
     "output_type": "execute_result"
    }
   ],
   "source": [
    "d=[12,13,14,15,16]\n",
    "d.sort(reverse=True)\n",
    "d"
   ]
  },
  {
   "cell_type": "code",
   "execution_count": 29,
   "id": "2372f1d6",
   "metadata": {},
   "outputs": [
    {
     "name": "stdout",
     "output_type": "stream",
     "text": [
      "0\n",
      "1\n",
      "2\n",
      "3\n",
      "4\n",
      "5\n",
      "6\n"
     ]
    }
   ],
   "source": [
    "# A generator-function is defined like a normal function, but whenever it needs to generate a value, \n",
    "# it does so with the yield keyword rather than return\n",
    "\n",
    "# If the body of a def contains yield, the function automatically becomes a generator function.\n",
    "\n",
    "def gen(num):\n",
    "    for i in range(num):\n",
    "        yield i\n",
    "    \n",
    "g=gen(7)\n",
    "print(g.__next__())\n",
    "print(g.__next__())\n",
    "print(g.__next__())\n",
    "print(g.__next__())\n",
    "print(g.__next__())\n",
    "print(g.__next__())\n",
    "print(g.__next__())\n"
   ]
  },
  {
   "cell_type": "code",
   "execution_count": 3,
   "id": "0789efad",
   "metadata": {},
   "outputs": [
    {
     "name": "stdout",
     "output_type": "stream",
     "text": [
      "Dictionary {5: 'Five', 10: 'Ten'}\n"
     ]
    }
   ],
   "source": [
    "d={}\n",
    "d[5] = \"Five\"\n",
    "d[10] = \"Ten\"\n",
    "print(\"Dictionary\", d)"
   ]
  },
  {
   "cell_type": "code",
   "execution_count": 42,
   "id": "91986c6d",
   "metadata": {},
   "outputs": [
    {
     "name": "stdout",
     "output_type": "stream",
     "text": [
      "Enter Year:2004\n",
      "It is not a leap year\n"
     ]
    }
   ],
   "source": [
    "a=int(input('Enter Year:'))\n",
    "if(a%4==0 or a%400==0):\n",
    "    print('The Year is a leap Year')\n",
    "else:\n",
    "    print('It is not a leap year')"
   ]
  },
  {
   "cell_type": "code",
   "execution_count": 40,
   "id": "8efe3af8",
   "metadata": {},
   "outputs": [
    {
     "name": "stdout",
     "output_type": "stream",
     "text": [
      "Enter Year:1900\n",
      "1900 is not a leap year\n"
     ]
    }
   ],
   "source": [
    "year = int(input(\"Enter Year:\"))\n",
    "\n",
    "if (year % 400 == 0) and (year % 100 == 0):\n",
    "    print(\"{} is a leap year\".format(year))\n",
    "\n",
    "elif (year % 4 ==0) and (year % 100 != 0):\n",
    "    print(\"{} is a leap year\".format(year))\n",
    "\n",
    "else:\n",
    "    print(\"{} is not a leap year\".format(year))"
   ]
  },
  {
   "cell_type": "code",
   "execution_count": 4,
   "id": "bc93496b",
   "metadata": {},
   "outputs": [
    {
     "name": "stdout",
     "output_type": "stream",
     "text": [
      "1\n",
      "2\n",
      "3\n",
      "4\n",
      "5\n",
      "7\n",
      "8\n",
      "9\n"
     ]
    }
   ],
   "source": [
    "for i in range(1,10):\n",
    "    if(i==6):\n",
    "        continue\n",
    "    else:\n",
    "        print(i)"
   ]
  },
  {
   "cell_type": "code",
   "execution_count": 5,
   "id": "4bcbdd1f",
   "metadata": {},
   "outputs": [
    {
     "name": "stdout",
     "output_type": "stream",
     "text": [
      "0\n",
      "1\n",
      "2\n",
      "4\n"
     ]
    }
   ],
   "source": [
    "for i in range(5):\n",
    "    if i == 3:\n",
    "        continue\n",
    "    print(i)"
   ]
  },
  {
   "cell_type": "code",
   "execution_count": 32,
   "id": "650b799d",
   "metadata": {},
   "outputs": [
    {
     "name": "stdout",
     "output_type": "stream",
     "text": [
      "64\n"
     ]
    }
   ],
   "source": [
    "a=pow(4,3)\n",
    "print(a)"
   ]
  },
  {
   "cell_type": "code",
   "execution_count": 30,
   "id": "6c623c89",
   "metadata": {},
   "outputs": [
    {
     "name": "stdout",
     "output_type": "stream",
     "text": [
      "Enter Input:29\n",
      "11101\n"
     ]
    }
   ],
   "source": [
    "a=int(input(\"Enter Input:\"))\n",
    "num=a\n",
    "l=[]\n",
    "while(num>0):\n",
    "    rem=num%2\n",
    "    l.append(str(rem))\n",
    "    num=int(num/2)\n",
    "l.reverse()\n",
    "print(\"\".join(l))"
   ]
  },
  {
   "cell_type": "code",
   "execution_count": 35,
   "id": "3a58ae36",
   "metadata": {},
   "outputs": [
    {
     "name": "stdout",
     "output_type": "stream",
     "text": [
      "10\n",
      "20\n",
      "20\n"
     ]
    }
   ],
   "source": [
    "temp = 10 \n",
    "def func():\n",
    "     global temp\n",
    "     temp = 20\n",
    "     print(temp)\n",
    "print(temp)\n",
    "func()\n",
    "print(temp)  "
   ]
  },
  {
   "cell_type": "code",
   "execution_count": 38,
   "id": "ff26ad43",
   "metadata": {},
   "outputs": [],
   "source": [
    "import pickle\n",
    "EmpID = {1:\"Zack\",\n",
    "         2:\"53050\",\n",
    "         3:\"IT\",\n",
    "         4:\"38\",\n",
    "         5:\"Flipkart\"}\n",
    "pickling_on = open(\"EmpID.pickle\",\"wb\")\n",
    "pickle.dump(EmpID, pickling_on)\n",
    "pickling_on.close()"
   ]
  },
  {
   "cell_type": "code",
   "execution_count": 39,
   "id": "e21b92fc",
   "metadata": {},
   "outputs": [
    {
     "name": "stdout",
     "output_type": "stream",
     "text": [
      "{1: 'Zack', 2: '53050', 3: 'IT', 4: '38', 5: 'Flipkart'}\n"
     ]
    }
   ],
   "source": [
    "import pickle\n",
    "pickle_off = open(\"EmpID.pickle\", 'rb')\n",
    "EmpID = pickle.load(pickle_off)\n",
    "print(EmpID)"
   ]
  },
  {
   "cell_type": "code",
   "execution_count": 41,
   "id": "77dccc6a",
   "metadata": {},
   "outputs": [
    {
     "name": "stdout",
     "output_type": "stream",
     "text": [
      "5\n"
     ]
    }
   ],
   "source": [
    "l=[1,2,3,[2,3,4,[4,5,6]]]\n",
    "print(l[3][3][1])"
   ]
  },
  {
   "cell_type": "code",
   "execution_count": 69,
   "id": "08dcc6fa",
   "metadata": {},
   "outputs": [
    {
     "name": "stdout",
     "output_type": "stream",
     "text": [
      "2\n",
      "4\n",
      "6\n",
      "8\n",
      "10\n",
      "3\n",
      "6\n",
      "9\n",
      "12\n",
      "15\n",
      "4\n",
      "8\n",
      "12\n",
      "16\n",
      "20\n"
     ]
    }
   ],
   "source": [
    "a = [[2, 4, 6, 8, 10], [3, 6, 9, 12, 15], [4, 8, 12, 16, 20]]\n",
    "for i in a:\n",
    "   for j in i:\n",
    "    print(j)\n"
   ]
  },
  {
   "cell_type": "code",
   "execution_count": 49,
   "id": "c4f34413",
   "metadata": {},
   "outputs": [
    {
     "data": {
      "text/plain": [
       "'A'"
      ]
     },
     "execution_count": 49,
     "metadata": {},
     "output_type": "execute_result"
    }
   ],
   "source": [
    "chr(65)"
   ]
  },
  {
   "cell_type": "code",
   "execution_count": 64,
   "id": "5fbfe13e",
   "metadata": {},
   "outputs": [
    {
     "name": "stdout",
     "output_type": "stream",
     "text": [
      "xb 10\n",
      "yb 20\n",
      "xa 10\n",
      "ya 20\n"
     ]
    }
   ],
   "source": [
    "def swap(a,b):\n",
    "    a,b=b,a\n",
    "    return a,b\n",
    "\n",
    "x=10\n",
    "y=20\n",
    "print(\"xb\",x)\n",
    "print(\"yb\",y)\n",
    "swap(x,y)\n",
    "print(\"xa\",x)\n",
    "print(\"ya\",y)"
   ]
  },
  {
   "cell_type": "code",
   "execution_count": 30,
   "id": "71ef0a81",
   "metadata": {},
   "outputs": [
    {
     "name": "stdout",
     "output_type": "stream",
     "text": [
      "Enter value : 6\n",
      "Enter value : 7\n",
      "Before swapping a : 6\n",
      "Before swapping b : 7\n",
      "After swapping a becomes : 7\n",
      "After swapping b becomes : 6\n"
     ]
    }
   ],
   "source": [
    "def swap(x,y): \n",
    "    print(\"Before swapping a :\",x)\n",
    "    print(\"Before swapping b :\",y)\n",
    "    #logic to swap without using third variable \n",
    "    x,y=y,x\n",
    "    return x,y\n",
    "\n",
    "a=int(input(\"Enter value : \"))\n",
    "b=int(input(\"Enter value : \"))  \n",
    "\n",
    "a,b=swap(a,b) \n",
    "print(\"After swapping a becomes :\",a)\n",
    "print(\"After swapping b becomes :\",b)"
   ]
  },
  {
   "cell_type": "code",
   "execution_count": 17,
   "id": "f7ae38ad",
   "metadata": {},
   "outputs": [
    {
     "name": "stdout",
     "output_type": "stream",
     "text": [
      "x = 10\n",
      "y = 5\n"
     ]
    }
   ],
   "source": [
    "x = 5\n",
    "y = 10\n",
    "\n",
    "x, y = y, x\n",
    "print(\"x =\", x)\n",
    "print(\"y =\", y)"
   ]
  },
  {
   "cell_type": "code",
   "execution_count": 14,
   "id": "4a4803b8",
   "metadata": {},
   "outputs": [],
   "source": [
    "def fib(n):\n",
    "    if(n <= 1):\n",
    "        return n\n",
    "    else:\n",
    "        return fib(n-1) + fib(n-2)"
   ]
  },
  {
   "cell_type": "code",
   "execution_count": 15,
   "id": "4614f042",
   "metadata": {},
   "outputs": [
    {
     "name": "stdout",
     "output_type": "stream",
     "text": [
      "0 1 1 2 3 5 8 13 21 34 55 89 144 233 377 610 987 1597 2584 4181 "
     ]
    }
   ],
   "source": [
    "for i in range(20):\n",
    "    print(fib(i),end=' ')"
   ]
  },
  {
   "cell_type": "code",
   "execution_count": 10,
   "id": "208a47cb",
   "metadata": {},
   "outputs": [],
   "source": [
    "def factorial(n):\n",
    "    if(n==0 or n==1):\n",
    "        return 1\n",
    "    else:\n",
    "        return n*factorial(n-1)"
   ]
  },
  {
   "cell_type": "code",
   "execution_count": 13,
   "id": "4006e622",
   "metadata": {},
   "outputs": [
    {
     "data": {
      "text/plain": [
       "6"
      ]
     },
     "execution_count": 13,
     "metadata": {},
     "output_type": "execute_result"
    }
   ],
   "source": [
    "factorial(3)"
   ]
  },
  {
   "cell_type": "code",
   "execution_count": 19,
   "id": "17bf8126",
   "metadata": {},
   "outputs": [
    {
     "name": "stdout",
     "output_type": "stream",
     "text": [
      "6\n",
      "12\n",
      "18\n",
      "24\n",
      "30\n"
     ]
    }
   ],
   "source": [
    "def mul(n):\n",
    "    return n*6\n",
    "l=[1,2,3,4,5]\n",
    "d=map(mul,l)\n",
    "for i in d:\n",
    "    print(i)"
   ]
  },
  {
   "cell_type": "code",
   "execution_count": 22,
   "id": "80e46b81",
   "metadata": {},
   "outputs": [
    {
     "data": {
      "text/plain": [
       "34"
      ]
     },
     "execution_count": 22,
     "metadata": {},
     "output_type": "execute_result"
    }
   ],
   "source": [
    "def fibo(n):\n",
    "    if(n<=1):\n",
    "        return 1\n",
    "    else:\n",
    "        return fibo(n-1)+fibo(n-2)\n",
    "fibo(8)"
   ]
  },
  {
   "cell_type": "code",
   "execution_count": 1,
   "id": "6ee5b1cd",
   "metadata": {},
   "outputs": [],
   "source": []
  },
  {
   "cell_type": "code",
   "execution_count": null,
   "id": "d40efc8c",
   "metadata": {},
   "outputs": [],
   "source": []
  },
  {
   "cell_type": "code",
   "execution_count": 15,
   "id": "b7aa6210",
   "metadata": {},
   "outputs": [
    {
     "name": "stdout",
     "output_type": "stream",
     "text": [
      "akshay\n",
      "aakash\n",
      "aditi\n"
     ]
    }
   ],
   "source": [
    "lis1=['akshay','ravi','raju','rajesh','aakash','sonali','aditi']\n",
    "def fil(lis):\n",
    "    for i in lis:\n",
    "        if(i[0]=='a'):\n",
    "            return True\n",
    "        else:\n",
    "            return False\n",
    "f=filter(fil,lis1)\n",
    "for i in f:\n",
    "    print(i)"
   ]
  },
  {
   "cell_type": "code",
   "execution_count": 23,
   "id": "c3e3e7d9",
   "metadata": {},
   "outputs": [
    {
     "name": "stdout",
     "output_type": "stream",
     "text": [
      "1010201\n"
     ]
    }
   ],
   "source": [
    "a=1020101\n",
    "b=str(a)\n",
    "print(b[::-1])"
   ]
  },
  {
   "cell_type": "code",
   "execution_count": 29,
   "id": "8222e8ef",
   "metadata": {},
   "outputs": [
    {
     "name": "stdout",
     "output_type": "stream",
     "text": [
      "Enter Any Number:7\n",
      "2.857142857142857\n",
      "This code always run\n"
     ]
    }
   ],
   "source": [
    "try:\n",
    "    a=20\n",
    "    b=int(input(\"Enter Any Number:\"))\n",
    "    c=a/b\n",
    "    print(c)\n",
    "except:\n",
    "    print('Error Occured')\n",
    "finally:\n",
    "    print('This code always run')"
   ]
  },
  {
   "cell_type": "code",
   "execution_count": 31,
   "id": "daac47e3",
   "metadata": {},
   "outputs": [
    {
     "name": "stdout",
     "output_type": "stream",
     "text": [
      "                                                            * \n",
      "                                                           * * \n",
      "                                                          * * * \n",
      "                                                         * * * * \n",
      "                                                        * * * * * \n",
      "                                                       * * * * * * \n",
      "                                                      * * * * * * * \n",
      "                                                     * * * * * * * * \n",
      "                                                    * * * * * * * * * \n",
      "                                                   * * * * * * * * * * \n",
      "                                                  * * * * * * * * * * * \n",
      "                                                 * * * * * * * * * * * * \n",
      "                                                * * * * * * * * * * * * * \n",
      "                                               * * * * * * * * * * * * * * \n",
      "                                              * * * * * * * * * * * * * * * \n",
      "                                             * * * * * * * * * * * * * * * * \n",
      "                                            * * * * * * * * * * * * * * * * * \n",
      "                                           * * * * * * * * * * * * * * * * * * \n",
      "                                          * * * * * * * * * * * * * * * * * * * \n",
      "                                         * * * * * * * * * * * * * * * * * * * * \n",
      "                                        * * * * * * * * * * * * * * * * * * * * * \n",
      "                                       * * * * * * * * * * * * * * * * * * * * * * \n",
      "                                      * * * * * * * * * * * * * * * * * * * * * * * \n",
      "                                     * * * * * * * * * * * * * * * * * * * * * * * * \n",
      "                                    * * * * * * * * * * * * * * * * * * * * * * * * * \n",
      "                                   * * * * * * * * * * * * * * * * * * * * * * * * * * \n",
      "                                  * * * * * * * * * * * * * * * * * * * * * * * * * * * \n",
      "                                 * * * * * * * * * * * * * * * * * * * * * * * * * * * * \n",
      "                                * * * * * * * * * * * * * * * * * * * * * * * * * * * * * \n",
      "                               * * * * * * * * * * * * * * * * * * * * * * * * * * * * * * \n",
      "                              * * * * * * * * * * * * * * * * * * * * * * * * * * * * * * * \n",
      "                             * * * * * * * * * * * * * * * * * * * * * * * * * * * * * * * * \n",
      "                            * * * * * * * * * * * * * * * * * * * * * * * * * * * * * * * * * \n",
      "                           * * * * * * * * * * * * * * * * * * * * * * * * * * * * * * * * * * \n",
      "                          * * * * * * * * * * * * * * * * * * * * * * * * * * * * * * * * * * * \n",
      "                         * * * * * * * * * * * * * * * * * * * * * * * * * * * * * * * * * * * * \n",
      "                        * * * * * * * * * * * * * * * * * * * * * * * * * * * * * * * * * * * * * \n",
      "                       * * * * * * * * * * * * * * * * * * * * * * * * * * * * * * * * * * * * * * \n",
      "                      * * * * * * * * * * * * * * * * * * * * * * * * * * * * * * * * * * * * * * * \n",
      "                     * * * * * * * * * * * * * * * * * * * * * * * * * * * * * * * * * * * * * * * * \n",
      "                    * * * * * * * * * * * * * * * * * * * * * * * * * * * * * * * * * * * * * * * * * \n",
      "                   * * * * * * * * * * * * * * * * * * * * * * * * * * * * * * * * * * * * * * * * * * \n",
      "                  * * * * * * * * * * * * * * * * * * * * * * * * * * * * * * * * * * * * * * * * * * * \n",
      "                 * * * * * * * * * * * * * * * * * * * * * * * * * * * * * * * * * * * * * * * * * * * * \n",
      "                * * * * * * * * * * * * * * * * * * * * * * * * * * * * * * * * * * * * * * * * * * * * * \n",
      "               * * * * * * * * * * * * * * * * * * * * * * * * * * * * * * * * * * * * * * * * * * * * * * \n",
      "              * * * * * * * * * * * * * * * * * * * * * * * * * * * * * * * * * * * * * * * * * * * * * * * \n",
      "             * * * * * * * * * * * * * * * * * * * * * * * * * * * * * * * * * * * * * * * * * * * * * * * * \n",
      "            * * * * * * * * * * * * * * * * * * * * * * * * * * * * * * * * * * * * * * * * * * * * * * * * * \n",
      "           * * * * * * * * * * * * * * * * * * * * * * * * * * * * * * * * * * * * * * * * * * * * * * * * * * \n",
      "          * * * * * * * * * * * * * * * * * * * * * * * * * * * * * * * * * * * * * * * * * * * * * * * * * * * \n",
      "         * * * * * * * * * * * * * * * * * * * * * * * * * * * * * * * * * * * * * * * * * * * * * * * * * * * * \n",
      "        * * * * * * * * * * * * * * * * * * * * * * * * * * * * * * * * * * * * * * * * * * * * * * * * * * * * * \n",
      "       * * * * * * * * * * * * * * * * * * * * * * * * * * * * * * * * * * * * * * * * * * * * * * * * * * * * * * \n",
      "      * * * * * * * * * * * * * * * * * * * * * * * * * * * * * * * * * * * * * * * * * * * * * * * * * * * * * * * \n",
      "     * * * * * * * * * * * * * * * * * * * * * * * * * * * * * * * * * * * * * * * * * * * * * * * * * * * * * * * * \n",
      "    * * * * * * * * * * * * * * * * * * * * * * * * * * * * * * * * * * * * * * * * * * * * * * * * * * * * * * * * * \n",
      "   * * * * * * * * * * * * * * * * * * * * * * * * * * * * * * * * * * * * * * * * * * * * * * * * * * * * * * * * * * \n",
      "  * * * * * * * * * * * * * * * * * * * * * * * * * * * * * * * * * * * * * * * * * * * * * * * * * * * * * * * * * * * \n",
      " * * * * * * * * * * * * * * * * * * * * * * * * * * * * * * * * * * * * * * * * * * * * * * * * * * * * * * * * * * * * \n"
     ]
    }
   ],
   "source": [
    "n=60\n",
    "for i in range(0,n):\n",
    "    for j in range(0,n-i):\n",
    "        print(end=\" \")\n",
    "    for j in range(0,i+1):\n",
    "        print(\"* \",end=\"\")\n",
    "    print()"
   ]
  },
  {
   "cell_type": "code",
   "execution_count": 32,
   "id": "af592609",
   "metadata": {},
   "outputs": [
    {
     "name": "stdout",
     "output_type": "stream",
     "text": [
      "John Doe\n"
     ]
    }
   ],
   "source": [
    "class Person:\n",
    "  def __init__(self, fname, lname):\n",
    "    self.firstname = fname\n",
    "    self.lastname = lname\n",
    "\n",
    "  def printname(self):\n",
    "    print(self.firstname, self.lastname)\n",
    "\n",
    "x = Person(\"John\", \"Doe\")\n",
    "x.printname()"
   ]
  },
  {
   "cell_type": "code",
   "execution_count": 33,
   "id": "12111dd7",
   "metadata": {},
   "outputs": [],
   "source": [
    "class Akshay:\n",
    "    def __init__(self,name,age):\n",
    "        self.nname=name\n",
    "        self.nage=age\n",
    "    def prin(self):\n",
    "        print(self.nname,self.nage)"
   ]
  },
  {
   "cell_type": "code",
   "execution_count": 37,
   "id": "6449a01a",
   "metadata": {},
   "outputs": [
    {
     "name": "stdout",
     "output_type": "stream",
     "text": [
      "akshay 20\n"
     ]
    }
   ],
   "source": [
    "aksh=Akshay('akshay',20)\n",
    "aksh.prin()"
   ]
  },
  {
   "cell_type": "code",
   "execution_count": 44,
   "id": "1df12c80",
   "metadata": {},
   "outputs": [],
   "source": [
    "class Student(Akshay):\n",
    "  pass"
   ]
  },
  {
   "cell_type": "code",
   "execution_count": 45,
   "id": "8ca21b49",
   "metadata": {},
   "outputs": [
    {
     "name": "stdout",
     "output_type": "stream",
     "text": [
      "Aks1 67\n"
     ]
    }
   ],
   "source": [
    "A=Student('Aks1',67)\n",
    "A.prin()"
   ]
  },
  {
   "cell_type": "code",
   "execution_count": 54,
   "id": "969e6842",
   "metadata": {},
   "outputs": [
    {
     "name": "stdout",
     "output_type": "stream",
     "text": [
      "1\n",
      "2\n",
      "3\n"
     ]
    }
   ],
   "source": [
    "a=(1,2,3,4,5,6,7)\n",
    "b=iter(a)\n",
    "print(next(b))\n",
    "print(next(b))\n",
    "print(next(b))"
   ]
  },
  {
   "cell_type": "code",
   "execution_count": 50,
   "id": "deec8674",
   "metadata": {},
   "outputs": [
    {
     "name": "stdout",
     "output_type": "stream",
     "text": [
      "<class 'tuple'>\n"
     ]
    }
   ],
   "source": [
    "mytuple = (\"apple\", \"banana\", \"cherry\")\n",
    "# print(type(mytuple))\n",
    "myit = iter(mytuple)\n",
    "\n",
    "# print(next(myit))\n",
    "# print(next(myit))\n",
    "# print(next(myit))"
   ]
  },
  {
   "cell_type": "code",
   "execution_count": 59,
   "id": "c8efe247",
   "metadata": {},
   "outputs": [
    {
     "name": "stdout",
     "output_type": "stream",
     "text": [
      "Enter Any Number:8\n",
      "2.5\n",
      "Index Error Occured\n"
     ]
    }
   ],
   "source": [
    "try:\n",
    "    a=20\n",
    "    b=int(input(\"Enter Any Number:\"))\n",
    "    c=a/b\n",
    "    print(c)\n",
    "    list=[1,2,3,4,5,6]\n",
    "    print(list[6])\n",
    "except ZeroDivisionError:\n",
    "    print(\"ZeroDivisionError Occurred and Handled\")\n",
    "except NameError:\n",
    "    print(\"NameError Occurred and Handled\")\n",
    "except IndexError:\n",
    "    print(\"Index Error Occured\")"
   ]
  },
  {
   "cell_type": "code",
   "execution_count": 67,
   "id": "0b6f8f16",
   "metadata": {},
   "outputs": [
    {
     "name": "stdout",
     "output_type": "stream",
     "text": [
      "Enter A:8\n",
      "Enter B:9\n",
      "-17.0\n"
     ]
    }
   ],
   "source": [
    "a=int(input(\"Enter A:\"))\n",
    "b=int(input(\"Enter B:\"))\n",
    "try:\n",
    "    c = ((a+b) / (a-b))\n",
    "except ZeroDivisionError:\n",
    "    print (\"Error\")\n",
    "else:\n",
    "    print (c)"
   ]
  },
  {
   "cell_type": "code",
   "execution_count": 75,
   "id": "96ecb93c",
   "metadata": {},
   "outputs": [
    {
     "name": "stdout",
     "output_type": "stream",
     "text": [
      "*\n",
      "**\n",
      "***\n",
      "****\n",
      "*****\n",
      "******\n",
      "*******\n",
      "********\n",
      "*********\n",
      "**********\n",
      "*********\n",
      "********\n",
      "*******\n",
      "******\n",
      "*****\n",
      "****\n",
      "***\n",
      "**\n",
      "*\n"
     ]
    }
   ],
   "source": [
    "a=19\n",
    "for i in range(0,int(a/2)):\n",
    "    for j in range(0,i+1):\n",
    "        print(\"*\",end='')\n",
    "    print()\n",
    "for i in range(int(a/2),a):\n",
    "    for j in range(0,a-i):\n",
    "        print(\"*\",end='')\n",
    "    print()\n",
    "               "
   ]
  },
  {
   "cell_type": "code",
   "execution_count": 101,
   "id": "96a9c305",
   "metadata": {},
   "outputs": [
    {
     "name": "stdout",
     "output_type": "stream",
     "text": [
      " revers to used is that String"
     ]
    }
   ],
   "source": [
    "a=\" String that is used to reverse\"\n",
    "b=len(a)\n",
    "k=b-1\n",
    "j=b-1\n",
    "for i in range(b-1,-1,-1):\n",
    "    if(a[i]==' '):\n",
    "        k=i\n",
    "        print(a[k:j],end='')\n",
    "        j=k"
   ]
  },
  {
   "cell_type": "code",
   "execution_count": 12,
   "id": "8665a166",
   "metadata": {},
   "outputs": [
    {
     "name": "stdout",
     "output_type": "stream",
     "text": [
      "2\n"
     ]
    }
   ],
   "source": [
    "a='ABCDEFBCD'\n",
    "b='BCD'\n",
    "c=a.count(b)"
   ]
  },
  {
   "cell_type": "code",
   "execution_count": 51,
   "id": "ae443397",
   "metadata": {},
   "outputs": [
    {
     "name": "stdout",
     "output_type": "stream",
     "text": [
      "Enter a string:aaaabbbbaaabbbcccccddddddeeee\n",
      "{'a': 7, 'b': 7, 'c': 5, 'd': 6, 'e': 4}\n"
     ]
    }
   ],
   "source": [
    "a=input(\"Enter a string:\")\n",
    "c=list(a)\n",
    "dict={}\n",
    "for i in a:\n",
    "    if i in dict:\n",
    "        dict[i]+=1\n",
    "    else:\n",
    "        dict[i]=1\n",
    "print(dict)"
   ]
  },
  {
   "cell_type": "code",
   "execution_count": 52,
   "id": "4df04a66",
   "metadata": {},
   "outputs": [
    {
     "data": {
      "text/plain": [
       "['a', 'b', 'c', 'd', 'e']"
      ]
     },
     "execution_count": 52,
     "metadata": {},
     "output_type": "execute_result"
    }
   ],
   "source": [
    "b=list(dict.keys())\n",
    "b"
   ]
  },
  {
   "cell_type": "code",
   "execution_count": 53,
   "id": "44378f8a",
   "metadata": {},
   "outputs": [
    {
     "data": {
      "text/plain": [
       "[7, 7, 5, 6, 4]"
      ]
     },
     "execution_count": 53,
     "metadata": {},
     "output_type": "execute_result"
    }
   ],
   "source": [
    "c=list(dict.values())\n",
    "c"
   ]
  },
  {
   "cell_type": "code",
   "execution_count": 54,
   "id": "e7770e7e",
   "metadata": {},
   "outputs": [],
   "source": [
    "e=zip(a,c)\n",
    "lis=[]"
   ]
  },
  {
   "cell_type": "code",
   "execution_count": 55,
   "id": "0e219b33",
   "metadata": {},
   "outputs": [
    {
     "name": "stdout",
     "output_type": "stream",
     "text": [
      "a 7\n",
      "b 7\n",
      "c 5\n",
      "d 6\n",
      "e 4\n"
     ]
    }
   ],
   "source": [
    "for i in range(0,len(b)):\n",
    "    print(b[i],c[i])"
   ]
  },
  {
   "cell_type": "code",
   "execution_count": 68,
   "id": "99625839",
   "metadata": {},
   "outputs": [
    {
     "data": {
      "text/plain": [
       "90"
      ]
     },
     "execution_count": 68,
     "metadata": {},
     "output_type": "execute_result"
    }
   ],
   "source": [
    "ord('Z')"
   ]
  },
  {
   "cell_type": "code",
   "execution_count": 60,
   "id": "0c6e171e",
   "metadata": {},
   "outputs": [
    {
     "data": {
      "text/plain": [
       "122"
      ]
     },
     "execution_count": 60,
     "metadata": {},
     "output_type": "execute_result"
    }
   ],
   "source": [
    "ord('z')"
   ]
  },
  {
   "cell_type": "code",
   "execution_count": 1,
   "id": "d6955c97",
   "metadata": {},
   "outputs": [],
   "source": [
    "import random\n",
    "import numpy as np\n"
   ]
  },
  {
   "cell_type": "code",
   "execution_count": 60,
   "id": "fc3f714c",
   "metadata": {},
   "outputs": [
    {
     "ename": "NameError",
     "evalue": "name 'random' is not defined",
     "output_type": "error",
     "traceback": [
      "\u001b[1;31m---------------------------------------------------------------------------\u001b[0m",
      "\u001b[1;31mNameError\u001b[0m                                 Traceback (most recent call last)",
      "Input \u001b[1;32mIn [60]\u001b[0m, in \u001b[0;36m<cell line: 1>\u001b[1;34m()\u001b[0m\n\u001b[1;32m----> 1\u001b[0m a\u001b[38;5;241m=\u001b[39m\u001b[43mrandom\u001b[49m\u001b[38;5;241m.\u001b[39mrandint(\u001b[38;5;241m0\u001b[39m,\u001b[38;5;241m100\u001b[39m)\n",
      "\u001b[1;31mNameError\u001b[0m: name 'random' is not defined"
     ]
    }
   ],
   "source": [
    "a=random.randint(0,100)\n"
   ]
  },
  {
   "cell_type": "code",
   "execution_count": 23,
   "id": "acc3e9c3",
   "metadata": {},
   "outputs": [
    {
     "data": {
      "text/plain": [
       "49"
      ]
     },
     "execution_count": 23,
     "metadata": {},
     "output_type": "execute_result"
    }
   ],
   "source": [
    "a"
   ]
  },
  {
   "cell_type": "code",
   "execution_count": 28,
   "id": "77075ea0",
   "metadata": {},
   "outputs": [],
   "source": [
    "c=np.linspace(0,10,6)"
   ]
  },
  {
   "cell_type": "code",
   "execution_count": 29,
   "id": "675ba702",
   "metadata": {},
   "outputs": [
    {
     "data": {
      "text/plain": [
       "array([ 0.,  2.,  4.,  6.,  8., 10.])"
      ]
     },
     "execution_count": 29,
     "metadata": {},
     "output_type": "execute_result"
    }
   ],
   "source": [
    "c"
   ]
  },
  {
   "cell_type": "code",
   "execution_count": 30,
   "id": "09aaaff9",
   "metadata": {},
   "outputs": [],
   "source": [
    "a=[1,2,3,4,5,6,7,8]\n",
    "d=np.ndarray(a)"
   ]
  },
  {
   "cell_type": "code",
   "execution_count": 34,
   "id": "b579cb14",
   "metadata": {},
   "outputs": [
    {
     "data": {
      "text/plain": [
       "array([ 0,  5, 10, 15, 20, 25, 30, 35, 40, 45, 50, 55, 60, 65, 70, 75, 80,\n",
       "       85, 90, 95])"
      ]
     },
     "execution_count": 34,
     "metadata": {},
     "output_type": "execute_result"
    }
   ],
   "source": [
    "d=np.arange(0,100,5)\n",
    "d"
   ]
  },
  {
   "cell_type": "code",
   "execution_count": 38,
   "id": "fa65c8a2",
   "metadata": {},
   "outputs": [
    {
     "ename": "AttributeError",
     "evalue": "module 'random' has no attribute 'rand'",
     "output_type": "error",
     "traceback": [
      "\u001b[1;31m---------------------------------------------------------------------------\u001b[0m",
      "\u001b[1;31mAttributeError\u001b[0m                            Traceback (most recent call last)",
      "Input \u001b[1;32mIn [38]\u001b[0m, in \u001b[0;36m<cell line: 1>\u001b[1;34m()\u001b[0m\n\u001b[1;32m----> 1\u001b[0m x \u001b[38;5;241m=\u001b[39m \u001b[43mrandom\u001b[49m\u001b[38;5;241;43m.\u001b[39;49m\u001b[43mrand\u001b[49m()\n",
      "\u001b[1;31mAttributeError\u001b[0m: module 'random' has no attribute 'rand'"
     ]
    }
   ],
   "source": [
    "x = random.rand()"
   ]
  },
  {
   "cell_type": "code",
   "execution_count": 4,
   "id": "fa5bdd8f",
   "metadata": {},
   "outputs": [
    {
     "data": {
      "text/plain": [
       "6"
      ]
     },
     "execution_count": 4,
     "metadata": {},
     "output_type": "execute_result"
    }
   ],
   "source": [
    "def rec(n):\n",
    "    if n==1 or n==0:\n",
    "        return 1\n",
    "    else:\n",
    "        return n*rec(n-1)\n",
    "    \n",
    "rec(3)"
   ]
  },
  {
   "cell_type": "code",
   "execution_count": 7,
   "id": "d4f2fa08",
   "metadata": {},
   "outputs": [
    {
     "name": "stdout",
     "output_type": "stream",
     "text": [
      "* \n",
      "* * \n",
      "* * * \n",
      "* * * * \n",
      "* * * * * \n",
      "* * * * * * \n"
     ]
    }
   ],
   "source": [
    "for i in range(0,6):\n",
    "    for j in range(0,i+1):\n",
    "        print(\"*\",end=\" \")\n",
    "    print()"
   ]
  },
  {
   "cell_type": "code",
   "execution_count": 13,
   "id": "89219904",
   "metadata": {},
   "outputs": [
    {
     "name": "stdout",
     "output_type": "stream",
     "text": [
      "     \n",
      "    *\n",
      "   **\n",
      "  ***\n",
      " ****\n",
      "*****\n"
     ]
    }
   ],
   "source": [
    "for i in range(0,6):\n",
    "    for j in range(0,6-i):\n",
    "        print(\" \",end=\"\")\n",
    "    for j in range(6-i,6):\n",
    "        print(\"*\",end=\"\")\n",
    "    print()"
   ]
  },
  {
   "cell_type": "code",
   "execution_count": 26,
   "id": "cc49d210",
   "metadata": {},
   "outputs": [
    {
     "name": "stdout",
     "output_type": "stream",
     "text": [
      "* * * * * * * \n",
      "*           * \n",
      "*           * \n",
      "*     *     * \n",
      "*           * \n",
      "*           * \n",
      "* * * * * * * \n"
     ]
    }
   ],
   "source": [
    "for i in range(0,7):\n",
    "    for j in range(0,7):\n",
    "        if i==0 or i==6 or j==0 or j==6 or i&j==3:\n",
    "            print(\"*\",end=\" \")\n",
    "        else:\n",
    "            print(\" \",end=\" \")\n",
    "    print()"
   ]
  },
  {
   "cell_type": "code",
   "execution_count": 29,
   "id": "0bcb894d",
   "metadata": {},
   "outputs": [
    {
     "name": "stdout",
     "output_type": "stream",
     "text": [
      "  10 9 8 7 \n",
      "    6 5 4 \n",
      "      3 2 \n",
      "        1 \n",
      "          \n"
     ]
    }
   ],
   "source": [
    "k=10\n",
    "for i in range(0,5):\n",
    "    for j in range(0,i+1):\n",
    "        print(\" \",end=\" \")\n",
    "    for j in range(i+1,5):\n",
    "        print(k,end=\" \")\n",
    "        k=k-1\n",
    "    print()"
   ]
  },
  {
   "cell_type": "code",
   "execution_count": 32,
   "id": "fe8fb7e7",
   "metadata": {},
   "outputs": [
    {
     "name": "stdout",
     "output_type": "stream",
     "text": [
      "1 \n",
      "1 2 \n",
      "1 2 3 \n",
      "1 2 3 4 \n",
      "1 2 3 4 5 \n",
      "1 2 3 4 5 6 \n"
     ]
    }
   ],
   "source": [
    "for i in range(0,6):\n",
    "    d=1\n",
    "    for j in range(0,i+1):\n",
    "        print(d,end=' ')\n",
    "        d+=1\n",
    "    print()\n",
    "    "
   ]
  },
  {
   "cell_type": "code",
   "execution_count": 33,
   "id": "dd5bcc77",
   "metadata": {},
   "outputs": [
    {
     "name": "stdout",
     "output_type": "stream",
     "text": [
      "1 \n",
      "1 2 \n",
      "1 2 3 \n",
      "1 2 3 4 \n",
      "1 2 3 4 5 \n",
      "1 2 3 4 5 6 \n"
     ]
    }
   ],
   "source": [
    "for i in range(0,6):\n",
    "    d=1\n",
    "    for j in range(0,i+1):\n",
    "        print(d,end=' ')\n",
    "        d+=1\n",
    "    print()"
   ]
  },
  {
   "cell_type": "code",
   "execution_count": 45,
   "id": "dd088831",
   "metadata": {},
   "outputs": [
    {
     "name": "stdout",
     "output_type": "stream",
     "text": [
      "         * \n",
      "        * * \n",
      "       * * * \n",
      "      * * * * \n",
      "     * * * * * \n",
      "    * * * * * * \n",
      "   * * * * * * * \n",
      "  * * * * * * * * \n",
      " * * * * * * * * * \n"
     ]
    }
   ],
   "source": [
    "n=9\n",
    "for i in range(0,n):\n",
    "    for j in range(0,n-i):\n",
    "        print(end=\" \")\n",
    "    for j in range(0,i+1):\n",
    "        print(\"*\",end=\" \")\n",
    "    print()"
   ]
  },
  {
   "cell_type": "code",
   "execution_count": 42,
   "id": "fcf180ef",
   "metadata": {},
   "outputs": [
    {
     "name": "stdout",
     "output_type": "stream",
     "text": [
      "                                                            * \n",
      "                                                           * * \n",
      "                                                          * * * \n",
      "                                                         * * * * \n",
      "                                                        * * * * * \n",
      "                                                       * * * * * * \n",
      "                                                      * * * * * * * \n",
      "                                                     * * * * * * * * \n",
      "                                                    * * * * * * * * * \n",
      "                                                   * * * * * * * * * * \n",
      "                                                  * * * * * * * * * * * \n",
      "                                                 * * * * * * * * * * * * \n",
      "                                                * * * * * * * * * * * * * \n",
      "                                               * * * * * * * * * * * * * * \n",
      "                                              * * * * * * * * * * * * * * * \n",
      "                                             * * * * * * * * * * * * * * * * \n",
      "                                            * * * * * * * * * * * * * * * * * \n",
      "                                           * * * * * * * * * * * * * * * * * * \n",
      "                                          * * * * * * * * * * * * * * * * * * * \n",
      "                                         * * * * * * * * * * * * * * * * * * * * \n",
      "                                        * * * * * * * * * * * * * * * * * * * * * \n",
      "                                       * * * * * * * * * * * * * * * * * * * * * * \n",
      "                                      * * * * * * * * * * * * * * * * * * * * * * * \n",
      "                                     * * * * * * * * * * * * * * * * * * * * * * * * \n",
      "                                    * * * * * * * * * * * * * * * * * * * * * * * * * \n",
      "                                   * * * * * * * * * * * * * * * * * * * * * * * * * * \n",
      "                                  * * * * * * * * * * * * * * * * * * * * * * * * * * * \n",
      "                                 * * * * * * * * * * * * * * * * * * * * * * * * * * * * \n",
      "                                * * * * * * * * * * * * * * * * * * * * * * * * * * * * * \n",
      "                               * * * * * * * * * * * * * * * * * * * * * * * * * * * * * * \n",
      "                              * * * * * * * * * * * * * * * * * * * * * * * * * * * * * * * \n",
      "                             * * * * * * * * * * * * * * * * * * * * * * * * * * * * * * * * \n",
      "                            * * * * * * * * * * * * * * * * * * * * * * * * * * * * * * * * * \n",
      "                           * * * * * * * * * * * * * * * * * * * * * * * * * * * * * * * * * * \n",
      "                          * * * * * * * * * * * * * * * * * * * * * * * * * * * * * * * * * * * \n",
      "                         * * * * * * * * * * * * * * * * * * * * * * * * * * * * * * * * * * * * \n",
      "                        * * * * * * * * * * * * * * * * * * * * * * * * * * * * * * * * * * * * * \n",
      "                       * * * * * * * * * * * * * * * * * * * * * * * * * * * * * * * * * * * * * * \n",
      "                      * * * * * * * * * * * * * * * * * * * * * * * * * * * * * * * * * * * * * * * \n",
      "                     * * * * * * * * * * * * * * * * * * * * * * * * * * * * * * * * * * * * * * * * \n",
      "                    * * * * * * * * * * * * * * * * * * * * * * * * * * * * * * * * * * * * * * * * * \n",
      "                   * * * * * * * * * * * * * * * * * * * * * * * * * * * * * * * * * * * * * * * * * * \n",
      "                  * * * * * * * * * * * * * * * * * * * * * * * * * * * * * * * * * * * * * * * * * * * \n",
      "                 * * * * * * * * * * * * * * * * * * * * * * * * * * * * * * * * * * * * * * * * * * * * \n",
      "                * * * * * * * * * * * * * * * * * * * * * * * * * * * * * * * * * * * * * * * * * * * * * \n",
      "               * * * * * * * * * * * * * * * * * * * * * * * * * * * * * * * * * * * * * * * * * * * * * * \n",
      "              * * * * * * * * * * * * * * * * * * * * * * * * * * * * * * * * * * * * * * * * * * * * * * * \n",
      "             * * * * * * * * * * * * * * * * * * * * * * * * * * * * * * * * * * * * * * * * * * * * * * * * \n",
      "            * * * * * * * * * * * * * * * * * * * * * * * * * * * * * * * * * * * * * * * * * * * * * * * * * \n",
      "           * * * * * * * * * * * * * * * * * * * * * * * * * * * * * * * * * * * * * * * * * * * * * * * * * * \n",
      "          * * * * * * * * * * * * * * * * * * * * * * * * * * * * * * * * * * * * * * * * * * * * * * * * * * * \n",
      "         * * * * * * * * * * * * * * * * * * * * * * * * * * * * * * * * * * * * * * * * * * * * * * * * * * * * \n",
      "        * * * * * * * * * * * * * * * * * * * * * * * * * * * * * * * * * * * * * * * * * * * * * * * * * * * * * \n",
      "       * * * * * * * * * * * * * * * * * * * * * * * * * * * * * * * * * * * * * * * * * * * * * * * * * * * * * * \n",
      "      * * * * * * * * * * * * * * * * * * * * * * * * * * * * * * * * * * * * * * * * * * * * * * * * * * * * * * * \n",
      "     * * * * * * * * * * * * * * * * * * * * * * * * * * * * * * * * * * * * * * * * * * * * * * * * * * * * * * * * \n",
      "    * * * * * * * * * * * * * * * * * * * * * * * * * * * * * * * * * * * * * * * * * * * * * * * * * * * * * * * * * \n",
      "   * * * * * * * * * * * * * * * * * * * * * * * * * * * * * * * * * * * * * * * * * * * * * * * * * * * * * * * * * * \n",
      "  * * * * * * * * * * * * * * * * * * * * * * * * * * * * * * * * * * * * * * * * * * * * * * * * * * * * * * * * * * * \n",
      " * * * * * * * * * * * * * * * * * * * * * * * * * * * * * * * * * * * * * * * * * * * * * * * * * * * * * * * * * * * * \n"
     ]
    }
   ],
   "source": [
    "n=60\n",
    "for i in range(0,n):\n",
    "    for j in range(0,n-i):\n",
    "        print(end=\" \")\n",
    "    for j in range(0,i+1):\n",
    "        print(\"* \",end=\"\")\n",
    "    print()"
   ]
  },
  {
   "cell_type": "code",
   "execution_count": 49,
   "id": "95d89fb2",
   "metadata": {},
   "outputs": [
    {
     "name": "stdout",
     "output_type": "stream",
     "text": [
      " word by word reverse to string a am I"
     ]
    }
   ],
   "source": [
    "stri=\" I am a string to reverse word by word\"\n",
    "d=len(stri)\n",
    "j=d\n",
    "for i in range(d-1,-1,-1):\n",
    "    if(stri[i]==\" \"):\n",
    "        k=i\n",
    "        print(stri[k:j],end=\"\")\n",
    "        j=k"
   ]
  },
  {
   "cell_type": "code",
   "execution_count": 51,
   "id": "b79cda75",
   "metadata": {},
   "outputs": [],
   "source": [
    "def fibo(n):\n",
    "    if(n<=1):\n",
    "        return 1\n",
    "    else:\n",
    "        return fibo(n-1)+fibo(n-2)"
   ]
  },
  {
   "cell_type": "code",
   "execution_count": 55,
   "id": "a1c7dc1a",
   "metadata": {},
   "outputs": [
    {
     "name": "stdout",
     "output_type": "stream",
     "text": [
      "1 1 2 3 5 8 13 21 34 55 "
     ]
    }
   ],
   "source": [
    "for i in range(0,10):\n",
    "    print(fibo(i),end=' ')"
   ]
  },
  {
   "cell_type": "code",
   "execution_count": 61,
   "id": "76f55f67",
   "metadata": {},
   "outputs": [
    {
     "name": "stdout",
     "output_type": "stream",
     "text": [
      "{1: 2, 2: 2, 3: 2, 4: 1, 5: 1, 6: 1, 7: 1, 8: 1, 9: 1}\n"
     ]
    }
   ],
   "source": [
    "a=[1,2,3,4,5,6,7,8,9,1,2,3]\n",
    "dict={}\n",
    "for i in a:\n",
    "    if i in dict:\n",
    "        dict[i]+=1\n",
    "    else:\n",
    "        dict[i]=1\n",
    "print(dict)"
   ]
  },
  {
   "cell_type": "code",
   "execution_count": 64,
   "id": "bc01504e",
   "metadata": {},
   "outputs": [
    {
     "name": "stdout",
     "output_type": "stream",
     "text": [
      "1\n",
      "4\n",
      "9\n",
      "16\n",
      "36\n"
     ]
    }
   ],
   "source": [
    "def num(n):\n",
    "    return n*n\n",
    "a=[1,2,3,4,6]\n",
    "d=map(num,a)\n",
    "for i in d:\n",
    "    print(i)"
   ]
  },
  {
   "cell_type": "code",
   "execution_count": 72,
   "id": "1a42f932",
   "metadata": {},
   "outputs": [
    {
     "name": "stdout",
     "output_type": "stream",
     "text": [
      "0\n",
      "1\n",
      "2\n",
      "3\n"
     ]
    }
   ],
   "source": [
    "def gen(n):\n",
    "    for i in range(n):\n",
    "        yield i\n",
    "g=gen(6)\n",
    "print(g.__next__())\n",
    "print(g.__next__())\n",
    "print(g.__next__())\n",
    "print(g.__next__())"
   ]
  },
  {
   "cell_type": "code",
   "execution_count": 76,
   "id": "8fb1cef3",
   "metadata": {},
   "outputs": [
    {
     "name": "stdout",
     "output_type": "stream",
     "text": [
      "akshay\n",
      "aakash\n"
     ]
    }
   ],
   "source": [
    "d=[\"akshay\",\"ravi\",\"aakash\",\"rajesh\",\"ranu\"]\n",
    "def fil(e):\n",
    "    for i in e:\n",
    "        if(i[0]==\"a\"):\n",
    "            return True\n",
    "        else:\n",
    "            return False\n",
    "d=filter(fil,d)\n",
    "for i in d:\n",
    "    print(i)"
   ]
  },
  {
   "cell_type": "code",
   "execution_count": 77,
   "id": "e6a3bc42",
   "metadata": {},
   "outputs": [],
   "source": [
    "import numpy as np"
   ]
  },
  {
   "cell_type": "code",
   "execution_count": 78,
   "id": "2e7cc0f8",
   "metadata": {},
   "outputs": [],
   "source": [
    "import random"
   ]
  },
  {
   "cell_type": "code",
   "execution_count": 82,
   "id": "529ac77b",
   "metadata": {},
   "outputs": [
    {
     "name": "stdout",
     "output_type": "stream",
     "text": [
      "59\n"
     ]
    }
   ],
   "source": [
    "d=random.randint(0,100)\n",
    "print(d)"
   ]
  },
  {
   "cell_type": "code",
   "execution_count": 87,
   "id": "19a1d69b",
   "metadata": {},
   "outputs": [
    {
     "name": "stdout",
     "output_type": "stream",
     "text": [
      "[   0.          111.11111111  222.22222222  333.33333333  444.44444444\n",
      "  555.55555556  666.66666667  777.77777778  888.88888889 1000.        ]\n"
     ]
    }
   ],
   "source": [
    "d=np.linspace(0,1000,10)\n",
    "print(d)"
   ]
  },
  {
   "cell_type": "code",
   "execution_count": 24,
   "id": "6e9b7f94",
   "metadata": {},
   "outputs": [
    {
     "name": "stdout",
     "output_type": "stream",
     "text": [
      "[2, 4, 6, 8]\n"
     ]
    }
   ],
   "source": [
    "a=[2,4,6,8,4,5]\n",
    "b=[2,4,1,8,7,6]\n",
    "c=set(a)\n",
    "d=set(b)\n",
    "e=[]\n",
    "for i in c:\n",
    "    for j in d:\n",
    "        if i==j:\n",
    "            e.append(i)\n",
    "            break\n",
    "print(e)"
   ]
  },
  {
   "cell_type": "code",
   "execution_count": 35,
   "id": "fd47a1b4",
   "metadata": {},
   "outputs": [
    {
     "name": "stdout",
     "output_type": "stream",
     "text": [
      "Enter a numer: 9\n",
      "9 9 9 9 9 9 9 9 9 9 9 9 9 9 9 9 9 \n",
      "9 8 8 8 8 8 8 8 8 8 8 8 8 8 8 8 9 \n",
      "9 8 7 7 7 7 7 7 7 7 7 7 7 7 7 8 9 \n",
      "9 8 7 6 6 6 6 6 6 6 6 6 6 6 7 8 9 \n",
      "9 8 7 6 5 5 5 5 5 5 5 5 5 6 7 8 9 \n",
      "9 8 7 6 5 4 4 4 4 4 4 4 5 6 7 8 9 \n",
      "9 8 7 6 5 4 3 3 3 3 3 4 5 6 7 8 9 \n",
      "9 8 7 6 5 4 3 2 2 2 3 4 5 6 7 8 9 \n",
      "9 8 7 6 5 4 3 2 1 2 3 4 5 6 7 8 9 \n",
      "9 8 7 6 5 4 3 2 2 2 3 4 5 6 7 8 9 \n",
      "9 8 7 6 5 4 3 3 3 3 3 4 5 6 7 8 9 \n",
      "9 8 7 6 5 4 4 4 4 4 4 4 5 6 7 8 9 \n",
      "9 8 7 6 5 5 5 5 5 5 5 5 5 6 7 8 9 \n",
      "9 8 7 6 6 6 6 6 6 6 6 6 6 6 7 8 9 \n",
      "9 8 7 7 7 7 7 7 7 7 7 7 7 7 7 8 9 \n",
      "9 8 8 8 8 8 8 8 8 8 8 8 8 8 8 8 9 \n",
      "9 9 9 9 9 9 9 9 9 9 9 9 9 9 9 9 9 \n"
     ]
    }
   ],
   "source": [
    "n=int(input('Enter a numer: '))\n",
    "for i in range(0,n+n-1):\n",
    "    for j in range(0,n+n-1):\n",
    "        if(i==0 or i==n+n-2 or j==0 or j==n+n-2):\n",
    "            print(n,end=' ')\n",
    "        elif(i==1 or i==n+n-3 or j==1 or j==n+n-3):\n",
    "            print(n-1,end=' ')  \n",
    "        elif(i==2 or i==n+n-4 or j==2 or j==n+n-4):\n",
    "            print(n-2,end=' ')\n",
    "        elif(i==3 or i==n+n-5 or j==3 or j==n+n-5):\n",
    "            print(n-3,end=' ') \n",
    "        elif(i==4 or i==n+n-6 or j==4 or j==n+n-6):\n",
    "            print(n-4,end=' ') \n",
    "        elif(i==5 or i==n+n-7 or j==5 or j==n+n-7):\n",
    "            print(n-5,end=' ') \n",
    "        elif(i==6 or i==n+n-8 or j==6 or j==n+n-8):\n",
    "            print(n-6,end=' ')\n",
    "        elif(i==7 or i==n+n-9 or j==7 or j==n+n-9):\n",
    "            print(n-7,end=' ') \n",
    "        elif(i==8 or i==n+n-10 or j==8 or j==n+n-10):\n",
    "            print(n-8,end=' ')\n",
    "        else:\n",
    "            print(n-9,end=' ')\n",
    "    print()"
   ]
  },
  {
   "cell_type": "code",
   "execution_count": 40,
   "id": "9fade35c",
   "metadata": {},
   "outputs": [
    {
     "name": "stdout",
     "output_type": "stream",
     "text": [
      "1 1 1 1 1 \n",
      "2 2 2 2 \n",
      "3 3 3 \n",
      "4 4 \n",
      "5 \n"
     ]
    }
   ],
   "source": [
    "r=1\n",
    "for i in range(0,5):\n",
    "    for j in range(0,5-i):\n",
    "        print(r,end=' ')\n",
    "    r+=1\n",
    "    print()"
   ]
  },
  {
   "cell_type": "code",
   "execution_count": 77,
   "id": "d2bfcb72",
   "metadata": {},
   "outputs": [
    {
     "name": "stdout",
     "output_type": "stream",
     "text": [
      "1 \n",
      "2 1 \n",
      "3 2 1 \n",
      "4 3 2 1 \n",
      "5 4 3 2 1 \n"
     ]
    }
   ],
   "source": [
    "for i in range(0,5):\n",
    "    for j in range(0,i+1):\n",
    "        print(i+1,end=' ') \n",
    "        i-=1\n",
    "    print()\n",
    "        "
   ]
  },
  {
   "cell_type": "code",
   "execution_count": 83,
   "id": "f50a47f4",
   "metadata": {},
   "outputs": [
    {
     "name": "stdout",
     "output_type": "stream",
     "text": [
      "1\n",
      "21\n",
      "321\n",
      "4321\n",
      "54321\n"
     ]
    }
   ],
   "source": [
    "i=6\n",
    "for i in range(1,i):\n",
    "    for j in range(i, 0, -1):\n",
    "        print(j, end='')\n",
    "    print('')"
   ]
  },
  {
   "cell_type": "code",
   "execution_count": 3,
   "id": "fe077903",
   "metadata": {},
   "outputs": [
    {
     "name": "stdout",
     "output_type": "stream",
     "text": [
      "0 1 2 3 4 5 6 7 8 9 10 11 12 13 14 15 16 17 "
     ]
    }
   ],
   "source": [
    "for i in range(0,18):\n",
    "    print(i,end=' ')"
   ]
  },
  {
   "cell_type": "code",
   "execution_count": 4,
   "id": "a33f5292",
   "metadata": {},
   "outputs": [],
   "source": [
    "def fact(n):\n",
    "    if n==0 or n==1:\n",
    "        return 1\n",
    "    else:\n",
    "        return n*fact(n-1)"
   ]
  },
  {
   "cell_type": "code",
   "execution_count": 9,
   "id": "94080797",
   "metadata": {},
   "outputs": [],
   "source": [
    "def fibo(n):\n",
    "    if n==0 or n==1:\n",
    "        return 1\n",
    "    else:\n",
    "        return fibo(n-1)+fibo(n-2)\n",
    "    "
   ]
  },
  {
   "cell_type": "code",
   "execution_count": 16,
   "id": "c8d29c6e",
   "metadata": {},
   "outputs": [
    {
     "name": "stdout",
     "output_type": "stream",
     "text": [
      "1 1 2 3 5 8 13 21 34 55 "
     ]
    }
   ],
   "source": [
    "for i in range(10):\n",
    "    print(fibo(i),end=' ')"
   ]
  },
  {
   "cell_type": "code",
   "execution_count": 20,
   "id": "cfd18d40",
   "metadata": {},
   "outputs": [
    {
     "data": {
      "text/plain": [
       "97"
      ]
     },
     "execution_count": 20,
     "metadata": {},
     "output_type": "execute_result"
    }
   ],
   "source": [
    "ord('a')"
   ]
  },
  {
   "cell_type": "code",
   "execution_count": 23,
   "id": "965222b9",
   "metadata": {},
   "outputs": [
    {
     "data": {
      "text/plain": [
       "'a'"
      ]
     },
     "execution_count": 23,
     "metadata": {},
     "output_type": "execute_result"
    }
   ],
   "source": [
    "chr(97)"
   ]
  },
  {
   "cell_type": "code",
   "execution_count": 43,
   "id": "a19a07c7",
   "metadata": {},
   "outputs": [],
   "source": [
    "def geb():\n",
    "    for i in range(5):\n",
    "        yield(i)"
   ]
  },
  {
   "cell_type": "code",
   "execution_count": 47,
   "id": "55870e93",
   "metadata": {},
   "outputs": [
    {
     "data": {
      "text/plain": [
       "0"
      ]
     },
     "execution_count": 47,
     "metadata": {},
     "output_type": "execute_result"
    }
   ],
   "source": [
    "# destructer is used to modify existing function"
   ]
  },
  {
   "cell_type": "code",
   "execution_count": 57,
   "id": "22a4ac30",
   "metadata": {},
   "outputs": [
    {
     "name": "stdout",
     "output_type": "stream",
     "text": [
      "0\n",
      "1\n",
      "2\n",
      "3\n",
      "4\n",
      "5\n",
      "6\n",
      "7\n",
      "8\n",
      "9\n",
      "10\n",
      "11\n",
      "12\n",
      "13\n",
      "14\n",
      "15\n",
      "16\n",
      "17\n"
     ]
    }
   ],
   "source": [
    "\n",
    "# A Python program to demonstrate use of\n",
    "# generator object with next()\n",
    " \n",
    "# A generator function\n",
    "def simpleGeneratorFun(n):\n",
    "    for i in range(n):\n",
    "        yield(i)\n",
    "# x is a generator object\n",
    "x = simpleGeneratorFun(100)\n",
    " \n",
    "# Iterating over the generator object using next\n",
    "print(next(x)) \n",
    "print(next(x))\n",
    "print(next(x))\n",
    "print(next(x)) \n",
    "print(next(x))\n",
    "print(next(x))\n",
    "print(next(x)) \n",
    "print(next(x))\n",
    "print(next(x))\n",
    "print(next(x)) \n",
    "print(next(x))\n",
    "print(next(x))\n",
    "print(next(x)) \n",
    "print(next(x))\n",
    "print(next(x))\n",
    "print(next(x)) \n",
    "print(next(x))\n",
    "print(next(x))"
   ]
  },
  {
   "cell_type": "code",
   "execution_count": 61,
   "id": "c84e65d6",
   "metadata": {},
   "outputs": [
    {
     "name": "stdout",
     "output_type": "stream",
     "text": [
      "3.75\n"
     ]
    }
   ],
   "source": [
    "x=lambda a,b,y:a*b/y\n",
    "print(x(6,5,8))"
   ]
  },
  {
   "cell_type": "code",
   "execution_count": 62,
   "id": "1005d01d",
   "metadata": {},
   "outputs": [],
   "source": [
    "import pandas as pd\n"
   ]
  },
  {
   "cell_type": "code",
   "execution_count": 63,
   "id": "9519937e",
   "metadata": {},
   "outputs": [],
   "source": [
    "import numpy as np"
   ]
  },
  {
   "cell_type": "code",
   "execution_count": 64,
   "id": "b6b6bb32",
   "metadata": {},
   "outputs": [],
   "source": [
    "import random"
   ]
  },
  {
   "cell_type": "code",
   "execution_count": 76,
   "id": "1d3806ef",
   "metadata": {},
   "outputs": [
    {
     "name": "stdout",
     "output_type": "stream",
     "text": [
      "4\n"
     ]
    }
   ],
   "source": [
    "x=random.randint(0,7)\n",
    "print(x)"
   ]
  },
  {
   "cell_type": "code",
   "execution_count": 83,
   "id": "65fcaa90",
   "metadata": {},
   "outputs": [
    {
     "name": "stdout",
     "output_type": "stream",
     "text": [
      "0\n",
      "1\n",
      "4\n",
      "9\n",
      "16\n"
     ]
    }
   ],
   "source": [
    "# only lambda function can be defined inside a loop\n",
    "for i in range(5):\n",
    "    x=lambda i:i*i\n",
    "    print(x(i))"
   ]
  },
  {
   "cell_type": "code",
   "execution_count": 82,
   "id": "9b203498",
   "metadata": {},
   "outputs": [],
   "source": [
    "# Decorators are a very powerful and useful tool in Python since it allows programmers to modify the behaviour of a function \n",
    "# or class\n"
   ]
  },
  {
   "cell_type": "code",
   "execution_count": null,
   "id": "62f2b43c",
   "metadata": {},
   "outputs": [],
   "source": [
    "str='I am a string that you can use to modify'\n",
    "d=len(str)\n",
    "for i in range(d,-1,-1):\n",
    "    if str[i]==' ':\n",
    "        "
   ]
  }
 ],
 "metadata": {
  "kernelspec": {
   "display_name": "Python 3 (ipykernel)",
   "language": "python",
   "name": "python3"
  },
  "language_info": {
   "codemirror_mode": {
    "name": "ipython",
    "version": 3
   },
   "file_extension": ".py",
   "mimetype": "text/x-python",
   "name": "python",
   "nbconvert_exporter": "python",
   "pygments_lexer": "ipython3",
   "version": "3.9.12"
  }
 },
 "nbformat": 4,
 "nbformat_minor": 5
}
