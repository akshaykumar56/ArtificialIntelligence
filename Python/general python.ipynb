{
 "cells": [
  {
   "cell_type": "code",
   "execution_count": 19,
   "id": "a8c10686",
   "metadata": {},
   "outputs": [
    {
     "data": {
      "text/plain": [
       "{'name': ['Himani'],\n",
       " 'class': ['V'],\n",
       " 'subject_integration': ['english, math, science']}"
      ]
     },
     "execution_count": 19,
     "metadata": {},
     "output_type": "execute_result"
    }
   ],
   "source": [
    "student_data = {'id1':\n",
    "{'name': ['Himani'],\n",
    "'class': ['V'],\n",
    "'subject_integration': ['english, math, science']\n",
    "},\n",
    "'id2':\n",
    "{'name': ['David'],\n",
    "'class': ['V'],\n",
    "'subject_integration': ['english, math, science']\n",
    "},\n",
    "'id3':\n",
    "{'name': ['Himani'],\n",
    "'class': ['V'],\n",
    "'subject_integration': ['english, math, science']\n",
    "},\n",
    "'id4':\n",
    "{'name': ['Surya'],\n",
    "'class': ['V'],\n",
    "'subject_integration': ['english, math, science']\n",
    "},\n",
    "}\n",
    "\n",
    "student_data.get('id1', 'name')"
   ]
  },
  {
   "cell_type": "code",
   "execution_count": 26,
   "id": "9937ae8e",
   "metadata": {},
   "outputs": [],
   "source": []
  },
  {
   "cell_type": "code",
   "execution_count": 27,
   "id": "b5d3ddf5",
   "metadata": {},
   "outputs": [
    {
     "data": {
      "text/plain": [
       "['Hello', 'Tutorialspoint', 'python']"
      ]
     },
     "execution_count": 27,
     "metadata": {},
     "output_type": "execute_result"
    }
   ],
   "source": [
    "resultlist"
   ]
  },
  {
   "cell_type": "code",
   "execution_count": 28,
   "id": "ecbcadab",
   "metadata": {},
   "outputs": [],
   "source": [
    "resultlist1=list(inputDictionary.values())"
   ]
  },
  {
   "cell_type": "code",
   "execution_count": 29,
   "id": "8dbce168",
   "metadata": {},
   "outputs": [
    {
     "data": {
      "text/plain": [
       "[10, 20, 60]"
      ]
     },
     "execution_count": 29,
     "metadata": {},
     "output_type": "execute_result"
    }
   ],
   "source": [
    "resultlist1"
   ]
  },
  {
   "cell_type": "code",
   "execution_count": 30,
   "id": "e67aa462",
   "metadata": {},
   "outputs": [
    {
     "name": "stdout",
     "output_type": "stream",
     "text": [
      "Enter value of a: 4\n",
      "number is greater than 2\n"
     ]
    }
   ],
   "source": [
    "a=int(input(\"Enter value of a: \"))\n",
    "print(\"number is greater than 2\") if(a>2) else print(\"number is smaller than 2\")"
   ]
  },
  {
   "cell_type": "code",
   "execution_count": 31,
   "id": "8680983c",
   "metadata": {},
   "outputs": [],
   "source": [
    "a='hello i am akshay'"
   ]
  },
  {
   "cell_type": "code",
   "execution_count": 35,
   "id": "1dbbfe2d",
   "metadata": {},
   "outputs": [],
   "source": [
    "b=a.split()"
   ]
  },
  {
   "cell_type": "code",
   "execution_count": 36,
   "id": "0aba5453",
   "metadata": {},
   "outputs": [
    {
     "name": "stdout",
     "output_type": "stream",
     "text": [
      "akshay am i hello "
     ]
    }
   ],
   "source": [
    "for i in range(3,-1,-1):\n",
    "    print(b[i],end=\" \")"
   ]
  },
  {
   "cell_type": "code",
   "execution_count": 63,
   "id": "d2f6efbc",
   "metadata": {},
   "outputs": [],
   "source": [
    "a='HeLlO I aM AksHAy'\n",
    "l=[]\n",
    "b=len(a)\n",
    "for i in range(0,17):\n",
    "    if(ord(a[i])>64 and ord(a[i])<91):\n",
    "        l.append(a[i].lower())\n",
    "    elif(ord(a[i])>96 and ord(a[i])<123):\n",
    "        l.append(a[i].upper())\n",
    "    else:\n",
    "        l.append(a[i])\n"
   ]
  },
  {
   "cell_type": "code",
   "execution_count": 64,
   "id": "3a935612",
   "metadata": {},
   "outputs": [],
   "source": [
    "d=(\"\").join(l)"
   ]
  },
  {
   "cell_type": "code",
   "execution_count": 65,
   "id": "4c0fce9a",
   "metadata": {},
   "outputs": [
    {
     "data": {
      "text/plain": [
       "'hElLo i Am aKShaY'"
      ]
     },
     "execution_count": 65,
     "metadata": {},
     "output_type": "execute_result"
    }
   ],
   "source": [
    "d"
   ]
  },
  {
   "cell_type": "code",
   "execution_count": null,
   "id": "02974d8a",
   "metadata": {},
   "outputs": [],
   "source": []
  }
 ],
 "metadata": {
  "kernelspec": {
   "display_name": "Python 3 (ipykernel)",
   "language": "python",
   "name": "python3"
  },
  "language_info": {
   "codemirror_mode": {
    "name": "ipython",
    "version": 3
   },
   "file_extension": ".py",
   "mimetype": "text/x-python",
   "name": "python",
   "nbconvert_exporter": "python",
   "pygments_lexer": "ipython3",
   "version": "3.9.12"
  }
 },
 "nbformat": 4,
 "nbformat_minor": 5
}
