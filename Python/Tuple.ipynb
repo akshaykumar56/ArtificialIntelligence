{
 "cells": [
  {
   "cell_type": "code",
   "execution_count": 1,
   "id": "111e4607",
   "metadata": {},
   "outputs": [
    {
     "name": "stdout",
     "output_type": "stream",
     "text": [
      "<class 'tuple'>\n",
      "(1, 2.0, 'three')\n",
      "()\n",
      "1\n",
      "(1,)\n",
      "<class 'tuple'>\n",
      "(1, 4, 6, 'a', 5)\n"
     ]
    }
   ],
   "source": [
    "# Python Tuples are like a list. It can hold a sequence of items. \n",
    "# The difference is that it is immutabable\n",
    "# also we cannot\n",
    "b= 1, 2.0, 'three'\n",
    "print(type(b))  # tuple packing also declare tuple\n",
    "print(b)\n",
    "\n",
    "\n",
    "t=(1,4,6,\"a\",5)\n",
    "t1=()  #-->empty tuple\n",
    "print(t1) \n",
    "\n",
    "t2=(1) #--> wrong way to declare tuple with one element\n",
    "print(t2)\n",
    "\n",
    "t3=(1,)  #-->tuple with one element\n",
    "print(t3)\n",
    "\n",
    "#->once defined a tuple elements cannot be altered or changed\n",
    "print(type(t))\n",
    "print(t)\n",
    "\n",
    "# t[0]=32  #-> throw an error because we can't alter \n",
    "           # elements of tuple after creation"
   ]
  },
  {
   "cell_type": "code",
   "execution_count": 17,
   "id": "64873c42",
   "metadata": {},
   "outputs": [
    {
     "name": "stdout",
     "output_type": "stream",
     "text": [
      "(1, 2, 5, 8, 2, 9, 4)\n",
      "(1, 2, 3, 4, 5)\n",
      "(3, 4)\n",
      "(1, 2, 3, 4, 5, 1, 2, 3, 4, 5, 1, 2, 3, 4, 5)\n",
      "True\n",
      "False\n",
      "6\n",
      "True\n",
      "9\n",
      "1\n",
      "(1, 4, 2, 7, 3, 9)\n",
      "[0, 1, 2, 3, 4, 4, 4, 5, 5, 6, 6, 7, 8, 8, 9, 9]\n",
      "81\n"
     ]
    }
   ],
   "source": [
    "#1.Adding an element to tuple\n",
    "# no add or append function in python\n",
    "t = (1, 2, 3, 4, 5)\n",
    "# t = t + (7,)\n",
    "# print (t)\n",
    "\n",
    "#2.adding two tuples\n",
    "print ((1, 2, 5, 8) + (2, 9, 4))\n",
    "\n",
    "# 3.delete tuple\n",
    "t = (1, 2, 3, 4, 5)\n",
    "# del(t)\n",
    "print(t)\n",
    "\n",
    "#4.slicing\n",
    "print(t[2:4]) #->index 2 to 3\n",
    "\n",
    "#5.multiplication\n",
    "print (t*3)\n",
    "\n",
    "#6.In\n",
    "t1= (1, 2, 3, 6, 7, 8)\n",
    "print(2 in t1)\n",
    "print(5 in t1)\n",
    "\n",
    "#7.len\n",
    "print(len(t1))\n",
    "\n",
    "#8.compare  --> not working in python 3.x\n",
    "t1= ((1, 2, 3, 6, 7, 8) > (1, 2, 3, 4, 5, 7))\n",
    "print(t1)\n",
    "\n",
    "#9.max and min\n",
    "t3= (1, 4, 2, 7, 3, 9)\n",
    "print (max(t3))\n",
    "print (min(t3))\n",
    "\n",
    "#10. converting a list into tuple\n",
    "l= [1, 4, 2, 7, 3, 9]\n",
    "print(tuple(l))\n",
    "\n",
    "#11.sorting\n",
    "g=(1,4,2,6,8,3,9,4,5,7,0,5,6,9,4,8)\n",
    "print(sorted(g))   #-->sort can be used only in list class\n",
    "\n",
    "#12. arithmatic sum\n",
    "print(sum(g))"
   ]
  },
  {
   "cell_type": "code",
   "execution_count": 11,
   "id": "33a8591c",
   "metadata": {},
   "outputs": [
    {
     "name": "stdout",
     "output_type": "stream",
     "text": [
      "<class 'set'>\n",
      "9\n",
      "1\n"
     ]
    }
   ],
   "source": [
    "t3= {1, 4, 2, 7, 3, 9}\n",
    "# print(type(t3))\n",
    "print (max(t3))\n",
    "print (min(t3))"
   ]
  },
  {
   "cell_type": "code",
   "execution_count": 18,
   "id": "fbdfb22c",
   "metadata": {},
   "outputs": [
    {
     "name": "stdout",
     "output_type": "stream",
     "text": [
      "2\n"
     ]
    }
   ],
   "source": [
    "t = (1, 2, 3, 4, 5)\n",
    "t = t + (7,)\n",
    "print (t[1])"
   ]
  },
  {
   "cell_type": "code",
   "execution_count": 19,
   "id": "543dd780",
   "metadata": {},
   "outputs": [
    {
     "name": "stdout",
     "output_type": "stream",
     "text": [
      "<zip object at 0x000001E2CB559B00>\n",
      "(('Jenny', 'John'), ('Christy', 'Charles'), ('Monica', 'Mike'))\n"
     ]
    }
   ],
   "source": [
    "''' 1.The zip() function returns a zip object, which is an iterator of tuples \n",
    " where the first item in each passed iterator is paired together, \n",
    "then the second item in each passed iterator are paired together\n",
    "then third item in each passed iterator are paired together and so on'''\n",
    "\n",
    "a = (\"John\", \"Charles\", \"Mike\")\n",
    "b = (\"Jenny\", \"Christy\", \"Monica\")\n",
    "\n",
    "x = zip(a, b)\n",
    "print(x)\n",
    "\n",
    "''' 2.If the passed iterators have different lengths, the iterator with the \n",
    "least items decides the length of the new iterator.'''\n",
    "\n",
    "c = (\"John\", \"Charles\", \"Mike\")\n",
    "d = (\"Jenny\", \"Christy\", \"Monica\", \"Vicky\")\n",
    "\n",
    "x = zip(d, c)\n",
    "print(tuple(x))\n",
    "\n"
   ]
  },
  {
   "cell_type": "code",
   "execution_count": null,
   "id": "6f6661f4",
   "metadata": {},
   "outputs": [],
   "source": []
  }
 ],
 "metadata": {
  "kernelspec": {
   "display_name": "Python 3 (ipykernel)",
   "language": "python",
   "name": "python3"
  },
  "language_info": {
   "codemirror_mode": {
    "name": "ipython",
    "version": 3
   },
   "file_extension": ".py",
   "mimetype": "text/x-python",
   "name": "python",
   "nbconvert_exporter": "python",
   "pygments_lexer": "ipython3",
   "version": "3.9.12"
  }
 },
 "nbformat": 4,
 "nbformat_minor": 5
}
