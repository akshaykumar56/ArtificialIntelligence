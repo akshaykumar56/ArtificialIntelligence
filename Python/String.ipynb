{
 "cells": [
  {
   "cell_type": "code",
   "execution_count": 11,
   "id": "575a9cc8",
   "metadata": {},
   "outputs": [
    {
     "name": "stdout",
     "output_type": "stream",
     "text": [
      "<class 'str'>\n",
      "Good morning ,harry\n",
      "14\n",
      "y\n",
      "arry\n",
      "Go onn \n"
     ]
    }
   ],
   "source": [
    "greeting=\"Good morning ,\"\n",
    "name=\"harry\"\n",
    "print(type(greeting))\n",
    "print(greeting + name)  #-->concatenation operation\n",
    "c=len(greeting)\n",
    "print(c)\n",
    "\n",
    "print(name[4]) #-->accessing string element using index\n",
    "# name[3] =\"d\" -->doesn't work\n",
    "# print(name[1:5]) #--->string slicing\n",
    "# print(name[:4])  #---> is same as name[0:4]\n",
    "print(name[1:]) #---> is same as name[1:]\n",
    "# c=name[-4:-1] #--->is same as name[1:4]\n",
    "# print(c)\n",
    "\n",
    "\n",
    "# string with skip value\n",
    "print(greeting[0:15:2])"
   ]
  },
  {
   "cell_type": "code",
   "execution_count": 2,
   "id": "b31dca2c",
   "metadata": {},
   "outputs": [
    {
     "name": "stdout",
     "output_type": "stream",
     "text": [
      "['Python', 'tutorials', 'with', 'dotnettechpoint.com']\n",
      "Python tutorials with dotnettechpoint.com\n"
     ]
    }
   ],
   "source": [
    "story=\"once upon a time there was a coder whose name is akshay who uploaded python course with notes\"\n",
    "#string operations\n",
    "# print(len(story))\n",
    "# print(story.endswith(\"notes\"))\n",
    "# print(story.count(\"a\"))\n",
    "# print(story.count(\"akshay\"))\n",
    "# print(story.capitalize())\n",
    "# print(story.find(\"akshay\"))\n",
    "# print(story.replace(\"akshay\",\"harry\"))\n",
    "# print(story.upper())\n",
    "# print(story.lower())\n",
    "# print(story.title())\n",
    "# print(story.split())\n",
    "message =\"Python tutorials with dotnettechpoint.com\"  \n",
    "y=message.split(\" \")\n",
    "print(y)\n",
    "print(\" \".join(y))  "
   ]
  },
  {
   "cell_type": "code",
   "execution_count": 22,
   "id": "2bc2f5d7",
   "metadata": {},
   "outputs": [],
   "source": [
    "d=list(story)"
   ]
  },
  {
   "cell_type": "code",
   "execution_count": 23,
   "id": "7f29d169",
   "metadata": {},
   "outputs": [
    {
     "data": {
      "text/plain": [
       "['o',\n",
       " 'n',\n",
       " 'c',\n",
       " 'e',\n",
       " ' ',\n",
       " 'u',\n",
       " 'p',\n",
       " 'o',\n",
       " 'n',\n",
       " ' ',\n",
       " 'a',\n",
       " ' ',\n",
       " 't',\n",
       " 'i',\n",
       " 'm',\n",
       " 'e',\n",
       " ' ',\n",
       " 't',\n",
       " 'h',\n",
       " 'e',\n",
       " 'r',\n",
       " 'e',\n",
       " ' ',\n",
       " 'w',\n",
       " 'a',\n",
       " 's',\n",
       " ' ',\n",
       " 'a',\n",
       " ' ',\n",
       " 'c',\n",
       " 'o',\n",
       " 'd',\n",
       " 'e',\n",
       " 'r',\n",
       " ' ',\n",
       " 'w',\n",
       " 'h',\n",
       " 'o',\n",
       " 's',\n",
       " 'e',\n",
       " ' ',\n",
       " 'n',\n",
       " 'a',\n",
       " 'm',\n",
       " 'e',\n",
       " ' ',\n",
       " 'i',\n",
       " 's',\n",
       " ' ',\n",
       " 'a',\n",
       " 'k',\n",
       " 's',\n",
       " 'h',\n",
       " 'a',\n",
       " 'y',\n",
       " ' ',\n",
       " 'w',\n",
       " 'h',\n",
       " 'o',\n",
       " ' ',\n",
       " 'u',\n",
       " 'p',\n",
       " 'l',\n",
       " 'o',\n",
       " 'a',\n",
       " 'd',\n",
       " 'e',\n",
       " 'd',\n",
       " ' ',\n",
       " 'p',\n",
       " 'y',\n",
       " 't',\n",
       " 'h',\n",
       " 'o',\n",
       " 'n',\n",
       " ' ',\n",
       " 'c',\n",
       " 'o',\n",
       " 'u',\n",
       " 'r',\n",
       " 's',\n",
       " 'e',\n",
       " ' ',\n",
       " 'w',\n",
       " 'i',\n",
       " 't',\n",
       " 'h',\n",
       " ' ',\n",
       " 'n',\n",
       " 'o',\n",
       " 't',\n",
       " 'e',\n",
       " 's']"
      ]
     },
     "execution_count": 23,
     "metadata": {},
     "output_type": "execute_result"
    }
   ],
   "source": []
  },
  {
   "cell_type": "code",
   "execution_count": null,
   "id": "71554376",
   "metadata": {},
   "outputs": [],
   "source": [
    "\n",
    "\n",
    "\n",
    "\n",
    "#3. centre\n",
    "# txt = \"banana\"\n",
    "# x = txt.center(17,\"o\")\n",
    "# print(x)\n",
    "\n",
    "#4. encode\n",
    "# txt = \"My name is Ståle\"\n",
    "# x=print(txt.encode(encoding=\"ascii\")\n",
    "# # print(x) --> as we can see we cant print it\n",
    "\n",
    "#5.expandtab\n",
    "# txt = \"H\\te\\tl\\tl\\to\"\n",
    "\n",
    "# print(txt)\n",
    "# print(txt.expandtabs())\n",
    "# print(txt.expandtabs(2))\n",
    "# print(txt.expandtabs(4))\n",
    "# print(txt.expandtabs(10))"
   ]
  },
  {
   "cell_type": "code",
   "execution_count": 28,
   "id": "f53a6410",
   "metadata": {},
   "outputs": [
    {
     "name": "stdout",
     "output_type": "stream",
     "text": [
      "Hello, and welcome to my world.\n"
     ]
    }
   ],
   "source": [
    "#1. capitalize\n",
    "\n",
    "txt = \"hello, and welcome to my world.\"\n",
    "x = txt.capitalize()\n",
    "print (x)"
   ]
  },
  {
   "cell_type": "code",
   "execution_count": 33,
   "id": "18bbdcbe",
   "metadata": {},
   "outputs": [
    {
     "name": "stdout",
     "output_type": "stream",
     "text": [
      "hello, and welcome to my world!\n"
     ]
    }
   ],
   "source": [
    "#2. casefold\n",
    "txt = \"Hello, And Welcome To My World!\"\n",
    "x = txt.casefold()\n",
    "print(x)"
   ]
  },
  {
   "cell_type": "code",
   "execution_count": 35,
   "id": "0451d071",
   "metadata": {},
   "outputs": [
    {
     "name": "stdout",
     "output_type": "stream",
     "text": [
      "oooooobananaooooo\n"
     ]
    }
   ],
   "source": [
    "#3. centre\n",
    "txt = \"banana\"\n",
    "x = txt.center(17,\"o\")\n",
    "print(x)"
   ]
  },
  {
   "cell_type": "code",
   "execution_count": null,
   "id": "f9d129eb",
   "metadata": {},
   "outputs": [],
   "source": [
    "#4. encode\n",
    "txt = \"My name is Ståle\"\n",
    "x=print(txt.encode(encoding=\"ascii\")\n",
    "# print(x) --> as we can see we cant print it"
   ]
  },
  {
   "cell_type": "code",
   "execution_count": 40,
   "id": "fbd0fbd5",
   "metadata": {},
   "outputs": [
    {
     "name": "stdout",
     "output_type": "stream",
     "text": [
      "H\te\tl\tl\to\n",
      "H       e       l       l       o\n",
      "H e l l o\n",
      "H   e   l   l   o\n",
      "H         e         l         l         o\n"
     ]
    }
   ],
   "source": [
    "# 5.expandtab\n",
    "txt = \"H\\te\\tl\\tl\\to\"\n",
    "\n",
    "print(txt)\n",
    "print(txt.expandtabs())\n",
    "print(txt.expandtabs(2))\n",
    "print(txt.expandtabs(4))\n",
    "print(txt.expandtabs(10))"
   ]
  },
  {
   "cell_type": "code",
   "execution_count": 42,
   "id": "d09889d6",
   "metadata": {},
   "outputs": [
    {
     "name": "stdout",
     "output_type": "stream",
     "text": [
      "Tea Leaf\n",
      "Bee Bee Bee \n",
      "e\n",
      "room\n",
      "True\n",
      "False\n",
      "True\n",
      "False\n",
      "True\n",
      "False\n",
      "1\tBee\n",
      "2\\tTea\n",
      "Hi Homer\n"
     ]
    }
   ],
   "source": [
    "#1.concatenate\n",
    "a = \"Tea \" + \"Leaf\"\n",
    "print(a)\n",
    "\n",
    "#2.repeate the string to specified number of times \n",
    "a = \"Bee \" * 3\n",
    "print(a)\n",
    "\n",
    "#3.slice\n",
    "a = \"Sea\"\n",
    "print(a[1])\n",
    "\n",
    "#4.range slice\n",
    "a = \"Mushroom\"\n",
    "print(a[4:8])\n",
    "\n",
    "#5.in\n",
    "a = \"Mushroom\"\n",
    "print(\"m\" in a)\n",
    "print(\"b\" in a)\n",
    "print(\"shroo\" in a)\n",
    "\n",
    "#6.not in\n",
    "a = \"Mushroom\"\n",
    "print(\"m\" not in a)\n",
    "print(\"b\" not in a)\n",
    "print(\"shroo\" not in a)\n",
    "\n",
    "#7.r\n",
    "a = \"1\" + \"\\t\" + \"Bee\"   \n",
    "b = \"2\" + r\"\\t\" + \"Tea\"  # r prevents the escape character from being an escape character.\n",
    "print(a)\n",
    "print(b)\n",
    "\n",
    "\n",
    "#8.%  -->Performs string formatting\n",
    "a = \"Hi %s\" % (\"Homer\")\n",
    "print(a)"
   ]
  },
  {
   "cell_type": "code",
   "execution_count": 43,
   "id": "026dcc80",
   "metadata": {},
   "outputs": [
    {
     "name": "stdout",
     "output_type": "stream",
     "text": [
      "line1 line2 line3\n",
      "\\\n",
      "'\n"
     ]
    }
   ],
   "source": [
    "#1. new line\n",
    "print(\"line1 \\\n",
    "line2 \\\n",
    "line3\")\n",
    "\n",
    "#2.backslash\n",
    "print(\"\\\\\")\n",
    "\n",
    "#3.single quote\n",
    "print('\\'')"
   ]
  },
  {
   "cell_type": "code",
   "execution_count": 44,
   "id": "755ff49d",
   "metadata": {},
   "outputs": [
    {
     "name": "stdout",
     "output_type": "stream",
     "text": [
      "We have 49       chickens.\n",
      "We have       49 chickens.\n",
      "We have    49    chickens.\n",
      "We have       49 chickens.\n",
      "We have      +49 chickens.\n",
      "We have       49 chickens.\n",
      "We have 49 chickens.\n",
      "We have 49 chickens.\n",
      "We have 49 chickens.\n",
      "We have 110001 chickens.\n",
      "We have 1 chickens.\n",
      "We have 49 chickens.\n",
      "We have 4.900000e+01 chickens.\n",
      "We have 4.900000E+01 chickens.\n",
      "We have 49.000000 chickens.\n",
      "We have 49.000000 chickens.\n",
      "We have 49 chickens.\n",
      "We have 49 chickens.\n",
      "We have 61 chickens.\n",
      "We have 31 chickens.\n",
      "We have 31 chickens.\n",
      "We have 49 chickens.\n",
      "We have 4900.000000% chickens.\n"
     ]
    }
   ],
   "source": [
    "#6. formatting a string\n",
    "\n",
    "txt = \"We have {:<8} chickens.\"  #-> Left aligns the result (within the available space)\n",
    "print(txt.format(49))\n",
    "\n",
    "\n",
    "txt = \"We have {:>8} chickens.\"  #-> Right aligns the result (within the available space)\n",
    "print(txt.format(49))\n",
    "\n",
    "\n",
    "txt = \"We have {:^8} chickens.\"  #->Center aligns the result (within the available space)\n",
    "print(txt.format(49))\n",
    "\n",
    "\n",
    "txt = \"We have {:=8} chickens.\"  #->Places the sign to the left most position\n",
    "print(txt.format(49))\n",
    "\n",
    "\n",
    "txt = \"We have {:+8} chickens.\"  #->Use a plus sign to indicate if the result is positive or negative\n",
    "print(txt.format(49))\n",
    "\n",
    "txt = \"We have {:-8} chickens.\"  #->Use a minus sign for negative values only\n",
    "print(txt.format(49))\n",
    "\n",
    "\n",
    "txt = \"We have {:} chickens.\"    #->Use a space to insert an extra space before positive numbers (and a minus sign before negative numbers)\n",
    "print(txt.format(49))\n",
    "\n",
    "\n",
    "txt = \"We have {:,} chickens.\"   #->Use a comma as a thousand separator\n",
    "print(txt.format(49))\n",
    "\n",
    "\n",
    "txt = \"We have {:_} chickens.\"    #->Use a underscore as a thousand separator\n",
    "print(txt.format(49))\n",
    "\n",
    " \n",
    "txt = \"We have {:b} chickens.\"    #->Binary format\n",
    "print(txt.format(49))\n",
    "\n",
    "\n",
    "txt = \"We have {:c} chickens.\"    #->Converts the value into the corresponding unicode character\n",
    "print(txt.format(49))\n",
    "\n",
    "\n",
    "txt = \"We have {:d} chickens.\"    #->Decimal format\n",
    "print(txt.format(49))\n",
    "\n",
    "\n",
    "txt = \"We have {:e} chickens.\"   #->Scientific format, with a lower case e\n",
    "print(txt.format(49))\n",
    "\n",
    " \n",
    "txt = \"We have {:E} chickens.\"   #->Scientific format, with an upper case E\n",
    "print(txt.format(49))\n",
    "\n",
    "\n",
    "txt = \"We have {:f} chickens.\"   #->Fix point number format\n",
    "print(txt.format(49))\n",
    "\n",
    "\n",
    "txt = \"We have {:F} chickens.\"   #->Fix point number format, in uppercase format (show inf and nan as INF and NAN)\n",
    "print(txt.format(49))\n",
    "\n",
    "txt = \"We have {:g} chickens.\"   #->General format\n",
    "print(txt.format(49))\n",
    "\n",
    "txt = \"We have {:G} chickens.\"   #->General format (using a upper case E for scientific notations)\n",
    "print(txt.format(49))\n",
    "\n",
    "txt = \"We have {:o} chickens.\"   #->Octal format\n",
    "print(txt.format(49))\n",
    "\n",
    "txt = \"We have {:x} chickens.\"   #->Hex format, lower case\n",
    "print(txt.format(49))\n",
    "\n",
    "txt = \"We have {:X} chickens.\"   #->Hex format, upper case\n",
    "print(txt.format(49))\n",
    "\n",
    "txt = \"We have {:n} chickens.\"   #=>Number format\n",
    "print(txt.format(49))\n",
    "\n",
    "txt = \"We have {:%} chickens.\"   #->Percentage format\n",
    "print(txt.format(49))\n"
   ]
  },
  {
   "cell_type": "code",
   "execution_count": null,
   "id": "65c3e6b9",
   "metadata": {},
   "outputs": [],
   "source": []
  }
 ],
 "metadata": {
  "kernelspec": {
   "display_name": "Python 3 (ipykernel)",
   "language": "python",
   "name": "python3"
  },
  "language_info": {
   "codemirror_mode": {
    "name": "ipython",
    "version": 3
   },
   "file_extension": ".py",
   "mimetype": "text/x-python",
   "name": "python",
   "nbconvert_exporter": "python",
   "pygments_lexer": "ipython3",
   "version": "3.9.12"
  }
 },
 "nbformat": 4,
 "nbformat_minor": 5
}
