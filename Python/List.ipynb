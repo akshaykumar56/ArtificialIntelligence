{
 "cells": [
  {
   "cell_type": "code",
   "execution_count": 1,
   "id": "06f63849",
   "metadata": {},
   "outputs": [
    {
     "name": "stdout",
     "output_type": "stream",
     "text": [
      "<class 'list'>\n",
      "[1, 2, 4, 56, 3, 4]\n",
      "4\n",
      "[98, 2, 4, 56, 3, 4]\n",
      "<class 'list'>\n",
      "[1, 'harry', 98.0, (4+2j)]\n",
      "[1, 'harry', 98.0]\n",
      "4\n"
     ]
    }
   ],
   "source": [
    "#-->create a list using []\n",
    "#-->python list are container to store a set of value of any datatype\n",
    "#--> list are ordered\n",
    "a=[1,2,4,56,3,4]\n",
    "print(type(a))\n",
    "print(a)\n",
    "print(a[2])  #--> access element using index\n",
    "a[0]=98\n",
    "print(a)   #-> we can update elements of a list using this\n",
    "  \n",
    "  \n",
    "#-> we can create a list with items of different types \n",
    "c=[1,\"harry\",98.0,4+2j]\n",
    "print(type(c))\n",
    "print(c)\n",
    "\n",
    "\n",
    "#--> list slicing\n",
    "c=[1,\"harry\",98.0,4+2j]\n",
    "print(c[0:3])\n",
    "print(len(c))"
   ]
  },
  {
   "cell_type": "code",
   "execution_count": 2,
   "id": "041c2d84",
   "metadata": {},
   "outputs": [
    {
     "name": "stdout",
     "output_type": "stream",
     "text": [
      "[0, 1, 2, 3, 4, 5, 6, 7, 8, 9]\n",
      "[1, 2, 3, 4, 5, 6, 7, 8, 9, 10]\n",
      "[51, 52, 53, 54, 55]\n",
      "[1, 3, 5, 7, 9]\n"
     ]
    }
   ],
   "source": [
    "# #1.--> length of lidy\n",
    "\n",
    "# a = [\"bee\", \"moth\", \"ant\"]\n",
    "# print(len(a))\n",
    "\n",
    "# #2.-->list\n",
    "\n",
    "\n",
    "# a = \"bee\"\n",
    "# print(type(a))\n",
    "# print(list(a))\n",
    "\n",
    "# a = (\"I\", \"am\", \"a\", \"tuple\")\n",
    "# print(list(a))\n",
    "\n",
    "# a = {\"I\", \"am\", \"a\", \"set\"}\n",
    "# print(list(a))\n",
    "\n",
    "# #3.--> max\n",
    "\n",
    "\n",
    "# a = [\"bee\", \"moth\", \"ant\"]\n",
    "# print(max(a))\n",
    "\n",
    "# a = [\"bee\", \"moth\", \"wasp\"]\n",
    "# print(max(a))\n",
    "\n",
    "# a = [1, 2, 3, 4, 5]\n",
    "# b = [1, 2, 3, 4]\n",
    "# print(max(a, b))\n",
    "\n",
    "\n",
    "# 4.-->min\n",
    "# a = [\"bee\", \"moth\", \"wasp\"]\n",
    "# print(min(a))\n",
    "\n",
    "# a = [\"bee\", \"moth\", \"ant\"]\n",
    "# print(min(a))\n",
    "\n",
    "# a = [1, 2, 3, 4, 5]\n",
    "# b = [1, 2, 3, 4]\n",
    "# print(min(a, b))\n",
    "\n",
    "#5,--> range\n",
    "print(list(range(10)))\n",
    "print(list(range(1,11)))\n",
    "print(list(range(51,56)))\n",
    "print(list(range(1,11,2)))"
   ]
  },
  {
   "cell_type": "code",
   "execution_count": 3,
   "id": "a9712d81",
   "metadata": {},
   "outputs": [
    {
     "name": "stdout",
     "output_type": "stream",
     "text": [
      "[0, 1, 2, 3, 4, 5, 6, 7, 8, 9]\n",
      "[1, 2, 3, 4, 5, 6, 7, 8, 9]\n",
      "[1, 2, 3, 4, 5, 6, 7, 8]\n",
      "[1, 2, 3, 4, 5, 6, 8]\n"
     ]
    }
   ],
   "source": [
    "l = list(range(10))\n",
    "print(l)\n",
    "     # [0, 1, 2, 3, 4, 5, 6, 7, 8, 9]\n",
    "\n",
    "del l[0]\n",
    "print(l)\n",
    "# [1, 2, 3, 4, 5, 6, 7, 8, 9]\n",
    "\n",
    "del l[-1]\n",
    "print(l)\n",
    "# [1, 2, 3, 4, 5, 6, 7, 8]\n",
    "\n",
    "del l[6]\n",
    "print(l)\n",
    "# [1, 2, 3, 4, 5, 6, 8]"
   ]
  },
  {
   "cell_type": "code",
   "execution_count": 4,
   "id": "9bea8f7d",
   "metadata": {},
   "outputs": [
    {
     "name": "stdout",
     "output_type": "stream",
     "text": [
      "[1, 5, 3, 7, 4, 5, 2, 9, 35, 5, 32]\n",
      "[1, 2, 3, 4, 5, 5, 5, 7, 9, 32, 35]\n",
      "[35, 32, 9, 7, 5, 5, 5, 4, 3, 2, 1]\n",
      "1\n",
      "3\n"
     ]
    }
   ],
   "source": [
    "l1=[1,5,3,7,4,5,2,9,35,5,32]\n",
    "print(l1)\n",
    "l1.sort() #-> sort the list\n",
    "print(l1)\n",
    "\n",
    "l1.reverse() #->reverse the list\n",
    "print(l1)\n",
    "\n",
    "# l1.append(5)  #-> adds at the end of the list\n",
    "# l1.append(8) \n",
    "# print(l1)\n",
    "\n",
    "# l1.insert(5,10)  #-> insert 10 at index 5\n",
    "# print(l1)\n",
    "\n",
    "# l1.pop(2)  #-> will delete element at index 2 and return its value\n",
    "# print(l1)\n",
    "\n",
    "# l1.remove(32)  #-> will remove 32 from list\n",
    "# print(l1)\n",
    "\n",
    "# l1.extend([3,23,443,56,2]) #--> extend the list\n",
    "# print(l1)\n",
    "\n",
    "# l1.clear() #--> clear all elements fron list\n",
    "# print(l1)\n",
    "\n",
    "print(l1.index(32))  #--> give the index position of element\n",
    "\n",
    "print(l1.count(5))   #-->give the count of an element\n",
    "\n",
    "# WITHOUT copy()\n",
    "# a = [\"bee\", \"wasp\", \"moth\"]\n",
    "# b = a\n",
    "# b.append(\"ant\")\n",
    "# print(a)\n",
    "# print(b)\n",
    "\n",
    "# # WITH copy()\n",
    "# a = [\"bee\", \"wasp\", \"moth\"]\n",
    "# b = a.copy()\n",
    "# b.append(\"ant\")\n",
    "# print(a)\n",
    "# print(b)"
   ]
  },
  {
   "cell_type": "code",
   "execution_count": null,
   "id": "52a5346e",
   "metadata": {},
   "outputs": [],
   "source": []
  }
 ],
 "metadata": {
  "kernelspec": {
   "display_name": "Python 3 (ipykernel)",
   "language": "python",
   "name": "python3"
  },
  "language_info": {
   "codemirror_mode": {
    "name": "ipython",
    "version": 3
   },
   "file_extension": ".py",
   "mimetype": "text/x-python",
   "name": "python",
   "nbconvert_exporter": "python",
   "pygments_lexer": "ipython3",
   "version": "3.9.12"
  }
 },
 "nbformat": 4,
 "nbformat_minor": 5
}
