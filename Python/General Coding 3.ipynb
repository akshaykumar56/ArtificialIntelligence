{
 "cells": [
  {
   "cell_type": "code",
   "execution_count": 1,
   "id": "3a5222ee",
   "metadata": {},
   "outputs": [
    {
     "name": "stdout",
     "output_type": "stream",
     "text": [
      "Enter First digit: 6\n",
      "Enter Second digit: 8\n",
      "Enter Third digit: 9\n",
      "Enter Forth digit: 0\n",
      "6 8 9\n",
      "6 8 0\n",
      "6 9 8\n",
      "6 9 0\n",
      "6 0 8\n",
      "6 0 9\n",
      "8 6 9\n",
      "8 6 0\n",
      "8 9 6\n",
      "8 9 0\n",
      "8 0 6\n",
      "8 0 9\n",
      "9 6 8\n",
      "9 6 0\n",
      "9 8 6\n",
      "9 8 0\n",
      "9 0 6\n",
      "9 0 8\n",
      "0 6 8\n",
      "0 6 9\n",
      "0 8 6\n",
      "0 8 9\n",
      "0 9 6\n",
      "0 9 8\n"
     ]
    }
   ],
   "source": [
    "a=int(input(\"Enter First digit: \"))\n",
    "b=int(input(\"Enter Second digit: \"))\n",
    "c=int(input(\"Enter Third digit: \"))\n",
    "e=int(input(\"Enter Forth digit: \"))\n",
    "d=[]\n",
    "d.append(a)\n",
    "d.append(b)\n",
    "d.append(c)\n",
    "d.append(e)\n",
    "for i in d:\n",
    "    for j in d:\n",
    "        for k in d:\n",
    "            if i!=j and j!=k and k!=i:\n",
    "                print(i,j,k)"
   ]
  },
  {
   "cell_type": "code",
   "execution_count": 17,
   "id": "b25ea6f5",
   "metadata": {},
   "outputs": [
    {
     "name": "stdout",
     "output_type": "stream",
     "text": [
      "Please Enter any Side1 of a Rectangle  : 6\n",
      "Please Enter any Side2 of a REctangle  : 7\n",
      "Hollow Square Star Pattern\n",
      "*  *  *  *  *  *  *  \n",
      "*                 *  \n",
      "*                 *  \n",
      "*                 *  \n",
      "*                 *  \n",
      "*  *  *  *  *  *  *  \n"
     ]
    }
   ],
   "source": [
    "#  Python Program to Print Hollow Square Star Pattern\n",
    "\n",
    "side1 = int(input(\"Please Enter any Side1 of a Rectangle  : \"))\n",
    "side2 = int(input(\"Please Enter any Side2 of a REctangle  : \"))\n",
    "print(\"Hollow Square Star Pattern\") \n",
    "for i in range(side1):\n",
    "    for j in range(side2):\n",
    "        if(i == 0 or i == side1 - 1 or j == 0 or j == side2 - 1):\n",
    "            print('*', end = '  ')\n",
    "        else:\n",
    "            print(' ', end = '  ')\n",
    "    print()"
   ]
  },
  {
   "cell_type": "code",
   "execution_count": null,
   "id": "524fadcb",
   "metadata": {},
   "outputs": [],
   "source": []
  },
  {
   "cell_type": "code",
   "execution_count": 7,
   "id": "ad54fd90",
   "metadata": {},
   "outputs": [
    {
     "name": "stdout",
     "output_type": "stream",
     "text": [
      "Please Enter any Side of a Square  : 6\n",
      "Square Star Pattern\n",
      "*  *  *  *  *  *  \n",
      "*  *  *  *  *  *  \n",
      "*  *  *  *  *  *  \n",
      "*  *  *  *  *  *  \n",
      "*  *  *  *  *  *  \n",
      "*  *  *  *  *  *  \n"
     ]
    }
   ],
   "source": [
    "side = int(input(\"Please Enter any Side of a Square  : \"))\n",
    "print(\"Square Star Pattern\") \n",
    "for i in range(side):\n",
    "    for i in range(side):\n",
    "        print('*', end = '  ')\n",
    "    print()"
   ]
  },
  {
   "cell_type": "code",
   "execution_count": 5,
   "id": "941d8deb",
   "metadata": {},
   "outputs": [
    {
     "name": "stdout",
     "output_type": "stream",
     "text": [
      "Square Star Pattern\n",
      "*  *  *  *  *  *  \n",
      "*  *  *  *  *  *  \n",
      "*  *  *  *  *  *  \n",
      "*  *  *  *  *  *  \n",
      "*  *  *  *  *  *  \n",
      "*  *  *  *  *  *  \n"
     ]
    }
   ],
   "source": [
    "### side = int(input(\"Please Enter any Side of a Square  : \"))\n",
    "print(\"Square Star Pattern\") \n",
    "for i in range(side):\n",
    "    for i in range(side):\n",
    "        print('*', end = '  ')\n",
    "    print()"
   ]
  },
  {
   "cell_type": "code",
   "execution_count": 21,
   "id": "6f7254c6",
   "metadata": {},
   "outputs": [
    {
     "name": "stdout",
     "output_type": "stream",
     "text": [
      "Enter a:0\n",
      "Arithmetic Error\n"
     ]
    }
   ],
   "source": [
    "try:\n",
    "    a=int(input(\"Enter a:\"))\n",
    "    b=10\n",
    "    c=b/a\n",
    "    print(c)\n",
    "except:\n",
    "    print(\"Arithmetic Error\")"
   ]
  },
  {
   "cell_type": "code",
   "execution_count": null,
   "id": "6387dae6",
   "metadata": {},
   "outputs": [],
   "source": [
    "str=s\n",
    "    d=len(str)\n",
    "    l=[]\n",
    "    for i in range(d):\n",
    "        if(ord(str[i])>64 and ord(str[i])<91):\n",
    "            l.append(str[i].lower())\n",
    "        elif(ord(str[i])>99 and ord(str[i])<123):\n",
    "            l.append(str[i].upper())\n",
    "        else:\n",
    "            l.append(str[i])\n",
    "        e=\"\".join(l)"
   ]
  },
  {
   "cell_type": "code",
   "execution_count": null,
   "id": "9f02b842",
   "metadata": {},
   "outputs": [],
   "source": [
    "a=input(\"Enter String:\")\n",
    "b=len(a)\n",
    "d=[]\n",
    "for i in range(0,b):\n",
    "    if(ord(a[i])>64 and ord(a[i])<91):\n",
    "        d.append(a[i].lower())\n",
    "    elif (ord(a[i])>96 and ord(a[i])<123):\n",
    "        d.append(a[i].upper())\n",
    "    else:\n",
    "        d.append(a[i])\n",
    " \n",
    "print(\"\".join(d))"
   ]
  },
  {
   "cell_type": "code",
   "execution_count": null,
   "id": "b7c1d0b3",
   "metadata": {},
   "outputs": [],
   "source": [
    "l=[1,2,2,6,8,7,5,6,5,4,5,2,3]\n",
    "d={}\n",
    "for i in l:\n",
    "    if i in d:\n",
    "        d[i]+=1\n",
    "    else:\n",
    "        d[i]=1\n",
    "print(d)"
   ]
  }
 ],
 "metadata": {
  "kernelspec": {
   "display_name": "Python 3 (ipykernel)",
   "language": "python",
   "name": "python3"
  },
  "language_info": {
   "codemirror_mode": {
    "name": "ipython",
    "version": 3
   },
   "file_extension": ".py",
   "mimetype": "text/x-python",
   "name": "python",
   "nbconvert_exporter": "python",
   "pygments_lexer": "ipython3",
   "version": "3.9.12"
  }
 },
 "nbformat": 4,
 "nbformat_minor": 5
}
