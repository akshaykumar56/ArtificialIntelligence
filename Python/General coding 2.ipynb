{
 "cells": [
  {
   "cell_type": "code",
   "execution_count": 2,
   "id": "5f21879d",
   "metadata": {},
   "outputs": [
    {
     "name": "stdout",
     "output_type": "stream",
     "text": [
      "5\n"
     ]
    }
   ],
   "source": [
    "# Given a string s consisting of words and spaces, return the length of last word\n",
    "string=\"hello world\"\n",
    "d=string.split()\n",
    "print(len(d[1]))"
   ]
  },
  {
   "cell_type": "code",
   "execution_count": 3,
   "id": "35bb514a",
   "metadata": {},
   "outputs": [
    {
     "name": "stdout",
     "output_type": "stream",
     "text": [
      "Enter Your First Name: akshay\n",
      "Enter Your Last Name: palsra\n",
      "hello akshay palsra! You entered the python course\n"
     ]
    }
   ],
   "source": [
    "# yor are given the first and last name of a person on two different lines. \n",
    "a=input(\"Enter Your First Name: \")\n",
    "b=input(\"Enter Your Last Name: \")\n",
    "print(\"hello {} {}! You entered the python course\".format(a,b))\n"
   ]
  },
  {
   "cell_type": "code",
   "execution_count": 4,
   "id": "d2627d67",
   "metadata": {},
   "outputs": [
    {
     "name": "stdout",
     "output_type": "stream",
     "text": [
      "3\n"
     ]
    }
   ],
   "source": [
    "#you are given the firstname and lastname od a person\n",
    "def find(string1,string2):\n",
    "    if string2 in string1:\n",
    "        print(string1.count(string2))\n",
    "    else: \n",
    "        print(\"the given word is not present in the string\")\n",
    "d=\"It is a very good day. It is a beautiful day,day is a very good\"\n",
    "e=\"day\"\n",
    "find(d,e)"
   ]
  },
  {
   "cell_type": "code",
   "execution_count": 14,
   "id": "586d9e27",
   "metadata": {},
   "outputs": [
    {
     "name": "stdout",
     "output_type": "stream",
     "text": [
      "Enter the input:aksSHSTSGDgegdgYSywdh\n",
      "AKSshstsgdGEGDGysYWDH\n"
     ]
    }
   ],
   "source": [
    "k=input(\"Enter the input:\")\n",
    "def convert(k):\n",
    "    l=[]\n",
    "    for i in k:\n",
    "        if ord(i)>=65 and ord(i)<=90:\n",
    "            l.append(i.lower())\n",
    "        elif ord(i)>=97 and ord(i)<=122:\n",
    "            l.append(i.upper())\n",
    "        else:\n",
    "            continue\n",
    "    return(\"\".join (l[:]))\n",
    "print(convert(k))\n"
   ]
  },
  {
   "cell_type": "code",
   "execution_count": 15,
   "id": "c48e112b",
   "metadata": {},
   "outputs": [
    {
     "name": "stdout",
     "output_type": "stream",
     "text": [
      "['hey', 'enjoy', 'the', 'classes']\n",
      "<class 'list'>\n"
     ]
    }
   ],
   "source": [
    "# write a code snippet to convert a string to a list\n",
    "string=\"hey enjoy the classes\"\n",
    "c=string.split()\n",
    "print(c)\n",
    "print(type(c))"
   ]
  },
  {
   "cell_type": "code",
   "execution_count": 16,
   "id": "09c85e36",
   "metadata": {},
   "outputs": [
    {
     "name": "stdout",
     "output_type": "stream",
     "text": [
      "4\n",
      "9\n",
      "25\n",
      "49\n",
      "121\n"
     ]
    }
   ],
   "source": [
    "#  Performing mathematical operation on the entire list\n",
    "my_list=[2,3,5,7,11]\n",
    "for x in my_list:\n",
    "    print(pow(x,2))\n"
   ]
  },
  {
   "cell_type": "code",
   "execution_count": 10,
   "id": "10030225",
   "metadata": {},
   "outputs": [
    {
     "name": "stdout",
     "output_type": "stream",
     "text": [
      "Enter a number: 100220210\n",
      "100220210 is not binary\n"
     ]
    }
   ],
   "source": [
    "# program to determine wheter a number is binary or not.\n",
    "def isbinary(num):\n",
    "     d=len(num)\n",
    "     count=0\n",
    "     for x in range(0,d):\n",
    "         if(num[x]==\"0\" or num[x]==\"1\"):\n",
    "             count=count+1\n",
    " \n",
    "     if(count==d):\n",
    "         print(\"{} is binary\".format(num))\n",
    "     else:\n",
    "         print(\"{} is not binary\".format(num))\n",
    "d=input(\"Enter a number: \")\n",
    "isbinary(d)"
   ]
  },
  {
   "cell_type": "code",
   "execution_count": 12,
   "id": "0f6be9bd",
   "metadata": {},
   "outputs": [
    {
     "name": "stdout",
     "output_type": "stream",
     "text": [
      "<class 'dict'>\n",
      "90\n"
     ]
    }
   ],
   "source": [
    "dict={\"physics\":90,\n",
    "     \"chemistry\":65,\n",
    "      \"history\":35}\n",
    "print(type(dict))\n",
    "print(dict['physics'])"
   ]
  }
 ],
 "metadata": {
  "kernelspec": {
   "display_name": "Python 3 (ipykernel)",
   "language": "python",
   "name": "python3"
  },
  "language_info": {
   "codemirror_mode": {
    "name": "ipython",
    "version": 3
   },
   "file_extension": ".py",
   "mimetype": "text/x-python",
   "name": "python",
   "nbconvert_exporter": "python",
   "pygments_lexer": "ipython3",
   "version": "3.9.12"
  }
 },
 "nbformat": 4,
 "nbformat_minor": 5
}
