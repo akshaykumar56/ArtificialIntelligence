{
 "cells": [
  {
   "cell_type": "markdown",
   "id": "48f75278",
   "metadata": {},
   "source": [
    "### Name:"
   ]
  },
  {
   "cell_type": "markdown",
   "id": "2dfb63bb",
   "metadata": {},
   "source": [
    "Q1. Print the summation of all the numbers from 1 to 101?"
   ]
  },
  {
   "cell_type": "code",
   "execution_count": null,
   "id": "84aa86ea",
   "metadata": {},
   "outputs": [],
   "source": [
    "\n"
   ]
  },
  {
   "cell_type": "markdown",
   "id": "6fd9790f",
   "metadata": {},
   "source": [
    "Q2. Suppose you have sequence from 1 to 100. Write a python program in which if number is divisible by 6 print \"Python\" and if number is divisble by 9 print \"AI\" and if the number is divisble by both 6 and 9 then print \"AIPython\" and if there is no divisblity then number should print."
   ]
  },
  {
   "cell_type": "code",
   "execution_count": null,
   "id": "9bb22d82",
   "metadata": {},
   "outputs": [],
   "source": []
  },
  {
   "cell_type": "markdown",
   "id": "f50b34c1",
   "metadata": {},
   "source": [
    "Q2.Create an array of 30 linearly spaced points between 0 and 1."
   ]
  },
  {
   "cell_type": "code",
   "execution_count": null,
   "id": "e653e4b6",
   "metadata": {},
   "outputs": [],
   "source": []
  },
  {
   "cell_type": "markdown",
   "id": "4a45b76c",
   "metadata": {},
   "source": [
    "Q3. Get the sum of all columns in mat,\n",
    "\n",
    "mat = ([[ 1,  2,  3,  4,  5],\n",
    "       [ 6,  7,  8,  9, 10],\n",
    "       [11, 12, 13, 14, 15],\n",
    "       [16, 17, 18, 19, 20],\n",
    "       [21, 22, 23, 24, 25]])"
   ]
  },
  {
   "cell_type": "code",
   "execution_count": null,
   "id": "2555e340",
   "metadata": {},
   "outputs": [],
   "source": []
  },
  {
   "cell_type": "markdown",
   "id": "e0b41364",
   "metadata": {},
   "source": [
    "Q4.  What were the highest and lowest purchase prices using pandas in attached ecommerce purchases file?"
   ]
  },
  {
   "cell_type": "code",
   "execution_count": null,
   "id": "ba01f821",
   "metadata": {},
   "outputs": [],
   "source": []
  },
  {
   "cell_type": "markdown",
   "id": "4a57341d",
   "metadata": {},
   "source": [
    "Q5 How many people have English 'en' as their Language of choice on the website in ecommerce file?"
   ]
  },
  {
   "cell_type": "code",
   "execution_count": null,
   "id": "a71a9b98",
   "metadata": {},
   "outputs": [],
   "source": []
  },
  {
   "cell_type": "markdown",
   "id": "c03cf7f0",
   "metadata": {},
   "source": [
    "#####  Data\n",
    "\n",
    "import numpy as np\n",
    "x = np.arange(0,100)\n",
    "y = x*2\n",
    "z = x**2\n",
    "\n",
    "** Import matplotlib.pyplot as plt and set %matplotlib inline if you are using the jupyter notebook.\n",
    "\n",
    "Q6. Use plt.subplots(nrows=1, ncols=2) to create the plot below.\n",
    "\n",
    "Now plot (x,y) and (x,z) on the axes. With the linewidth = 2 and style = for plot 1 blue color dotted line and plot 2 green color star(*) line\n",
    "\n",
    "And save image in jpg format.\n",
    "\n"
   ]
  },
  {
   "cell_type": "code",
   "execution_count": null,
   "id": "774ab73b",
   "metadata": {},
   "outputs": [],
   "source": []
  },
  {
   "cell_type": "markdown",
   "id": "bb07fa5a",
   "metadata": {},
   "source": [
    "Q7. What is Linear Regression? Write the code to call model and import the required libraries for it"
   ]
  },
  {
   "cell_type": "code",
   "execution_count": null,
   "id": "e78f10a4",
   "metadata": {},
   "outputs": [],
   "source": []
  },
  {
   "cell_type": "markdown",
   "id": "99f42a3b",
   "metadata": {},
   "source": [
    "Q8. Difference between Linear Regression and Logistic Regression (any 2)"
   ]
  },
  {
   "cell_type": "code",
   "execution_count": null,
   "id": "60cdf3ab",
   "metadata": {},
   "outputs": [],
   "source": []
  },
  {
   "cell_type": "markdown",
   "id": "8237de62",
   "metadata": {},
   "source": [
    "Q9. Import the Library to remove the warnings from code."
   ]
  },
  {
   "cell_type": "code",
   "execution_count": null,
   "id": "b221adbe",
   "metadata": {},
   "outputs": [],
   "source": []
  },
  {
   "attachments": {
    "image-2.png": {
     "image/png": "[encoded data removed]"
    }
   },
   "cell_type": "markdown",
   "id": "3f4639ff",
   "metadata": {},
   "source": [
    "Q10. ![image-2.png](attachment:image-2.png)"
   ]
  },
  {
   "cell_type": "markdown",
   "id": "c7e34155",
   "metadata": {},
   "source": [
    "Plot the above countplot graph data using seaboarn library the data to be used is titanic data default data present under seaborn library."
   ]
  },
  {
   "cell_type": "code",
   "execution_count": null,
   "id": "9620626f",
   "metadata": {},
   "outputs": [],
   "source": []
  }
 ],
 "metadata": {
  "kernelspec": {
   "display_name": "Python 3 (ipykernel)",
   "language": "python",
   "name": "python3"
  },
  "language_info": {
   "codemirror_mode": {
    "name": "ipython",
    "version": 3
   },
   "file_extension": ".py",
   "mimetype": "text/x-python",
   "name": "python",
   "nbconvert_exporter": "python",
   "pygments_lexer": "ipython3",
   "version": "3.9.12"
  }
 },
 "nbformat": 4,
 "nbformat_minor": 5
}
