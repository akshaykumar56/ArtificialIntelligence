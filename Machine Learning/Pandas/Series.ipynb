{
 "cells": [
  {
   "cell_type": "code",
   "execution_count": 2,
   "id": "2f4f543e",
   "metadata": {},
   "outputs": [
    {
     "name": "stdout",
     "output_type": "stream",
     "text": [
      "0    P\n",
      "1    a\n",
      "2    n\n",
      "3    d\n",
      "4    a\n",
      "5    s\n",
      "dtype: object\n"
     ]
    }
   ],
   "source": [
    "# We can create Series by using various inputs:\n",
    "# Array\n",
    "# Dict\n",
    "# Scalar value\n",
    "import pandas as pd  \n",
    "import numpy as np  \n",
    "info = np.array(['P','a','n','d','a','s'])  \n",
    "a = pd.Series(info)  \n",
    "print(a) "
   ]
  },
  {
   "cell_type": "code",
   "execution_count": 3,
   "id": "b0c32615",
   "metadata": {},
   "outputs": [
    {
     "name": "stdout",
     "output_type": "stream",
     "text": [
      "x    0.0\n",
      "y    1.0\n",
      "z    2.0\n",
      "dtype: float64\n"
     ]
    }
   ],
   "source": [
    "#import the pandas library   \n",
    "import pandas as pd  \n",
    "import numpy as np  \n",
    "info = {'x' : 0., 'y' : 1., 'z' : 2.}  \n",
    "a = pd.Series(info)  \n",
    "print (a)"
   ]
  },
  {
   "cell_type": "code",
   "execution_count": 4,
   "id": "39c44de6",
   "metadata": {},
   "outputs": [
    {
     "name": "stdout",
     "output_type": "stream",
     "text": [
      "0    4\n",
      "1    4\n",
      "2    4\n",
      "3    4\n",
      "dtype: int64\n"
     ]
    }
   ],
   "source": [
    "import pandas as pd  \n",
    "import numpy as np  \n",
    "x = pd.Series(4, index=[0, 1, 2, 3])  \n",
    "print (x)"
   ]
  },
  {
   "cell_type": "code",
   "execution_count": 6,
   "id": "dbe63c99",
   "metadata": {},
   "outputs": [
    {
     "name": "stdout",
     "output_type": "stream",
     "text": [
      "1 1\n",
      "4 3\n",
      "32 24\n"
     ]
    }
   ],
   "source": [
    "import numpy as np   \n",
    "import pandas as pd   \n",
    "a=pd.Series(data=[1,2,3,4])   \n",
    "b=pd.Series(data=[4.9,8.2,5.6],  \n",
    "index=['x','y','z'])  \n",
    "# used to print the dimension of series\n",
    "print(a.ndim, b.ndim) \n",
    "\n",
    "# used to print the size of series\n",
    "print(a.size, b.size)\n",
    "\n",
    "# used to print the total number of bytes it contain\n",
    "print(a.nbytes, b.nbytes)  "
   ]
  },
  {
   "cell_type": "code",
   "execution_count": 15,
   "id": "60b1a0ac",
   "metadata": {},
   "outputs": [
    {
     "name": "stdout",
     "output_type": "stream",
     "text": [
      "False False True\n",
      "True False False\n",
      "4 3\n",
      "3 3\n"
     ]
    }
   ],
   "source": [
    "import numpy as np   \n",
    "import pandas as pd   \n",
    "a=pd.Series(data=[1,2,3,np.NaN])   \n",
    "b=pd.Series(data=[4.9,8.2,5.6],index=['x','y','z'])   \n",
    "c=pd.Series(dtype='float64')   \n",
    "\n",
    "# check if series if empty or not\n",
    "print(a.empty,b.empty,c.empty)   \n",
    "\n",
    "# check if series contain null value or not\n",
    "print(a.hasnans,b.hasnans,c.hasnans)   \n",
    "\n",
    "# print the length of series\n",
    "print(len(a),len(b)) \n",
    "\n",
    "# print the number of elements it contain\n",
    "print(a.count( ),b.count( ))  "
   ]
  },
  {
   "cell_type": "code",
   "execution_count": null,
   "id": "51e34475",
   "metadata": {},
   "outputs": [],
   "source": []
  }
 ],
 "metadata": {
  "kernelspec": {
   "display_name": "Python 3 (ipykernel)",
   "language": "python",
   "name": "python3"
  },
  "language_info": {
   "codemirror_mode": {
    "name": "ipython",
    "version": 3
   },
   "file_extension": ".py",
   "mimetype": "text/x-python",
   "name": "python",
   "nbconvert_exporter": "python",
   "pygments_lexer": "ipython3",
   "version": "3.9.12"
  }
 },
 "nbformat": 4,
 "nbformat_minor": 5
}
