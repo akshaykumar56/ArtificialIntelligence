{
 "cells": [
  {
   "cell_type": "code",
   "execution_count": null,
   "id": "9819fc5f",
   "metadata": {},
   "outputs": [],
   "source": [
    "pip install pandas"
   ]
  },
  {
   "cell_type": "code",
   "execution_count": 16,
   "id": "38520aa3",
   "metadata": {},
   "outputs": [
    {
     "name": "stdout",
     "output_type": "stream",
     "text": [
      "0    10\n",
      "1    56\n",
      "2    87\n",
      "3    90\n",
      "4    34\n",
      "5    23\n",
      "6    12\n",
      "7    58\n",
      "dtype: int64\n"
     ]
    }
   ],
   "source": [
    "list=[10,56,87,90,34,23,12,58]\n",
    "d=pd.Series(list)\n",
    "print(d)\n"
   ]
  },
  {
   "cell_type": "code",
   "execution_count": 19,
   "id": "75fc19aa",
   "metadata": {},
   "outputs": [
    {
     "name": "stdout",
     "output_type": "stream",
     "text": [
      "physics      95\n",
      "chemistry    96\n",
      "math         91\n",
      "dtype: int64\n"
     ]
    },
    {
     "data": {
      "text/plain": [
       "95"
      ]
     },
     "execution_count": 19,
     "metadata": {},
     "output_type": "execute_result"
    }
   ],
   "source": [
    "dict={\"physics\":95,\n",
    "     \"chemistry\":96,\n",
    "     \"math\":91}\n",
    "d=pd.Series(dict)\n",
    "print(d)\n",
    "d[\"physics\"]"
   ]
  },
  {
   "cell_type": "code",
   "execution_count": 27,
   "id": "3163bae8",
   "metadata": {},
   "outputs": [
    {
     "name": "stdout",
     "output_type": "stream",
     "text": [
      "4\n"
     ]
    }
   ],
   "source": [
    "e={\"USA\":1,\"Germany\":1,\"Japan\":4}\n",
    "print(e[\"Japan\"])"
   ]
  },
  {
   "cell_type": "code",
   "execution_count": 26,
   "id": "1ea846b8",
   "metadata": {},
   "outputs": [],
   "source": [
    "from numpy.random import(randn)\n",
    "x=np.random.seed(202)"
   ]
  },
  {
   "cell_type": "code",
   "execution_count": 30,
   "id": "f2673261",
   "metadata": {},
   "outputs": [
    {
     "name": "stdout",
     "output_type": "stream",
     "text": [
      "          W         X         Y         Z\n",
      "A -1.790209 -0.292157 -0.331039  0.809957\n",
      "B -1.130349 -0.387018 -0.073094 -0.191489\n",
      "C  0.069849 -0.941902 -0.729284 -0.155633\n",
      "D  2.163578 -0.055617 -1.175500 -0.556433\n",
      "E  0.617155  1.107772  0.112114  0.891698\n"
     ]
    }
   ],
   "source": [
    "df=pd.DataFrame(randn(5,4),index=\"A B C D E\".split(),columns='W X Y Z'.split())\n",
    "print(df)"
   ]
  },
  {
   "cell_type": "code",
   "execution_count": 40,
   "id": "602558d3",
   "metadata": {},
   "outputs": [
    {
     "data": {
      "text/html": [
       "<div>\n",
       "<style scoped>\n",
       "    .dataframe tbody tr th:only-of-type {\n",
       "        vertical-align: middle;\n",
       "    }\n",
       "\n",
       "    .dataframe tbody tr th {\n",
       "        vertical-align: top;\n",
       "    }\n",
       "\n",
       "    .dataframe thead th {\n",
       "        text-align: right;\n",
       "    }\n",
       "</style>\n",
       "<table border=\"1\" class=\"dataframe\">\n",
       "  <thead>\n",
       "    <tr style=\"text-align: right;\">\n",
       "      <th></th>\n",
       "      <th>W</th>\n",
       "      <th>X</th>\n",
       "      <th>Y</th>\n",
       "      <th>Z</th>\n",
       "    </tr>\n",
       "  </thead>\n",
       "  <tbody>\n",
       "    <tr>\n",
       "      <th>B</th>\n",
       "      <td>-1.130349</td>\n",
       "      <td>-0.387018</td>\n",
       "      <td>-0.073094</td>\n",
       "      <td>-0.191489</td>\n",
       "    </tr>\n",
       "    <tr>\n",
       "      <th>C</th>\n",
       "      <td>0.069849</td>\n",
       "      <td>-0.941902</td>\n",
       "      <td>-0.729284</td>\n",
       "      <td>-0.155633</td>\n",
       "    </tr>\n",
       "    <tr>\n",
       "      <th>D</th>\n",
       "      <td>2.163578</td>\n",
       "      <td>-0.055617</td>\n",
       "      <td>-1.175500</td>\n",
       "      <td>-0.556433</td>\n",
       "    </tr>\n",
       "    <tr>\n",
       "      <th>E</th>\n",
       "      <td>0.617155</td>\n",
       "      <td>1.107772</td>\n",
       "      <td>0.112114</td>\n",
       "      <td>0.891698</td>\n",
       "    </tr>\n",
       "  </tbody>\n",
       "</table>\n",
       "</div>"
      ],
      "text/plain": [
       "          W         X         Y         Z\n",
       "B -1.130349 -0.387018 -0.073094 -0.191489\n",
       "C  0.069849 -0.941902 -0.729284 -0.155633\n",
       "D  2.163578 -0.055617 -1.175500 -0.556433\n",
       "E  0.617155  1.107772  0.112114  0.891698"
      ]
     },
     "execution_count": 40,
     "metadata": {},
     "output_type": "execute_result"
    }
   ],
   "source": [
    "df.drop('A',axis=0)"
   ]
  },
  {
   "cell_type": "code",
   "execution_count": 42,
   "id": "08bd9a14",
   "metadata": {},
   "outputs": [
    {
     "name": "stdout",
     "output_type": "stream",
     "text": [
      "          W         X         Y         Z       new\n",
      "A -1.790209 -0.292157 -0.331039  0.809957 -2.082366\n",
      "B -1.130349 -0.387018 -0.073094 -0.191489 -1.517367\n",
      "C  0.069849 -0.941902 -0.729284 -0.155633 -0.872053\n",
      "D  2.163578 -0.055617 -1.175500 -0.556433  2.107961\n",
      "E  0.617155  1.107772  0.112114  0.891698  1.724927\n"
     ]
    }
   ],
   "source": [
    "df['new']=df['W']+df['X']\n",
    "print(df)"
   ]
  },
  {
   "cell_type": "code",
   "execution_count": 49,
   "id": "06b19fe5",
   "metadata": {},
   "outputs": [
    {
     "data": {
      "text/plain": [
       "W      2.163578\n",
       "X     -0.055617\n",
       "Y     -1.175500\n",
       "Z     -0.556433\n",
       "new    2.107961\n",
       "Name: D, dtype: float64"
      ]
     },
     "execution_count": 49,
     "metadata": {},
     "output_type": "execute_result"
    }
   ],
   "source": [
    "df.iloc[3]"
   ]
  },
  {
   "cell_type": "code",
   "execution_count": 51,
   "id": "66784137",
   "metadata": {},
   "outputs": [
    {
     "data": {
      "text/html": [
       "<div>\n",
       "<style scoped>\n",
       "    .dataframe tbody tr th:only-of-type {\n",
       "        vertical-align: middle;\n",
       "    }\n",
       "\n",
       "    .dataframe tbody tr th {\n",
       "        vertical-align: top;\n",
       "    }\n",
       "\n",
       "    .dataframe thead th {\n",
       "        text-align: right;\n",
       "    }\n",
       "</style>\n",
       "<table border=\"1\" class=\"dataframe\">\n",
       "  <thead>\n",
       "    <tr style=\"text-align: right;\">\n",
       "      <th></th>\n",
       "      <th>W</th>\n",
       "      <th>X</th>\n",
       "      <th>Y</th>\n",
       "      <th>Z</th>\n",
       "      <th>new</th>\n",
       "    </tr>\n",
       "  </thead>\n",
       "  <tbody>\n",
       "    <tr>\n",
       "      <th>C</th>\n",
       "      <td>0.069849</td>\n",
       "      <td>-0.941902</td>\n",
       "      <td>-0.729284</td>\n",
       "      <td>-0.155633</td>\n",
       "      <td>-0.872053</td>\n",
       "    </tr>\n",
       "    <tr>\n",
       "      <th>D</th>\n",
       "      <td>2.163578</td>\n",
       "      <td>-0.055617</td>\n",
       "      <td>-1.175500</td>\n",
       "      <td>-0.556433</td>\n",
       "      <td>2.107961</td>\n",
       "    </tr>\n",
       "    <tr>\n",
       "      <th>E</th>\n",
       "      <td>0.617155</td>\n",
       "      <td>1.107772</td>\n",
       "      <td>0.112114</td>\n",
       "      <td>0.891698</td>\n",
       "      <td>1.724927</td>\n",
       "    </tr>\n",
       "  </tbody>\n",
       "</table>\n",
       "</div>"
      ],
      "text/plain": [
       "          W         X         Y         Z       new\n",
       "C  0.069849 -0.941902 -0.729284 -0.155633 -0.872053\n",
       "D  2.163578 -0.055617 -1.175500 -0.556433  2.107961\n",
       "E  0.617155  1.107772  0.112114  0.891698  1.724927"
      ]
     },
     "execution_count": 51,
     "metadata": {},
     "output_type": "execute_result"
    }
   ],
   "source": [
    "df[df['W']>0]"
   ]
  },
  {
   "cell_type": "code",
   "execution_count": 52,
   "id": "cbcb4001",
   "metadata": {},
   "outputs": [
    {
     "data": {
      "text/plain": [
       "C   -0.729284\n",
       "D   -1.175500\n",
       "E    0.112114\n",
       "Name: Y, dtype: float64"
      ]
     },
     "execution_count": 52,
     "metadata": {},
     "output_type": "execute_result"
    }
   ],
   "source": [
    "df[df['W']>0]['Y']"
   ]
  },
  {
   "cell_type": "code",
   "execution_count": 56,
   "id": "ca709fef",
   "metadata": {},
   "outputs": [
    {
     "data": {
      "text/plain": [
       "C   -0.729284\n",
       "D   -1.175500\n",
       "E    0.112114\n",
       "Name: Y, dtype: float64"
      ]
     },
     "execution_count": 56,
     "metadata": {},
     "output_type": "execute_result"
    }
   ],
   "source": [
    "df[df['W']>0]['Y']"
   ]
  },
  {
   "cell_type": "code",
   "execution_count": 60,
   "id": "ef2067d4",
   "metadata": {},
   "outputs": [
    {
     "data": {
      "text/html": [
       "<div>\n",
       "<style scoped>\n",
       "    .dataframe tbody tr th:only-of-type {\n",
       "        vertical-align: middle;\n",
       "    }\n",
       "\n",
       "    .dataframe tbody tr th {\n",
       "        vertical-align: top;\n",
       "    }\n",
       "\n",
       "    .dataframe thead th {\n",
       "        text-align: right;\n",
       "    }\n",
       "</style>\n",
       "<table border=\"1\" class=\"dataframe\">\n",
       "  <thead>\n",
       "    <tr style=\"text-align: right;\">\n",
       "      <th></th>\n",
       "      <th>W</th>\n",
       "      <th>X</th>\n",
       "      <th>Y</th>\n",
       "      <th>Z</th>\n",
       "      <th>new</th>\n",
       "    </tr>\n",
       "  </thead>\n",
       "  <tbody>\n",
       "    <tr>\n",
       "      <th>C</th>\n",
       "      <td>0.069849</td>\n",
       "      <td>-0.941902</td>\n",
       "      <td>-0.729284</td>\n",
       "      <td>-0.155633</td>\n",
       "      <td>-0.872053</td>\n",
       "    </tr>\n",
       "    <tr>\n",
       "      <th>D</th>\n",
       "      <td>2.163578</td>\n",
       "      <td>-0.055617</td>\n",
       "      <td>-1.175500</td>\n",
       "      <td>-0.556433</td>\n",
       "      <td>2.107961</td>\n",
       "    </tr>\n",
       "    <tr>\n",
       "      <th>E</th>\n",
       "      <td>0.617155</td>\n",
       "      <td>1.107772</td>\n",
       "      <td>0.112114</td>\n",
       "      <td>0.891698</td>\n",
       "      <td>1.724927</td>\n",
       "    </tr>\n",
       "  </tbody>\n",
       "</table>\n",
       "</div>"
      ],
      "text/plain": [
       "          W         X         Y         Z       new\n",
       "C  0.069849 -0.941902 -0.729284 -0.155633 -0.872053\n",
       "D  2.163578 -0.055617 -1.175500 -0.556433  2.107961\n",
       "E  0.617155  1.107772  0.112114  0.891698  1.724927"
      ]
     },
     "execution_count": 60,
     "metadata": {},
     "output_type": "execute_result"
    }
   ],
   "source": [
    "df[df['W']>0 & (df['Y']<1)]\n"
   ]
  },
  {
   "cell_type": "code",
   "execution_count": null,
   "id": "57da914b",
   "metadata": {},
   "outputs": [],
   "source": []
  }
 ],
 "metadata": {
  "kernelspec": {
   "display_name": "Python 3 (ipykernel)",
   "language": "python",
   "name": "python3"
  },
  "language_info": {
   "codemirror_mode": {
    "name": "ipython",
    "version": 3
   },
   "file_extension": ".py",
   "mimetype": "text/x-python",
   "name": "python",
   "nbconvert_exporter": "python",
   "pygments_lexer": "ipython3",
   "version": "3.9.12"
  }
 },
 "nbformat": 4,
 "nbformat_minor": 5
}
